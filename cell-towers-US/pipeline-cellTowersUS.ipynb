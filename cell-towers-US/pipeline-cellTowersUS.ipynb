{
 "cells": [
  {
   "cell_type": "code",
   "execution_count": 1,
   "metadata": {},
   "outputs": [
    {
     "name": "stdout",
     "output_type": "stream",
     "text": [
      "Python 3.8.10\n"
     ]
    }
   ],
   "source": [
    "!python --version"
   ]
  },
  {
   "cell_type": "code",
   "execution_count": 2,
   "metadata": {},
   "outputs": [],
   "source": [
    "!pip install plotly missingno haversine Pyomo -q"
   ]
  },
  {
   "cell_type": "code",
   "execution_count": 3,
   "metadata": {},
   "outputs": [
    {
     "name": "stdout",
     "output_type": "stream",
     "text": [
      "Collecting package metadata (current_repodata.json): done\n",
      "Solving environment: done\n",
      "\n",
      "\n",
      "==> WARNING: A newer version of conda exists. <==\n",
      "  current version: 4.10.1\n",
      "  latest version: 23.3.1\n",
      "\n",
      "Please update conda by running\n",
      "\n",
      "    $ conda update -n base conda\n",
      "\n",
      "\n",
      "\n",
      "# All requested packages already installed.\n",
      "\n"
     ]
    }
   ],
   "source": [
    "!conda install glpk -y "
   ]
  },
  {
   "cell_type": "markdown",
   "metadata": {},
   "source": [
    "Restart kernel if needed."
   ]
  },
  {
   "cell_type": "code",
   "execution_count": 4,
   "metadata": {},
   "outputs": [],
   "source": [
    "import numpy as np # linear algebra\n",
    "import pandas as pd # data processing, CSV file I/O (e.g. pd.read_csv)\n",
    "import plotly.express as px #graphing\n",
    "import matplotlib.pyplot as plt #graphing\n",
    "import seaborn as sns #graphing\n",
    "import missingno as msno #describe data\n",
    "import os\n",
    "from haversine import haversine, Unit\n",
    "import pyomo.environ as pyo\n",
    "\n",
    "sns.set(rc = {\"figure.figsize\":(10, 6)})"
   ]
  },
  {
   "cell_type": "markdown",
   "metadata": {},
   "source": [
    "# Pipeline"
   ]
  },
  {
   "cell_type": "code",
   "execution_count": 5,
   "metadata": {},
   "outputs": [],
   "source": [
    "!pip install kfp --upgrade -q"
   ]
  },
  {
   "cell_type": "code",
   "execution_count": 6,
   "metadata": {},
   "outputs": [],
   "source": [
    "!pip install mlflow==1.13.1 boto3 awscli pyarrow kaleido -q"
   ]
  },
  {
   "cell_type": "code",
   "execution_count": 7,
   "metadata": {},
   "outputs": [],
   "source": [
    "import kfp\n",
    "from kfp import dsl"
   ]
  },
  {
   "cell_type": "code",
   "execution_count": 8,
   "metadata": {},
   "outputs": [
    {
     "name": "stdout",
     "output_type": "stream",
     "text": [
      "2023-03-30 07:11:57 bpk-nb-minio\n",
      "2023-03-28 20:02:11 mlflow\n",
      "2023-03-28 20:06:42 mlpipeline\n"
     ]
    }
   ],
   "source": [
    "!aws --endpoint-url $MLFLOW_S3_ENDPOINT_URL s3 ls"
   ]
  },
  {
   "cell_type": "markdown",
   "metadata": {},
   "source": [
    "## Steps"
   ]
  },
  {
   "cell_type": "code",
   "execution_count": 10,
   "metadata": {},
   "outputs": [],
   "source": [
    "web_downloader_op = kfp.components.load_component_from_url(\n",
    "            'https://raw.githubusercontent.com/kubeflow/pipelines/master/components/contrib/web/Download/component.yaml')"
   ]
  },
  {
   "cell_type": "code",
   "execution_count": 11,
   "metadata": {
    "tags": []
   },
   "outputs": [],
   "source": [
    "def eda_celltowers(celltowers_path: kfp.components.InputPath('CSV'),\n",
    "              graph_path: kfp.components.OutputBinaryFile(bytes)):\n",
    "    import pandas as pd\n",
    "    import matplotlib.pyplot as plt\n",
    "    import seaborn as sns\n",
    "    \n",
    "    df1 = pd.read_csv(celltowers_path)\n",
    "    # Goodbye Alaska and Hawaii\n",
    "    hi = df1[df1[\"state\"] == \"HI\"].index\n",
    "    ak = df1[df1[\"state\"] == \"AK\"].index\n",
    "    vidor = df1[df1[\"city\"] == \"Vidor\"].index\n",
    "\n",
    "    df1.drop(hi, inplace = True)\n",
    "    df1.drop(ak, inplace = True)\n",
    "    df1.drop(vidor, inplace = True)\n",
    "    plt.style.use(\"dark_background\")\n",
    "    plt.figure(figsize = (16, 8))\n",
    "    sns.scatterplot(data = df1, x = \"longitude\", y = \"latitude\", hue = \"license\", \n",
    "                size = \"structure\", sizes = (2, 20), # marker sizes\n",
    "                palette = (\"#00A8E0\", \"#cd040b\"))\n",
    "\n",
    "    plt.title(\"Location of Cellular Towers in the United States by License Ownership\")\n",
    "    plt.legend()\n",
    "    plt.savefig(graph_path)\n",
    "    \n",
    "eda_celltowers_op = kfp.components.create_component_from_func(\n",
    "        func=eda_celltowers,\n",
    "        output_component_file='eda_celltowers-component.yaml', # This is optional. It saves the component spec for future use.\n",
    "        base_image='python:3.9.15',\n",
    "        packages_to_install=['pandas', 'seaborn', 'matplotlib'])\n",
    "\n",
    "# eda_celltowers_op(\"celltowers.csv\", \"towers.png\")"
   ]
  },
  {
   "cell_type": "code",
   "execution_count": 12,
   "metadata": {},
   "outputs": [],
   "source": [
    "def eda_census(census_path: kfp.components.InputPath('CSV'),\n",
    "              graph_path: kfp.components.OutputBinaryFile(bytes)):\n",
    "    import matplotlib.pyplot as plt\n",
    "    import plotly.graph_objects as go\n",
    "    import pandas as pd\n",
    "\n",
    "    df = pd.read_csv(census_path)\n",
    "    df = df.head(30)\n",
    "    \n",
    "    fig = go.Figure(data=[go.Table(\n",
    "        header=dict(values=list(df.columns),\n",
    "                    fill_color='paleturquoise',\n",
    "                    align='left'),\n",
    "        cells=dict(values=[df.City, df.State, df.Type, df.Counties, df.Population, df. Latitude, df. Longitude],\n",
    "                   fill_color='lavender',\n",
    "                   align='left'))\n",
    "    ])\n",
    "    # fig.show()\n",
    "    fig.write_image(graph_path)\n",
    "    \n",
    "eda_census_op = kfp.components.create_component_from_func(\n",
    "        func=eda_census,\n",
    "        output_component_file='eda_census-component.yaml', # This is optional. It saves the component spec for future use.\n",
    "        base_image='python:3.9.15',\n",
    "        packages_to_install=['pandas', 'matplotlib', 'plotly', 'kaleido'])\n",
    "\n",
    "# eda_census(\"us2021census.csv\", \"census.png\")"
   ]
  },
  {
   "cell_type": "code",
   "execution_count": 13,
   "metadata": {},
   "outputs": [],
   "source": [
    "def build_model(census_path: kfp.components.InputPath('CSV'), \n",
    "                celltowers_path: kfp.components.InputPath('CSV'), \n",
    "                graph_path: kfp.components.OutputBinaryFile(bytes)):\n",
    "    import mlflow\n",
    "    import pandas as pd\n",
    "    from haversine import haversine, Unit\n",
    "    import pyomo.environ as pyo\n",
    "    import urllib.request\n",
    "    import matplotlib.pyplot as plt\n",
    "    \n",
    "    urllib.request.urlretrieve(\"https://raw.githubusercontent.com/Barteus/kubeflow-examples/main/cell-towers-US/fultoncountyGA.jpg\", \"map.jpg\")\n",
    "    \n",
    "    dfc = pd.read_csv(census_path)\n",
    "    df_towers = pd.read_csv(celltowers_path)\n",
    "    \n",
    "    LocID  = list(range(1, 16))\n",
    "\n",
    "    dff = dfc[(dfc.Counties.str.contains('Fulton')) & (dfc.State == \"GA\")]\n",
    "    dff.insert(0,\"LocID\",LocID,True)\n",
    "    \n",
    "    def calcDistance (c1,c2,t1,n1,t2,n2):\n",
    "        lat_lon1=(t1,n1)\n",
    "        lat_lon2=(t2,n2)\n",
    "        return {(c1,c2):int(haversine(lat_lon1, lat_lon2, unit=Unit.MILES))}\n",
    "\n",
    "    nparr=dff.to_numpy()\n",
    "    \n",
    "    dist={}\n",
    "    c={}\n",
    "    a={}\n",
    "    # cov_lim is the coverage range of each tower in miles\n",
    "    cov_lim=10\n",
    "    for i in range(len(nparr)):\n",
    "        c.update({nparr[i,0]:nparr[i,5]})\n",
    "        for j in range(len(nparr)):\n",
    "            c1=nparr[i,0]; c2=nparr[j,0];\n",
    "            t1=nparr[i,6]; n1=nparr[i,7];\n",
    "            t2=nparr[j,6]; n2=nparr[j,7];\n",
    "            dist.update(calcDistance(c1,c2,t1,n1,t2,n2))\n",
    "            if dist[c1,c2]<cov_lim:\n",
    "                a.update({(c1,c2):1})\n",
    "            else:\n",
    "                a.update({(c1,c2):0})\n",
    "                \n",
    "                \n",
    "    N = nparr[:,0]\n",
    "    M = nparr[:,0]\n",
    "    P = 3\n",
    "    \n",
    "    def create_coverage_model(N, M, a, c, P):\n",
    "        model = pyo.ConcreteModel(name=\"Maximal_Coverage\")\n",
    "        model.x = pyo.Var(N, within=pyo.Binary)\n",
    "        model.z = pyo.Var(M, within=pyo.Binary)\n",
    "\n",
    "        def obj_rule(mdl):\n",
    "            return sum(c[m]*mdl.z[m] for m in M)\n",
    "        model.obj = pyo.Objective(rule=obj_rule,sense=pyo.maximize)\n",
    "\n",
    "        def coverage_rule(mdl, m):\n",
    "            return mdl.z[m]<=sum(a[m,n]*mdl.x[n] for n in N) \n",
    "        model.demand = pyo.Constraint(M, rule=coverage_rule)\n",
    "\n",
    "        def num_towers_rule(mdl):\n",
    "            return sum(mdl.x[n] for n in N) <= P\n",
    "        model.num_stores = pyo.Constraint(rule=num_towers_rule)\n",
    "\n",
    "        return model\n",
    "    \n",
    "    model = create_coverage_model(N, M, a, c, P)\n",
    "    solver = pyo.SolverFactory(\"glpk\")\n",
    "    res = solver.solve(model, tee=True)\n",
    "    model.x.pprint() # Print the optimal cell tower locations for Verizon\n",
    "    model.z.pprint() # Print if customer at each location are covered or not\n",
    "    print(model.obj())\n",
    "    \n",
    "    num=0.2\n",
    "    BBox = (dff.Longitude.min()-num,   dff.Longitude.max()+num,      \n",
    "             dff.Latitude.min()-num, dff.Latitude.max()+num)\n",
    "    \n",
    "    fcm = plt.imread('map.jpg')\n",
    "    fig, ax = plt.subplots(figsize = (8,7))\n",
    "    for i in range(15):\n",
    "        latitude = nparr[i,6]\n",
    "        longitude= nparr[i,7]\n",
    "        if (pyo.value(model.x[nparr[i,0]])) == 1:\n",
    "            ax.scatter(longitude,latitude,zorder=1, alpha= 0.2, color ='red', s=19300,)\n",
    "            ax.scatter(longitude,latitude,zorder=1, alpha= 1, color ='blue', s=50,)\n",
    "        else:\n",
    "            ax.scatter(longitude,latitude,zorder=1, alpha= 1, color ='black', s=50,)\n",
    "    ax.set_title('Proposed Verizon Cellular Tower Locations')\n",
    "    ax.set_xlim(BBox[0],BBox[1])\n",
    "    ax.set_ylim(BBox[2],BBox[3])\n",
    "    ax.imshow(fcm, zorder=0, extent = BBox, aspect= 'equal')\n",
    "    print(type(fig))\n",
    "    plt.savefig(graph_path)\n",
    "    \n",
    "    \n",
    "    \n",
    "build_model_op = kfp.components.create_component_from_func(\n",
    "        func=build_model,\n",
    "        output_component_file='build-model-component.yaml', # This is optional. It saves the component spec for future use.\n",
    "        base_image='bponieckiklotz/kfp-steps:glpk-dev',\n",
    "        packages_to_install=['pandas', 'matplotlib', 'mlflow==1.30', 'boto3', 'haversine', 'missingno', 'Pyomo'])\n",
    "\n",
    "# build_model(census_path=\"us2021census.csv\", celltowers_path=\"celltowers.csv\", graph_path=\"modeloutput.png\")"
   ]
  },
  {
   "cell_type": "code",
   "execution_count": 14,
   "metadata": {},
   "outputs": [],
   "source": [
    "from kubernetes.client.models import V1EnvVar\n",
    "from kfp.onprem import use_k8s_secret\n",
    "\n",
    "@dsl.pipeline(\n",
    "    name=\"e2e_telco_pipeline\",\n",
    "    description=\"Telco pipeline\",\n",
    ")\n",
    "def telco_pipeline(celltowers_url, census_url):\n",
    "    celltowers_downloader_task = web_downloader_op(celltowers_url)\n",
    "    eda_celltowers_task = eda_celltowers_op(celltowers_downloader_task.outputs['data'])\n",
    "    census_downloader_task = web_downloader_op(census_url)\n",
    "    eda_census_task = eda_census_op(census_downloader_task.outputs['data'])\n",
    "    build_model_task = (build_model_op(census_downloader_task.outputs['data'], \n",
    "                                      celltowers_downloader_task.outputs['data'])\n",
    "                        .add_env_variable(V1EnvVar(name='MLFLOW_TRACKING_URI', value='http://mlflow-server.kubeflow.svc.cluster.local:5000'))\n",
    "                        .add_env_variable(V1EnvVar(name='MLFLOW_S3_ENDPOINT_URL', value='http://minio.kubeflow.svc.cluster.local:9000'))\n",
    "                         #https://kubeflow-pipelines.readthedocs.io/en/stable/source/kfp.extensions.html#kfp.onprem.use_k8s_secret\n",
    "                        .apply(use_k8s_secret(secret_name='mlpipeline-minio-artifact', k8s_secret_key_to_env={\n",
    "                         'accesskey': 'AWS_ACCESS_KEY_ID',\n",
    "                         'secretkey': 'AWS_SECRET_ACCESS_KEY',\n",
    "                        })))\n",
    "    "
   ]
  },
  {
   "cell_type": "code",
   "execution_count": 15,
   "metadata": {},
   "outputs": [],
   "source": [
    "client = kfp.Client()"
   ]
  },
  {
   "cell_type": "code",
   "execution_count": 16,
   "metadata": {},
   "outputs": [
    {
     "data": {
      "text/html": [
       "<a href=\"/pipeline/#/experiments/details/7cf0b02a-ae5c-402a-894b-3fee53e04786\" target=\"_blank\" >Experiment details</a>."
      ],
      "text/plain": [
       "<IPython.core.display.HTML object>"
      ]
     },
     "metadata": {},
     "output_type": "display_data"
    },
    {
     "data": {
      "text/html": [
       "<a href=\"/pipeline/#/runs/details/8a5ba51d-ae63-44c7-8daa-9573ebc42b4f\" target=\"_blank\" >Run details</a>."
      ],
      "text/plain": [
       "<IPython.core.display.HTML object>"
      ]
     },
     "metadata": {},
     "output_type": "display_data"
    },
    {
     "data": {
      "text/plain": [
       "RunPipelineResult(run_id=8a5ba51d-ae63-44c7-8daa-9573ebc42b4f)"
      ]
     },
     "execution_count": 16,
     "metadata": {},
     "output_type": "execute_result"
    }
   ],
   "source": [
    "client.create_run_from_pipeline_func(\n",
    "    telco_pipeline,\n",
    "    arguments={\n",
    "        \"celltowers_url\": \"https://raw.githubusercontent.com/Barteus/kubeflow-examples/main/cell-towers-US/celltowers.csv\",\n",
    "        \"census_url\": \"https://raw.githubusercontent.com/Barteus/kubeflow-examples/main/cell-towers-US/us2021census.csv\",\n",
    "    })"
   ]
  },
  {
   "cell_type": "code",
   "execution_count": null,
   "metadata": {},
   "outputs": [],
   "source": []
  },
  {
   "cell_type": "code",
   "execution_count": null,
   "metadata": {},
   "outputs": [],
   "source": []
  }
 ],
 "metadata": {
  "kernelspec": {
   "display_name": "Python 3 (ipykernel)",
   "language": "python",
   "name": "python3"
  },
  "language_info": {
   "codemirror_mode": {
    "name": "ipython",
    "version": 3
   },
   "file_extension": ".py",
   "mimetype": "text/x-python",
   "name": "python",
   "nbconvert_exporter": "python",
   "pygments_lexer": "ipython3",
   "version": "3.8.10"
  }
 },
 "nbformat": 4,
 "nbformat_minor": 4
}
