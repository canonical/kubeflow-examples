{
 "cells": [
  {
   "cell_type": "markdown",
   "id": "b46a8ea0-e797-4e09-8b1a-7fd6036e48cc",
   "metadata": {},
   "source": [
    "# MLflow K-serve example integration\n",
    "This example shows how to train a regressor with scikit. Store the model object in the MLflow and deploy the same object with the K-serve. This example expects the Kubeflow and the MLflow bundle being deployed. Please reffer to [this guide](https://documentation.ubuntu.com/charmed-mlflow/en/latest/tutorial/mlflow-kubeflow/). Following environment variables are expected to be set (in case of charmed kubeflow they are set for you):\n",
    "\n",
    "* MLFLOW_S3_ENDPOINT_URL: endpoint for object storage \n",
    "* MLFLOW_TRACKING_URI: endpoint for mlflow server\n",
    "* AWS_SECRET_ACCESS_KEY: secret key for object storage\n",
    "* AWS_ACCESS_KEY_ID: username for object storage"
   ]
  },
  {
   "cell_type": "code",
   "execution_count": 2,
   "id": "d6bf6636-f4cf-4c0e-88e5-e3539af29cdb",
   "metadata": {
    "tags": []
   },
   "outputs": [
    {
     "name": "stdout",
     "output_type": "stream",
     "text": [
      "AWS_ACCESS_KEY_ID=minio\n",
      "AWS_SECRET_ACCESS_KEY=08MND4UU8TAW48U0TIZMN10N994YNU\n"
     ]
    }
   ],
   "source": [
    "!printenv | grep AWS"
   ]
  },
  {
   "cell_type": "code",
   "execution_count": 3,
   "id": "96621cb1-da6c-4a2e-94b6-bad7b8f1dd9a",
   "metadata": {
    "tags": []
   },
   "outputs": [
    {
     "name": "stdout",
     "output_type": "stream",
     "text": [
      "MLFLOW_TRACKING_URI=http://10.1.137.14:5000/\n",
      "MLFLOW_S3_ENDPOINT_URL=http://10.1.137.21:9000/\n"
     ]
    }
   ],
   "source": [
    "!printenv | grep MLFLOW"
   ]
  },
  {
   "cell_type": "code",
   "execution_count": 4,
   "id": "3af5326c-f855-415e-840f-ac2d30f126a0",
   "metadata": {
    "tags": []
   },
   "outputs": [
    {
     "name": "stdout",
     "output_type": "stream",
     "text": [
      "Requirement already satisfied: scikit-learn in /home/pocik/.pyenv/versions/3.8.0/envs/pip-compile8/lib/python3.8/site-packages (1.2.2)\n",
      "Requirement already satisfied: mlflow==2.1.1 in /home/pocik/.pyenv/versions/3.8.0/envs/pip-compile8/lib/python3.8/site-packages (2.1.1)\n",
      "Requirement already satisfied: boto3 in /home/pocik/.pyenv/versions/3.8.0/envs/pip-compile8/lib/python3.8/site-packages (1.26.147)\n",
      "Requirement already satisfied: markdown<4,>=3.3 in /home/pocik/.pyenv/versions/3.8.0/envs/pip-compile8/lib/python3.8/site-packages (from mlflow==2.1.1) (3.4.3)\n",
      "Requirement already satisfied: Jinja2<4,>=2.11 in /home/pocik/.pyenv/versions/3.8.0/envs/pip-compile8/lib/python3.8/site-packages (from mlflow==2.1.1) (3.1.2)\n",
      "Requirement already satisfied: matplotlib<4 in /home/pocik/.pyenv/versions/3.8.0/envs/pip-compile8/lib/python3.8/site-packages (from mlflow==2.1.1) (3.7.1)\n",
      "Requirement already satisfied: alembic<2 in /home/pocik/.pyenv/versions/3.8.0/envs/pip-compile8/lib/python3.8/site-packages (from mlflow==2.1.1) (1.11.1)\n",
      "Requirement already satisfied: querystring-parser<2 in /home/pocik/.pyenv/versions/3.8.0/envs/pip-compile8/lib/python3.8/site-packages (from mlflow==2.1.1) (1.2.4)\n",
      "Requirement already satisfied: entrypoints<1 in /home/pocik/.pyenv/versions/3.8.0/envs/pip-compile8/lib/python3.8/site-packages (from mlflow==2.1.1) (0.4)\n",
      "Requirement already satisfied: importlib-metadata!=4.7.0,<6,>=3.7.0 in /home/pocik/.pyenv/versions/3.8.0/envs/pip-compile8/lib/python3.8/site-packages (from mlflow==2.1.1) (5.2.0)\n",
      "Requirement already satisfied: packaging<23 in /home/pocik/.pyenv/versions/3.8.0/envs/pip-compile8/lib/python3.8/site-packages (from mlflow==2.1.1) (22.0)\n",
      "Requirement already satisfied: pandas<2 in /home/pocik/.pyenv/versions/3.8.0/envs/pip-compile8/lib/python3.8/site-packages (from mlflow==2.1.1) (1.5.3)\n",
      "Requirement already satisfied: requests<3,>=2.17.3 in /home/pocik/.pyenv/versions/3.8.0/envs/pip-compile8/lib/python3.8/site-packages (from mlflow==2.1.1) (2.31.0)\n",
      "Requirement already satisfied: pyyaml<7,>=5.1 in /home/pocik/.pyenv/versions/3.8.0/envs/pip-compile8/lib/python3.8/site-packages (from mlflow==2.1.1) (6.0)\n",
      "Requirement already satisfied: scipy<2 in /home/pocik/.pyenv/versions/3.8.0/envs/pip-compile8/lib/python3.8/site-packages (from mlflow==2.1.1) (1.10.1)\n",
      "Requirement already satisfied: gunicorn<21 in /home/pocik/.pyenv/versions/3.8.0/envs/pip-compile8/lib/python3.8/site-packages (from mlflow==2.1.1) (20.1.0)\n",
      "Requirement already satisfied: pyarrow<11,>=4.0.0 in /home/pocik/.pyenv/versions/3.8.0/envs/pip-compile8/lib/python3.8/site-packages (from mlflow==2.1.1) (10.0.1)\n",
      "Requirement already satisfied: protobuf<5,>=3.12.0 in /home/pocik/.pyenv/versions/3.8.0/envs/pip-compile8/lib/python3.8/site-packages (from mlflow==2.1.1) (3.20.3)\n",
      "Requirement already satisfied: gitpython<4,>=2.1.0 in /home/pocik/.pyenv/versions/3.8.0/envs/pip-compile8/lib/python3.8/site-packages (from mlflow==2.1.1) (3.1.31)\n",
      "Requirement already satisfied: docker<7,>=4.0.0 in /home/pocik/.pyenv/versions/3.8.0/envs/pip-compile8/lib/python3.8/site-packages (from mlflow==2.1.1) (6.1.3)\n",
      "Requirement already satisfied: Flask<3 in /home/pocik/.pyenv/versions/3.8.0/envs/pip-compile8/lib/python3.8/site-packages (from mlflow==2.1.1) (2.3.2)\n",
      "Requirement already satisfied: sqlparse<1,>=0.4.0 in /home/pocik/.pyenv/versions/3.8.0/envs/pip-compile8/lib/python3.8/site-packages (from mlflow==2.1.1) (0.4.4)\n",
      "Requirement already satisfied: databricks-cli<1,>=0.8.7 in /home/pocik/.pyenv/versions/3.8.0/envs/pip-compile8/lib/python3.8/site-packages (from mlflow==2.1.1) (0.17.7)\n",
      "Requirement already satisfied: shap<1,>=0.40 in /home/pocik/.pyenv/versions/3.8.0/envs/pip-compile8/lib/python3.8/site-packages (from mlflow==2.1.1) (0.41.0)\n",
      "Requirement already satisfied: sqlalchemy<2,>=1.4.0 in /home/pocik/.pyenv/versions/3.8.0/envs/pip-compile8/lib/python3.8/site-packages (from mlflow==2.1.1) (1.4.49)\n",
      "Requirement already satisfied: cloudpickle<3 in /home/pocik/.pyenv/versions/3.8.0/envs/pip-compile8/lib/python3.8/site-packages (from mlflow==2.1.1) (2.2.1)\n",
      "Requirement already satisfied: click<9,>=7.0 in /home/pocik/.pyenv/versions/3.8.0/envs/pip-compile8/lib/python3.8/site-packages (from mlflow==2.1.1) (8.1.3)\n",
      "Requirement already satisfied: numpy<2 in /home/pocik/.pyenv/versions/3.8.0/envs/pip-compile8/lib/python3.8/site-packages (from mlflow==2.1.1) (1.23.5)\n",
      "Requirement already satisfied: pytz<2023 in /home/pocik/.pyenv/versions/3.8.0/envs/pip-compile8/lib/python3.8/site-packages (from mlflow==2.1.1) (2022.7.1)\n",
      "Requirement already satisfied: threadpoolctl>=2.0.0 in /home/pocik/.pyenv/versions/3.8.0/envs/pip-compile8/lib/python3.8/site-packages (from scikit-learn) (3.1.0)\n",
      "Requirement already satisfied: joblib>=1.1.1 in /home/pocik/.pyenv/versions/3.8.0/envs/pip-compile8/lib/python3.8/site-packages (from scikit-learn) (1.2.0)\n",
      "Requirement already satisfied: botocore<1.30.0,>=1.29.147 in /home/pocik/.pyenv/versions/3.8.0/envs/pip-compile8/lib/python3.8/site-packages (from boto3) (1.29.147)\n",
      "Requirement already satisfied: jmespath<2.0.0,>=0.7.1 in /home/pocik/.pyenv/versions/3.8.0/envs/pip-compile8/lib/python3.8/site-packages (from boto3) (1.0.1)\n",
      "Requirement already satisfied: s3transfer<0.7.0,>=0.6.0 in /home/pocik/.pyenv/versions/3.8.0/envs/pip-compile8/lib/python3.8/site-packages (from boto3) (0.6.1)\n",
      "Requirement already satisfied: typing-extensions>=4 in /home/pocik/.pyenv/versions/3.8.0/envs/pip-compile8/lib/python3.8/site-packages (from alembic<2->mlflow==2.1.1) (4.6.3)\n",
      "Requirement already satisfied: Mako in /home/pocik/.pyenv/versions/3.8.0/envs/pip-compile8/lib/python3.8/site-packages (from alembic<2->mlflow==2.1.1) (1.2.4)\n",
      "Requirement already satisfied: importlib-resources in /home/pocik/.pyenv/versions/3.8.0/envs/pip-compile8/lib/python3.8/site-packages (from alembic<2->mlflow==2.1.1) (5.12.0)\n",
      "Requirement already satisfied: urllib3<1.27,>=1.25.4 in /home/pocik/.pyenv/versions/3.8.0/envs/pip-compile8/lib/python3.8/site-packages (from botocore<1.30.0,>=1.29.147->boto3) (1.26.16)\n",
      "Requirement already satisfied: python-dateutil<3.0.0,>=2.1 in /home/pocik/.pyenv/versions/3.8.0/envs/pip-compile8/lib/python3.8/site-packages (from botocore<1.30.0,>=1.29.147->boto3) (2.8.2)\n",
      "Requirement already satisfied: oauthlib>=3.1.0 in /home/pocik/.pyenv/versions/3.8.0/envs/pip-compile8/lib/python3.8/site-packages (from databricks-cli<1,>=0.8.7->mlflow==2.1.1) (3.2.2)\n",
      "Requirement already satisfied: pyjwt>=1.7.0 in /home/pocik/.pyenv/versions/3.8.0/envs/pip-compile8/lib/python3.8/site-packages (from databricks-cli<1,>=0.8.7->mlflow==2.1.1) (2.7.0)\n",
      "Requirement already satisfied: six>=1.10.0 in /home/pocik/.pyenv/versions/3.8.0/envs/pip-compile8/lib/python3.8/site-packages (from databricks-cli<1,>=0.8.7->mlflow==2.1.1) (1.16.0)\n",
      "Requirement already satisfied: tabulate>=0.7.7 in /home/pocik/.pyenv/versions/3.8.0/envs/pip-compile8/lib/python3.8/site-packages (from databricks-cli<1,>=0.8.7->mlflow==2.1.1) (0.9.0)\n",
      "Requirement already satisfied: websocket-client>=0.32.0 in /home/pocik/.pyenv/versions/3.8.0/envs/pip-compile8/lib/python3.8/site-packages (from docker<7,>=4.0.0->mlflow==2.1.1) (1.5.2)\n",
      "Requirement already satisfied: blinker>=1.6.2 in /home/pocik/.pyenv/versions/3.8.0/envs/pip-compile8/lib/python3.8/site-packages (from Flask<3->mlflow==2.1.1) (1.6.2)\n",
      "Requirement already satisfied: Werkzeug>=2.3.3 in /home/pocik/.pyenv/versions/3.8.0/envs/pip-compile8/lib/python3.8/site-packages (from Flask<3->mlflow==2.1.1) (2.3.4)\n",
      "Requirement already satisfied: itsdangerous>=2.1.2 in /home/pocik/.pyenv/versions/3.8.0/envs/pip-compile8/lib/python3.8/site-packages (from Flask<3->mlflow==2.1.1) (2.1.2)\n",
      "Requirement already satisfied: gitdb<5,>=4.0.1 in /home/pocik/.pyenv/versions/3.8.0/envs/pip-compile8/lib/python3.8/site-packages (from gitpython<4,>=2.1.0->mlflow==2.1.1) (4.0.10)\n",
      "Requirement already satisfied: setuptools>=3.0 in /home/pocik/.pyenv/versions/3.8.0/envs/pip-compile8/lib/python3.8/site-packages (from gunicorn<21->mlflow==2.1.1) (41.2.0)\n",
      "Requirement already satisfied: zipp>=0.5 in /home/pocik/.pyenv/versions/3.8.0/envs/pip-compile8/lib/python3.8/site-packages (from importlib-metadata!=4.7.0,<6,>=3.7.0->mlflow==2.1.1) (3.15.0)\n",
      "Requirement already satisfied: MarkupSafe>=2.0 in /home/pocik/.pyenv/versions/3.8.0/envs/pip-compile8/lib/python3.8/site-packages (from Jinja2<4,>=2.11->mlflow==2.1.1) (2.1.3)\n",
      "Requirement already satisfied: kiwisolver>=1.0.1 in /home/pocik/.pyenv/versions/3.8.0/envs/pip-compile8/lib/python3.8/site-packages (from matplotlib<4->mlflow==2.1.1) (1.4.4)\n",
      "Requirement already satisfied: contourpy>=1.0.1 in /home/pocik/.pyenv/versions/3.8.0/envs/pip-compile8/lib/python3.8/site-packages (from matplotlib<4->mlflow==2.1.1) (1.0.7)\n",
      "Requirement already satisfied: pyparsing>=2.3.1 in /home/pocik/.pyenv/versions/3.8.0/envs/pip-compile8/lib/python3.8/site-packages (from matplotlib<4->mlflow==2.1.1) (3.0.9)\n",
      "Requirement already satisfied: cycler>=0.10 in /home/pocik/.pyenv/versions/3.8.0/envs/pip-compile8/lib/python3.8/site-packages (from matplotlib<4->mlflow==2.1.1) (0.11.0)\n",
      "Requirement already satisfied: pillow>=6.2.0 in /home/pocik/.pyenv/versions/3.8.0/envs/pip-compile8/lib/python3.8/site-packages (from matplotlib<4->mlflow==2.1.1) (9.5.0)\n",
      "Requirement already satisfied: fonttools>=4.22.0 in /home/pocik/.pyenv/versions/3.8.0/envs/pip-compile8/lib/python3.8/site-packages (from matplotlib<4->mlflow==2.1.1) (4.39.4)\n",
      "Requirement already satisfied: charset-normalizer<4,>=2 in /home/pocik/.pyenv/versions/3.8.0/envs/pip-compile8/lib/python3.8/site-packages (from requests<3,>=2.17.3->mlflow==2.1.1) (3.1.0)\n",
      "Requirement already satisfied: idna<4,>=2.5 in /home/pocik/.pyenv/versions/3.8.0/envs/pip-compile8/lib/python3.8/site-packages (from requests<3,>=2.17.3->mlflow==2.1.1) (3.4)\n",
      "Requirement already satisfied: certifi>=2017.4.17 in /home/pocik/.pyenv/versions/3.8.0/envs/pip-compile8/lib/python3.8/site-packages (from requests<3,>=2.17.3->mlflow==2.1.1) (2023.5.7)\n",
      "Requirement already satisfied: tqdm>4.25.0 in /home/pocik/.pyenv/versions/3.8.0/envs/pip-compile8/lib/python3.8/site-packages (from shap<1,>=0.40->mlflow==2.1.1) (4.64.1)\n",
      "Requirement already satisfied: numba in /home/pocik/.pyenv/versions/3.8.0/envs/pip-compile8/lib/python3.8/site-packages (from shap<1,>=0.40->mlflow==2.1.1) (0.56.4)\n",
      "Requirement already satisfied: slicer==0.0.7 in /home/pocik/.pyenv/versions/3.8.0/envs/pip-compile8/lib/python3.8/site-packages (from shap<1,>=0.40->mlflow==2.1.1) (0.0.7)\n",
      "Requirement already satisfied: greenlet!=0.4.17 in /home/pocik/.pyenv/versions/3.8.0/envs/pip-compile8/lib/python3.8/site-packages (from sqlalchemy<2,>=1.4.0->mlflow==2.1.1) (2.0.2)\n",
      "Requirement already satisfied: smmap<6,>=3.0.1 in /home/pocik/.pyenv/versions/3.8.0/envs/pip-compile8/lib/python3.8/site-packages (from gitdb<5,>=4.0.1->gitpython<4,>=2.1.0->mlflow==2.1.1) (5.0.0)\n",
      "Requirement already satisfied: llvmlite<0.40,>=0.39.0dev0 in /home/pocik/.pyenv/versions/3.8.0/envs/pip-compile8/lib/python3.8/site-packages (from numba->shap<1,>=0.40->mlflow==2.1.1) (0.39.1)\n",
      "\n",
      "\u001b[1m[\u001b[0m\u001b[34;49mnotice\u001b[0m\u001b[1;39;49m]\u001b[0m\u001b[39;49m A new release of pip available: \u001b[0m\u001b[31;49m22.3.1\u001b[0m\u001b[39;49m -> \u001b[0m\u001b[32;49m23.3\u001b[0m\n",
      "\u001b[1m[\u001b[0m\u001b[34;49mnotice\u001b[0m\u001b[1;39;49m]\u001b[0m\u001b[39;49m To update, run: \u001b[0m\u001b[32;49mpip install --upgrade pip\u001b[0m\n"
     ]
    }
   ],
   "source": [
    "# first install necessary libs\n",
    "!pip install scikit-learn mlflow==2.1.1 boto3"
   ]
  },
  {
   "cell_type": "markdown",
   "id": "f0974d6f-1482-4501-a528-b84cb6dd3f63",
   "metadata": {},
   "source": [
    "First we train and store the model object to MLflow registry."
   ]
  },
  {
   "cell_type": "code",
   "execution_count": 5,
   "id": "5f047620-acf6-4628-ba10-0070a035c508",
   "metadata": {
    "tags": []
   },
   "outputs": [
    {
     "name": "stdout",
     "output_type": "stream",
     "text": [
      "Elasticnet model (alpha=0.500000, l1_ratio=0.500000):\n",
      "  RMSE: 0.7931640229276851\n",
      "  MAE: 0.6271946374319586\n",
      "  R2: 0.10862644997792614\n"
     ]
    },
    {
     "name": "stderr",
     "output_type": "stream",
     "text": [
      "Successfully registered model 'ElasticnetWineModel2'.\n",
      "2023/10/23 09:31:32 INFO mlflow.tracking._model_registry.client: Waiting up to 300 seconds for model version to finish creation.                     Model name: ElasticnetWineModel2, version 1\n",
      "Created version '1' of model 'ElasticnetWineModel2'.\n"
     ]
    }
   ],
   "source": [
    "# The data set used in this example is from http://archive.ics.uci.edu/ml/datasets/Wine+Quality\n",
    "# P. Cortez, A. Cerdeira, F. Almeida, T. Matos and J. Reis.\n",
    "# Modeling wine preferences by data mining from physicochemical properties. In Decision Support Systems, Elsevier, 47(4):547-553, 2009.\n",
    "\n",
    "import os\n",
    "import warnings\n",
    "import sys\n",
    "\n",
    "import boto3\n",
    "import pandas as pd\n",
    "import numpy as np\n",
    "from sklearn.metrics import mean_squared_error, mean_absolute_error, r2_score\n",
    "from sklearn.model_selection import train_test_split\n",
    "from sklearn.linear_model import ElasticNet\n",
    "from urllib.parse import urlparse\n",
    "import mlflow\n",
    "import mlflow.sklearn\n",
    "\n",
    "import logging\n",
    "\n",
    "logging.basicConfig(level=logging.WARN)\n",
    "logger = logging.getLogger(__name__)\n",
    "\n",
    "\n",
    "def eval_metrics(actual, pred):\n",
    "    rmse = np.sqrt(mean_squared_error(actual, pred))\n",
    "    mae = mean_absolute_error(actual, pred)\n",
    "    r2 = r2_score(actual, pred)\n",
    "    return rmse, mae, r2\n",
    "\n",
    "\n",
    "if __name__ == \"__main__\":\n",
    "    warnings.filterwarnings(\"ignore\")\n",
    "    np.random.seed(40)\n",
    "\n",
    "    # Read the wine-quality csv file from the URL\n",
    "    csv_url = \"http://archive.ics.uci.edu/ml/machine-learning-databases/wine-quality/winequality-red.csv\"\n",
    "    try:\n",
    "        data = pd.read_csv(csv_url, sep=\";\")\n",
    "    except Exception as e:\n",
    "        logger.exception(\n",
    "            \"Unable to download training & test CSV, check your internet connection. Error: %s\",\n",
    "            e,\n",
    "        )\n",
    "\n",
    "    # Split the data into training and test sets. (0.75, 0.25) split.\n",
    "    train, test = train_test_split(data)\n",
    "\n",
    "    # The predicted column is \"quality\" which is a scalar from [3, 9]\n",
    "    train_x = train.drop([\"quality\"], axis=1)\n",
    "    test_x = test.drop([\"quality\"], axis=1)\n",
    "    train_y = train[[\"quality\"]]\n",
    "    test_y = test[[\"quality\"]]\n",
    "\n",
    "    alpha = 0.5\n",
    "    l1_ratio = 0.5\n",
    "\n",
    "    # create bucket\n",
    "    object_storage = boto3.client(\n",
    "        \"s3\",\n",
    "        endpoint_url=os.getenv(\"MLFLOW_S3_ENDPOINT_URL\"),\n",
    "        config=boto3.session.Config(signature_version=\"s3v4\"),\n",
    "    )\n",
    "    default_bucket_name = \"mlflow\"\n",
    "\n",
    "    buckets_response = object_storage.list_buckets()\n",
    "    result = [\n",
    "        bucket\n",
    "        for bucket in buckets_response[\"Buckets\"]\n",
    "        if bucket[\"Name\"] == default_bucket_name\n",
    "    ]\n",
    "    if not result:\n",
    "        object_storage.create_bucket(Bucket=default_bucket_name)\n",
    "\n",
    "    with mlflow.start_run():\n",
    "        lr = ElasticNet(alpha=alpha, l1_ratio=l1_ratio, random_state=42)\n",
    "        lr.fit(train_x, train_y)\n",
    "\n",
    "        predicted_qualities = lr.predict(test_x)\n",
    "\n",
    "        (rmse, mae, r2) = eval_metrics(test_y, predicted_qualities)\n",
    "\n",
    "        print(\"Elasticnet model (alpha=%f, l1_ratio=%f):\" % (alpha, l1_ratio))\n",
    "        print(\"  RMSE: %s\" % rmse)\n",
    "        print(\"  MAE: %s\" % mae)\n",
    "        print(\"  R2: %s\" % r2)\n",
    "\n",
    "        mlflow.log_param(\"alpha\", alpha)\n",
    "        mlflow.log_param(\"l1_ratio\", l1_ratio)\n",
    "        mlflow.log_metric(\"rmse\", rmse)\n",
    "        mlflow.log_metric(\"r2\", r2)\n",
    "        mlflow.log_metric(\"mae\", mae)\n",
    "\n",
    "        tracking_url_type_store = urlparse(mlflow.get_tracking_uri()).scheme\n",
    "\n",
    "        result = mlflow.sklearn.log_model(\n",
    "            lr, \"model\", registered_model_name=\"ElasticnetWineModel2\"\n",
    "        )\n",
    "        model_uri = f\"{mlflow.get_artifact_uri()}/{result.artifact_path}\"\n"
   ]
  },
  {
   "cell_type": "markdown",
   "id": "d9e27a59-e600-4012-b2b5-f0844d919332",
   "metadata": {},
   "source": [
    "Now you can visit the mlflow UI to see the model being registered. MLflow ui is running on Nodeport 31380 (by default, you can always inspect with `kubectl get svc -n kubeflow`). If you are running this on VM you can tunnel the port of the nodeport to your localhost with `ssh -i <keypair> -L 31380:localhost:31380 <user>@vm-ip>`. Afther that you can visit http://localhost:31380/.\n",
    "\n",
    "You can also inspect the s3 object store, that it has the model with the codeblock bellow."
   ]
  },
  {
   "cell_type": "code",
   "execution_count": 6,
   "id": "d7bd9c06-298e-4e2b-8a65-3e3d12ec34d2",
   "metadata": {},
   "outputs": [
    {
     "name": "stdout",
     "output_type": "stream",
     "text": [
      "file_name: 0/d65b584e828f45e18c79a7136455f67a/artifacts/model/MLmodel, size: 501\n",
      "file_name: 0/d65b584e828f45e18c79a7136455f67a/artifacts/model/conda.yaml, size: 175\n",
      "file_name: 0/d65b584e828f45e18c79a7136455f67a/artifacts/model/model.pkl, size: 878\n",
      "file_name: 0/d65b584e828f45e18c79a7136455f67a/artifacts/model/python_env.yaml, size: 121\n",
      "file_name: 0/d65b584e828f45e18c79a7136455f67a/artifacts/model/requirements.txt, size: 67\n"
     ]
    }
   ],
   "source": [
    "# Print list of files in the default bucket `mlflow`\n",
    "response = object_storage.list_objects_v2(Bucket=default_bucket_name)\n",
    "files = response.get(\"Contents\")\n",
    "for file in files:\n",
    "    print(f\"file_name: {file['Key']}, size: {file['Size']}\")"
   ]
  },
  {
   "cell_type": "markdown",
   "id": "2e814030-7c8e-45a0-bfca-a2ea3771a9cb",
   "metadata": {},
   "source": [
    "Now the environment variable `model_uri` holds the value of location of the trained model in the MinIO artifact store."
   ]
  },
  {
   "cell_type": "code",
   "execution_count": 7,
   "id": "42df88fb-9ca3-448e-a380-b4a630bbefec",
   "metadata": {},
   "outputs": [],
   "source": [
    "# This function deploys the Model stored in Mlfow directly to Cluster with kserve deployment\n",
    "def deploy(model_uri:str = \"default_model_uri\", user_namespace:str = \"user123\"):\n",
    "    import subprocess\n",
    "    \n",
    "    with open(\"/tmp/manifest.yaml\", \"w\") as f:\n",
    "        manifest = \"\"\"\n",
    "apiVersion: \"serving.kserve.io/v1beta1\"\n",
    "kind: \"InferenceService\"\n",
    "metadata:\n",
    "  name: \"wine-regressor\"\n",
    "spec:\n",
    "  predictor:\n",
    "    serviceAccountName: kserve-controller-s3\n",
    "    sklearn:\n",
    "      storageUri: \"\"\"+model_uri+\"\"\"\n",
    "        \"\"\"\n",
    "        f.write(manifest)\n",
    "    \n",
    "    # Example of how to talk directly to kubeapi\n",
    "    result = subprocess.call(['kubectl', 'apply', '-f', '/tmp/manifest.yaml', '-n', user_namespace])\n",
    "    assert result == 0"
   ]
  },
  {
   "cell_type": "code",
   "execution_count": 8,
   "id": "5e9e3309-2fd4-4c9e-9a1d-2c518c836569",
   "metadata": {
    "tags": []
   },
   "outputs": [
    {
     "name": "stdout",
     "output_type": "stream",
     "text": [
      "inferenceservice.serving.kserve.io/wine-regressor created\n"
     ]
    }
   ],
   "source": [
    "deploy(model_uri, \"user123\")"
   ]
  },
  {
   "cell_type": "markdown",
   "id": "699bdb7d-4ab6-4af1-9a57-200781e09be3",
   "metadata": {},
   "source": [
    "Now we need to wait until the Inference service is active to test the prediction endpoint."
   ]
  },
  {
   "cell_type": "code",
   "execution_count": 12,
   "id": "50a74dda-8441-4bec-b879-58e4a35ccdc8",
   "metadata": {},
   "outputs": [
    {
     "name": "stdout",
     "output_type": "stream",
     "text": [
      "{\"predictions\":[5.731344540042413]}"
     ]
    }
   ],
   "source": [
    "# This call assumes you port-forwarded the service of the predictor \n",
    "# kubectl port-forward -n user123 svc/wine-regressor-predictor 8889:80\n",
    "!curl  -s http://localhost:8889/v1/models/wine-regressor:predict \\\n",
    "  -H \"Content-Type: application/json\" \\\n",
    "  -d '{\"instances\":[[10.1, 0.37, 0.34, 2.4, 0.085, 5.0, 17.0, 0.99683, 3.17, 0.65, 10.6]]}'"
   ]
  },
  {
   "cell_type": "code",
   "execution_count": null,
   "id": "108a26dd-4b35-4a0b-850f-700a87b4058c",
   "metadata": {},
   "outputs": [],
   "source": []
  }
 ],
 "metadata": {
  "kernelspec": {
   "display_name": "Python 3 (ipykernel)",
   "language": "python",
   "name": "python3"
  },
  "language_info": {
   "codemirror_mode": {
    "name": "ipython",
    "version": 3
   },
   "file_extension": ".py",
   "mimetype": "text/x-python",
   "name": "python",
   "nbconvert_exporter": "python",
   "pygments_lexer": "ipython3",
   "version": "3.8.0"
  }
 },
 "nbformat": 4,
 "nbformat_minor": 5
}
