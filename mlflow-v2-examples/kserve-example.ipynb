{
 "cells": [
  {
   "cell_type": "markdown",
   "id": "b46a8ea0-e797-4e09-8b1a-7fd6036e48cc",
   "metadata": {},
   "source": [
    "# MLflow KServe example integration\n",
    "This example shows how to train a regressor with scikit. It stores the model object in MLflow and deploys the same object using KServe."
   ]
  },
  {
   "cell_type": "markdown",
   "id": "ef88db5d-30a0-4834-a721-ee233683bc75",
   "metadata": {},
   "source": [
    "## Prerequisites"
   ]
  },
  {
   "cell_type": "markdown",
   "id": "0e726c7b-67e1-44d8-9252-2a1f6d8a70c1",
   "metadata": {},
   "source": [
    "This example expects the Kubeflow and the MLflow bundle being deployed. Please refer to [this guide](https://documentation.ubuntu.com/charmed-mlflow/en/latest/tutorial/mlflow-kubeflow/). After the deployment of Kubeflow and MLflow please make these relations:\n",
    "\n",
    "```\n",
    "juju relate kserve-controller:service-accounts resource-dispatcher:service-accounts\n",
    "juju relate kserve-controller:secrets resource-dispatcher:secrets\n",
    "juju relate kserve-controller mlflow-minio\n",
    "```\n",
    "\n",
    "Following environment variables are expected to be set (in case of charmed kubeflow they are set for you):\n",
    "\n",
    "* MLFLOW_S3_ENDPOINT_URL: endpoint for object storage \n",
    "* MLFLOW_TRACKING_URI: endpoint for mlflow server\n",
    "* AWS_SECRET_ACCESS_KEY: secret key for object storage\n",
    "* AWS_ACCESS_KEY_ID: username for object storage"
   ]
  },
  {
   "cell_type": "code",
   "execution_count": 20,
   "id": "d6bf6636-f4cf-4c0e-88e5-e3539af29cdb",
   "metadata": {
    "tags": []
   },
   "outputs": [
    {
     "name": "stdout",
     "output_type": "stream",
     "text": [
      "AWS_SECRET_ACCESS_KEY=2IY1YT1RT4A7KNU1GPA5GVGQPSSUOF\n",
      "AWS_ACCESS_KEY_ID=minio\n"
     ]
    }
   ],
   "source": [
    "!printenv | grep AWS"
   ]
  },
  {
   "cell_type": "code",
   "execution_count": 2,
   "id": "96621cb1-da6c-4a2e-94b6-bad7b8f1dd9a",
   "metadata": {
    "tags": []
   },
   "outputs": [
    {
     "name": "stdout",
     "output_type": "stream",
     "text": [
      "MLFLOW_UAT_PORT=tcp://10.152.183.235:80\n",
      "MLFLOW_UAT_SERVICE_HOST=10.152.183.235\n",
      "MLFLOW_S3_ENDPOINT_URL=http://mlflow-minio.kubeflow:9000\n",
      "MLFLOW_UAT_SERVICE_PORT=80\n",
      "MLFLOW_TRACKING_URI=http://mlflow-server.kubeflow.svc.cluster.local:5000\n",
      "MLFLOW_UAT_PORT_80_TCP_PORT=80\n",
      "MLFLOW_UAT_PORT_80_TCP_PROTO=tcp\n",
      "MLFLOW_UAT_PORT_80_TCP=tcp://10.152.183.235:80\n",
      "MLFLOW_UAT_PORT_80_TCP_ADDR=10.152.183.235\n",
      "MLFLOW_UAT_SERVICE_PORT_HTTP_MLFLOW_UAT=80\n"
     ]
    }
   ],
   "source": [
    "!printenv | grep MLFLOW"
   ]
  },
  {
   "cell_type": "markdown",
   "id": "89e35a38-ea42-4d4f-a0fe-2bbeb94c4413",
   "metadata": {},
   "source": [
    "## Setup (install dependencies)"
   ]
  },
  {
   "cell_type": "code",
   "execution_count": null,
   "id": "3af5326c-f855-415e-840f-ac2d30f126a0",
   "metadata": {
    "tags": []
   },
   "outputs": [],
   "source": [
    "# pin the mlflow client to match the version of the deployed MLflow server\n",
    "!pip install minio mlflow==2.1.1 boto3 tenacity -q"
   ]
  },
  {
   "cell_type": "code",
   "execution_count": 5,
   "id": "ac4a105b-0c93-4d1d-b72f-32acf86475a8",
   "metadata": {},
   "outputs": [],
   "source": [
    "import mlflow\n",
    "import numpy as np\n",
    "import pandas as pd\n",
    "import requests\n",
    "\n",
    "from kubernetes import client as k8s_client, config as k8s_config\n",
    "from mlflow.models.signature import infer_signature\n",
    "from sklearn.metrics import mean_squared_error, mean_absolute_error, r2_score\n",
    "from sklearn.model_selection import train_test_split\n",
    "from sklearn.linear_model import ElasticNet\n",
    "from sklearn.model_selection import train_test_split\n",
    "from tenacity import retry, stop_after_attempt, wait_exponential"
   ]
  },
  {
   "cell_type": "markdown",
   "id": "6bfb871a-5213-4024-aca2-f3fda9bcf9e1",
   "metadata": {},
   "source": [
    "## Download Data"
   ]
  },
  {
   "cell_type": "code",
   "execution_count": 6,
   "id": "0fc29688-6b3d-47cf-a7d0-02842d52f89b",
   "metadata": {},
   "outputs": [
    {
     "data": {
      "text/html": [
       "<div>\n",
       "<style scoped>\n",
       "    .dataframe tbody tr th:only-of-type {\n",
       "        vertical-align: middle;\n",
       "    }\n",
       "\n",
       "    .dataframe tbody tr th {\n",
       "        vertical-align: top;\n",
       "    }\n",
       "\n",
       "    .dataframe thead th {\n",
       "        text-align: right;\n",
       "    }\n",
       "</style>\n",
       "<table border=\"1\" class=\"dataframe\">\n",
       "  <thead>\n",
       "    <tr style=\"text-align: right;\">\n",
       "      <th></th>\n",
       "      <th>fixed acidity</th>\n",
       "      <th>volatile acidity</th>\n",
       "      <th>citric acid</th>\n",
       "      <th>residual sugar</th>\n",
       "      <th>chlorides</th>\n",
       "      <th>free sulfur dioxide</th>\n",
       "      <th>total sulfur dioxide</th>\n",
       "      <th>density</th>\n",
       "      <th>pH</th>\n",
       "      <th>sulphates</th>\n",
       "      <th>alcohol</th>\n",
       "      <th>quality</th>\n",
       "    </tr>\n",
       "  </thead>\n",
       "  <tbody>\n",
       "    <tr>\n",
       "      <th>0</th>\n",
       "      <td>7.4</td>\n",
       "      <td>0.70</td>\n",
       "      <td>0.00</td>\n",
       "      <td>1.9</td>\n",
       "      <td>0.076</td>\n",
       "      <td>11.0</td>\n",
       "      <td>34.0</td>\n",
       "      <td>0.9978</td>\n",
       "      <td>3.51</td>\n",
       "      <td>0.56</td>\n",
       "      <td>9.4</td>\n",
       "      <td>5</td>\n",
       "    </tr>\n",
       "    <tr>\n",
       "      <th>1</th>\n",
       "      <td>7.8</td>\n",
       "      <td>0.88</td>\n",
       "      <td>0.00</td>\n",
       "      <td>2.6</td>\n",
       "      <td>0.098</td>\n",
       "      <td>25.0</td>\n",
       "      <td>67.0</td>\n",
       "      <td>0.9968</td>\n",
       "      <td>3.20</td>\n",
       "      <td>0.68</td>\n",
       "      <td>9.8</td>\n",
       "      <td>5</td>\n",
       "    </tr>\n",
       "    <tr>\n",
       "      <th>2</th>\n",
       "      <td>7.8</td>\n",
       "      <td>0.76</td>\n",
       "      <td>0.04</td>\n",
       "      <td>2.3</td>\n",
       "      <td>0.092</td>\n",
       "      <td>15.0</td>\n",
       "      <td>54.0</td>\n",
       "      <td>0.9970</td>\n",
       "      <td>3.26</td>\n",
       "      <td>0.65</td>\n",
       "      <td>9.8</td>\n",
       "      <td>5</td>\n",
       "    </tr>\n",
       "    <tr>\n",
       "      <th>3</th>\n",
       "      <td>11.2</td>\n",
       "      <td>0.28</td>\n",
       "      <td>0.56</td>\n",
       "      <td>1.9</td>\n",
       "      <td>0.075</td>\n",
       "      <td>17.0</td>\n",
       "      <td>60.0</td>\n",
       "      <td>0.9980</td>\n",
       "      <td>3.16</td>\n",
       "      <td>0.58</td>\n",
       "      <td>9.8</td>\n",
       "      <td>6</td>\n",
       "    </tr>\n",
       "    <tr>\n",
       "      <th>4</th>\n",
       "      <td>7.4</td>\n",
       "      <td>0.70</td>\n",
       "      <td>0.00</td>\n",
       "      <td>1.9</td>\n",
       "      <td>0.076</td>\n",
       "      <td>11.0</td>\n",
       "      <td>34.0</td>\n",
       "      <td>0.9978</td>\n",
       "      <td>3.51</td>\n",
       "      <td>0.56</td>\n",
       "      <td>9.4</td>\n",
       "      <td>5</td>\n",
       "    </tr>\n",
       "  </tbody>\n",
       "</table>\n",
       "</div>"
      ],
      "text/plain": [
       "   fixed acidity  volatile acidity  citric acid  residual sugar  chlorides  \\\n",
       "0            7.4              0.70         0.00             1.9      0.076   \n",
       "1            7.8              0.88         0.00             2.6      0.098   \n",
       "2            7.8              0.76         0.04             2.3      0.092   \n",
       "3           11.2              0.28         0.56             1.9      0.075   \n",
       "4            7.4              0.70         0.00             1.9      0.076   \n",
       "\n",
       "   free sulfur dioxide  total sulfur dioxide  density    pH  sulphates  \\\n",
       "0                 11.0                  34.0   0.9978  3.51       0.56   \n",
       "1                 25.0                  67.0   0.9968  3.20       0.68   \n",
       "2                 15.0                  54.0   0.9970  3.26       0.65   \n",
       "3                 17.0                  60.0   0.9980  3.16       0.58   \n",
       "4                 11.0                  34.0   0.9978  3.51       0.56   \n",
       "\n",
       "   alcohol  quality  \n",
       "0      9.4        5  \n",
       "1      9.8        5  \n",
       "2      9.8        5  \n",
       "3      9.8        6  \n",
       "4      9.4        5  "
      ]
     },
     "execution_count": 6,
     "metadata": {},
     "output_type": "execute_result"
    }
   ],
   "source": [
    "data = pd.read_csv(\"http://archive.ics.uci.edu/ml/machine-learning-databases/wine-quality/winequality-red.csv\", sep=\";\")\n",
    "data.head()"
   ]
  },
  {
   "cell_type": "code",
   "execution_count": 7,
   "id": "00b16697-721b-4b3f-989d-2b9ffd04b573",
   "metadata": {},
   "outputs": [
    {
     "data": {
      "text/plain": [
       "(1599, 12)"
      ]
     },
     "execution_count": 7,
     "metadata": {},
     "output_type": "execute_result"
    }
   ],
   "source": [
    "data.shape"
   ]
  },
  {
   "cell_type": "markdown",
   "id": "30dffa5a-818a-46c0-88ba-b12bdc406dc8",
   "metadata": {},
   "source": [
    "## Preprocess Data"
   ]
  },
  {
   "cell_type": "code",
   "execution_count": 8,
   "id": "cc265431-513c-4471-aef0-9b08827aa286",
   "metadata": {},
   "outputs": [],
   "source": [
    "TARGET_COLUMN = \"quality\"\n",
    "train, test = train_test_split(data)\n",
    "\n",
    "train_x = train.drop([TARGET_COLUMN], axis=1)\n",
    "test_x = test.drop([TARGET_COLUMN], axis=1)\n",
    "train_y = train[[TARGET_COLUMN]]\n",
    "test_y = test[[TARGET_COLUMN]]\n"
   ]
  },
  {
   "cell_type": "markdown",
   "id": "dab1f93e-f2e4-4abc-9a20-a1593fdc0a13",
   "metadata": {},
   "source": [
    "## Create MLflow experiment"
   ]
  },
  {
   "cell_type": "code",
   "execution_count": 9,
   "id": "91a84da6-0ae4-4f09-b6e5-50e992a1641b",
   "metadata": {},
   "outputs": [],
   "source": [
    "wine_experiment_name = \"My Wine Experiment Kserve\"\n",
    "experiment = mlflow.get_experiment_by_name(wine_experiment_name)\n",
    "experiment_id = (\n",
    "    mlflow.create_experiment(name=wine_experiment_name)\n",
    "    if experiment is None\n",
    "    else experiment.experiment_id\n",
    ")"
   ]
  },
  {
   "cell_type": "code",
   "execution_count": 10,
   "id": "c90e80fe-9062-45d6-b8a5-5e0a72203c64",
   "metadata": {},
   "outputs": [],
   "source": [
    "# check that the experiment was created successfully\n",
    "assert mlflow.get_experiment(experiment_id).name == wine_experiment_name, f\"Failed to create experiment {wine_experiment_name}!\""
   ]
  },
  {
   "cell_type": "markdown",
   "id": "e705ea95-d870-420b-9607-1f00af8f9555",
   "metadata": {},
   "source": [
    "## Train and store model"
   ]
  },
  {
   "cell_type": "code",
   "execution_count": 11,
   "id": "c9088156-5909-44f9-bb42-6f4f5337c1ab",
   "metadata": {},
   "outputs": [],
   "source": [
    "def experiment(alpha, l1_ratio):\n",
    "    mlflow.sklearn.autolog()\n",
    "    with mlflow.start_run(run_name='wine_models', experiment_id=experiment_id) as run:\n",
    "            mlflow.set_tag(\"author\", \"kf-testing\")\n",
    "            lr = ElasticNet(alpha=alpha, l1_ratio=l1_ratio, random_state=42)\n",
    "            lr.fit(train_x, train_y)\n",
    "\n",
    "            pred_y = lr.predict(test_x)\n",
    "            mlflow.log_metric(\"rmse\", np.sqrt(mean_squared_error(test_y, pred_y)))\n",
    "            mlflow.log_metric(\"r2\", r2_score(test_y, pred_y))\n",
    "            mlflow.log_metric(\"mae\", mean_absolute_error(test_y, pred_y))\n",
    "\n",
    "            signature = infer_signature(test_x, pred_y)\n",
    "            result = mlflow.sklearn.log_model(lr, \"model\", registered_model_name=\"wine-elasticnet\", signature=signature)\n",
    "            model_uri = f\"{mlflow.get_artifact_uri()}/{result.artifact_path}\"\n",
    "    \n",
    "    return run, model_uri"
   ]
  },
  {
   "cell_type": "code",
   "execution_count": 12,
   "id": "2a9d6776-b192-4a20-933e-659ad5494d2c",
   "metadata": {},
   "outputs": [
    {
     "name": "stderr",
     "output_type": "stream",
     "text": [
      "2023/10/26 11:31:46 WARNING mlflow.utils.environment: Encountered an unexpected error while inferring pip requirements (model URI: /tmp/tmphgdkiwyh/model/model.pkl, flavor: sklearn), fall back to return ['scikit-learn==0.24.2', 'cloudpickle==1.6.0']. Set logging level to DEBUG to see the full traceback.\n",
      "2023/10/26 11:31:46 WARNING mlflow.utils.autologging_utils: MLflow autologging encountered a warning: \"/opt/conda/lib/python3.8/site-packages/_distutils_hack/__init__.py:33: UserWarning: Setuptools is replacing distutils.\"\n",
      "2023/10/26 11:31:48 WARNING mlflow.utils.environment: Encountered an unexpected error while inferring pip requirements (model URI: /tmp/tmp9m2mw9c2/model/model.pkl, flavor: sklearn), fall back to return ['scikit-learn==0.24.2', 'cloudpickle==1.6.0']. Set logging level to DEBUG to see the full traceback.\n",
      "Registered model 'wine-elasticnet' already exists. Creating a new version of this model...\n",
      "2023/10/26 11:31:48 INFO mlflow.tracking._model_registry.client: Waiting up to 300 seconds for model version to finish creation.                     Model name: wine-elasticnet, version 2\n",
      "Created version '2' of model 'wine-elasticnet'.\n"
     ]
    }
   ],
   "source": [
    "run, model_uri = experiment(0.5, 0.5)"
   ]
  },
  {
   "cell_type": "code",
   "execution_count": 13,
   "id": "26ccd178-c838-4074-9318-6e5562151351",
   "metadata": {},
   "outputs": [
    {
     "data": {
      "text/plain": [
       "'s3://mlflow/1/fe0d84c6313f4853bcb83e5fe7cbe39a/artifacts/model'"
      ]
     },
     "execution_count": 13,
     "metadata": {},
     "output_type": "execute_result"
    }
   ],
   "source": [
    "model_uri"
   ]
  },
  {
   "cell_type": "markdown",
   "id": "f349c28d-5fd1-4b02-ab52-cc7630172d36",
   "metadata": {},
   "source": [
    "## Deploy Kserve's InferenceService"
   ]
  },
  {
   "cell_type": "code",
   "execution_count": null,
   "id": "0c27653d-8121-4763-b374-ca40653ba8c4",
   "metadata": {},
   "outputs": [],
   "source": [
    "!pip install kserve kubernetes -q"
   ]
  },
  {
   "cell_type": "code",
   "execution_count": 15,
   "id": "67b94584-7c51-4b4b-aff8-f66e0142b4a8",
   "metadata": {},
   "outputs": [],
   "source": [
    "from kubernetes.client import V1ObjectMeta\n",
    "from kubernetes import client as k8s_client, config as k8s_config\n",
    "from kserve import (\n",
    "    constants,\n",
    "    KServeClient,\n",
    "    V1beta1InferenceService,\n",
    "    V1beta1InferenceServiceSpec,\n",
    "    V1beta1PredictorSpec,\n",
    "    V1beta1SKLearnSpec,\n",
    ")"
   ]
  },
  {
   "cell_type": "code",
   "execution_count": 16,
   "id": "8701c212-218d-4387-a3bf-d469e98ecd1e",
   "metadata": {},
   "outputs": [],
   "source": [
    "ISVC_NAME = \"wine-regressor3\"\n",
    "\n",
    "isvc = V1beta1InferenceService(\n",
    "    api_version=constants.KSERVE_V1BETA1,\n",
    "    kind=constants.KSERVE_KIND,\n",
    "    metadata=V1ObjectMeta(\n",
    "        name=ISVC_NAME,\n",
    "        annotations={\"sidecar.istio.io/inject\": \"false\"},\n",
    "    ),\n",
    "    spec=V1beta1InferenceServiceSpec(\n",
    "        predictor=V1beta1PredictorSpec(\n",
    "            service_account_name=\"kserve-controller-s3\",\n",
    "            sklearn=V1beta1SKLearnSpec(\n",
    "                storage_uri=model_uri\n",
    "            )\n",
    "        )\n",
    "    )\n",
    ")"
   ]
  },
  {
   "cell_type": "code",
   "execution_count": 17,
   "id": "469b1390-aa12-4c28-88ea-0a29cad16121",
   "metadata": {},
   "outputs": [],
   "source": [
    "client = KServeClient()\n",
    "client.create(isvc)\n",
    "\n",
    "@retry(\n",
    "    wait=wait_exponential(multiplier=2, min=1, max=10),\n",
    "    stop=stop_after_attempt(30),\n",
    "    reraise=True,\n",
    ")\n",
    "def assert_isvc_created(client, isvc_name):\n",
    "    \"\"\"Wait for the Inference Service to be created successfully.\"\"\"\n",
    "    assert client.is_isvc_ready(ISVC_NAME), f\"Failed to create Inference Service {isvc_name}.\"\n",
    "\n",
    "assert_isvc_created(client, ISVC_NAME)"
   ]
  },
  {
   "cell_type": "markdown",
   "id": "4361fa01-d5b7-4735-8cf6-a27a12f43a86",
   "metadata": {},
   "source": [
    "## Run Prediction"
   ]
  },
  {
   "cell_type": "code",
   "execution_count": 18,
   "id": "8a563e89-9931-4cb1-97a6-d4207c3932a3",
   "metadata": {},
   "outputs": [
    {
     "name": "stdout",
     "output_type": "stream",
     "text": [
      "Inference URL: http://wine-regressor3.user123.svc.cluster.local\n"
     ]
    }
   ],
   "source": [
    "isvc_resp = client.get(ISVC_NAME)\n",
    "isvc_url = isvc_resp['status']['address']['url']\n",
    "print(\"Inference URL:\", isvc_url)"
   ]
  },
  {
   "cell_type": "code",
   "execution_count": 19,
   "id": "3d98b1f4-2e07-44c7-8aff-f17196cb2538",
   "metadata": {
    "tags": []
   },
   "outputs": [
    {
     "name": "stdout",
     "output_type": "stream",
     "text": [
      "{\"predictions\":[5.759254882639977]}\n"
     ]
    }
   ],
   "source": [
    "inference_input = {\n",
    "    \"instances\": [\n",
    "        [10.1, 0.37, 0.34, 2.4, 0.085, 5.0, 17.0, 0.99683, 3.17, 0.65, 10.6]\n",
    "    ]\n",
    "}\n",
    "response = requests.post(f\"{isvc_url}/v1/models/{ISVC_NAME}:predict\", json=inference_input)\n",
    "print(response.text)"
   ]
  },
  {
   "cell_type": "markdown",
   "id": "ce387e68-00e5-428b-a2c4-8b0414f11678",
   "metadata": {},
   "source": [
    "## Delete Inference Service"
   ]
  },
  {
   "cell_type": "code",
   "execution_count": 22,
   "id": "5b3debed-7eaf-4b9f-b7f3-1d6ed120817e",
   "metadata": {},
   "outputs": [],
   "source": [
    "client.delete(ISVC_NAME);"
   ]
  }
 ],
 "metadata": {
  "kernelspec": {
   "display_name": "Python 3 (ipykernel)",
   "language": "python",
   "name": "python3"
  },
  "language_info": {
   "codemirror_mode": {
    "name": "ipython",
    "version": 3
   },
   "file_extension": ".py",
   "mimetype": "text/x-python",
   "name": "python",
   "nbconvert_exporter": "python",
   "pygments_lexer": "ipython3",
   "version": "3.8.0"
  }
 },
 "nbformat": 4,
 "nbformat_minor": 5
}
