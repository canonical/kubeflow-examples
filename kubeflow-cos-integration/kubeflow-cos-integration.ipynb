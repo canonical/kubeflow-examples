{
 "cells": [
  {
   "attachments": {},
   "cell_type": "markdown",
   "metadata": {
    "tags": [
     "text"
    ]
   },
   "source": [
    "# Kubeflow and COS Integration\n",
    "\n",
    "*Last verified: Mar 3, 2023*\n",
    "\n",
    "*This file is generated based on `kubeflow-cos-integration.ipynb`*\n",
    "\n",
    "## Contents\n",
    "\n",
    "* [Overview](#overview)\n",
    "* [Prerequisites](#prerequisites)\n",
    "* [Instructions](#instructions)\n",
    "  * [Prometheus integration](#prometheus-integration)\n",
    "  * [Grafana integration](#grafana-integration)\n",
    "  * [Access Prometheus metrics](#access-prometheus-metrics)\n",
    "  * [Access Prometheus alerts](#access-prometheus-alerts)\n",
    "    * [List of alerts per Kubeflow component](#list-of-alerts-per-kubeflow-component)\n",
    "  * [Access Grafana dashboards](#access-grafana-dashboards)\n",
    "    * [View metrics in ArgoWorkflow Metrics dashboard](#view-metrics-in-argoworkflow-metrics-dashboard)\n",
    "    * [View metrics in Jupyter Notebook Controller dashboard](#view-metrics-in-jupyter-notebook-controller-dashboard)\n",
    "    * [View metrics in Seldon Controller Manager dashboard](#view-metrics-in-seldon-controller-manager-dashboard)\n",
    "\n",
    "## Overview\n",
    "\n",
    "This guide is intended to introduce end users to integration of Kubeflow and COS (Canonical Observability Stack)\n",
    "\n",
    "<!-- The following should not be on Discourse -->\n",
    "This repository contains all artifacts needed to support this guide. `graphics/` directory contains all related screenshorts and diagrams. `resources/` directory contains all resources needed to generate this `README.md` and run automated documentation tests. Main documentation which this `README.md` is generated from is in `kubeflow-cos-integration.ipynb`.\n",
    "\n",
    "## Prerequisites\n",
    "\n",
    "- Deployed Kubeflow instance, and access to Kubeflow dashboard. For sample Kubeflow deployment refer to https://charmed-kubeflow.io/docs/get-started-with-charmed-kubeflow. More details on Kubeflow can be found here https://www.kubeflow.org/docs/.\n",
    "- Deployed COS. For deployment of COS refer to https://charmhub.io/topics/canonical-observability-stack/tutorials/install-microk8s\n",
    "- Familiarity with Python, Jupyter notebooks.\n",
    "- Minimum system requirements: CPU 8 RAM 32GB DISK 120GB\n",
    "- Tools: `microk8s`,`juju`, `yq`, `curl`\n",
    "\n",
    "\n",
    "## Instructions\n",
    "\n",
    "After deploying Kubeflow and COS there will be two models on the controller - `kubeflow` containing Kubeflow deployment and `cos` containing COS deployment.\n",
    "Integration with COS involves adding relations to Prometheus to have access to metrics and to Grafana to provide dashboards.\n",
    "The following components provide built-in sample Grafana dashboards:\n",
    "- Argo Controller\n",
    "- Jupyter Notebook Controller\n",
    "- Seldon Controller Manager\n",
    "\n",
    "### Prometheus integration\n",
    "\n",
    "To relate Kubeflow deployment with Prometheus in COS:"
   ]
  },
  {
   "cell_type": "code",
   "execution_count": null,
   "metadata": {
    "tags": [
     "code"
    ]
   },
   "outputs": [],
   "source": [
    "juju switch kubeflow\n",
    "juju add-relation argo-controller admin/cos.prometheus-scrape\n",
    "juju add-relation dex-auth admin/cos.prometheus-scrape\n",
    "juju add-relation katib-controller admin/cos.prometheus-scrape\n",
    "juju add-relation kfp-api admin/cos.prometheus-scrape\n",
    "juju add-relation metacontroller-operator admin/cos.prometheus-scrape\n",
    "juju add-relation minio admin/cos.prometheus-scrape\n",
    "juju add-relation seldon-controller-manager admin/cos.prometheus-scrape\n",
    "juju add-relation training-operator admin/cos.prometheus-scrape\n",
    "juju add-relation mlflow-server admin/cos.prometheus-scrape\n",
    "juju add-relation jupyter-controller admin/cos.prometheus-scrape"
   ]
  },
  {
   "attachments": {},
   "cell_type": "markdown",
   "metadata": {
    "tags": [
     "text"
    ]
   },
   "source": [
    "### Grafana integration\n",
    "\n",
    "To relate Kubeflow deployment with Grafana in COS:"
   ]
  },
  {
   "cell_type": "code",
   "execution_count": null,
   "metadata": {
    "tags": [
     "code"
    ]
   },
   "outputs": [],
   "source": [
    "juju switch kubeflow\n",
    "juju add-relation jupyter-controller admin/cos.grafana-dashboards\n",
    "juju add-relation seldon-controller-manager admin/cos.grafana-dashboards\n",
    "juju add-relation argo-controller admin/cos.grafana-dashboards"
   ]
  },
  {
   "attachments": {},
   "cell_type": "markdown",
   "metadata": {
    "tags": [
     "text"
    ]
   },
   "source": [
    "### Access Prometheus metrics\n",
    "\n",
    "Follow COS documentation on how to access Prometheus metrics [Browse dashboards](https://charmhub.io/topics/canonical-observability-stack/tutorials/install-microk8s) section or obtain IP address using `juju show-unit` command:"
   ]
  },
  {
   "cell_type": "code",
   "execution_count": null,
   "metadata": {
    "tags": [
     "code"
    ]
   },
   "outputs": [],
   "source": [
    "juju switch cos\n",
    "PROMETHEUS_IP=$(juju show-unit prometheus/0 --format yaml | yq .prometheus/0.address)\n",
    "curl -f -LI \"http://$PROMETHEUS_IP:9090\""
   ]
  },
  {
   "attachments": {},
   "cell_type": "markdown",
   "metadata": {
    "tags": [
     "text"
    ]
   },
   "source": [
    "\n",
    "Navigate to Promethues metrics URL, eg. `http://<prometheus-unit-ip>:9090`. Navigate to **Status**- > **Targets** to see available metrics for various components that were related to Prometheus.\n",
    "\n",
    "![Targets](./graphics/Targets.png) "
   ]
  },
  {
   "attachments": {},
   "cell_type": "markdown",
   "metadata": {
    "tags": [
     "text"
    ]
   },
   "source": [
    "### Access Prometheus alerts\n",
    "\n",
    "In order to see alerts available for Prometheus, through Prometheus metrics URL, navigate to \"Alerts\".\n",
    "\n",
    "![Alerts](./graphics/Alerts.png)\n",
    "\n",
    "#### List of alerts per Kubeflow component\n",
    "\n",
    "**Argo Workflows**\n",
    "Alert | Expression and corresponding Argo Workflow metric | Severity\n",
    "--- | --- | ---\n",
    "ArgoWorkflowErrorLoglines | increase(log_messages{level=\"error\"}[2m])  > 10 | Critical\n",
    "ArgoWorkflowWarningLoglines | increase(log_messages{level=\"warning\"}[2m]) > 40 | Warning\n",
    "ArgoUnitIsUnavailable | up < 1 | Critical\n",
    "ArgoWorkflowsErroring | increase( argo_workflows_count{status=\"Error\"}[2m] ) > 1 | Warning\n",
    "ArgoWorkflowsFailed | increase( argo_workflows_count{status=\"Failed\"}[2m]) > 1 |Warning\n",
    "ArgoWorkflowsPending | increase( argo_workflows_count{status=\"Pending\"}[2m] ) > 1 | Warning\n",
    "\n",
    "**Jupyter Notebook Controller**\n",
    "Alert | Expression and corresponding Jupyter Notebook Controller metric | Severity\n",
    "--- | --- | ---\n",
    "UnfinishedWorkQueueAlert | rate(workqueue_unfinished_work_seconds[5m]) >= 100 | Critical\n",
    "FileDescriptorsExhausted | process_open_fds / process_max_fds >= 0.98 | Critical\n",
    "FileDescriptorsSoonToBeExhausted | predict_linear((process_open_fds / process_max_fds)[5m:], 60*60) >= 1 |High\n",
    "JupyterControllerRuntimeReconciliationErrorsExceedThreshold | rate(controller_runtime_reconcile_errors_total[5m]) > 0 | Critical\n",
    "JupyterControllerUnitIsUnavailable | up < 1| Critical\n",
    "\n",
    "**Istio Pilot**\n",
    "Alert | Expression and corresponding Istio Pilot metric | Severity\n",
    "--- | --- | ---\n",
    "IstioPilotAvailabilityDrop | avg(avg_over_time(up[1m])) < 0.5 for: 5m | Critical\n",
    "\n",
    "**Seldon Controller Manager**\n",
    "\n",
    "Alert | Expression and corresponding Seldon Core Operator metric | Severity\n",
    "--- | --- | ---\n",
    "SeldonWorkqueueTooManyRetries | rate(workqueue_retries_total[10m]) > 0 | Critical\n",
    "SeldonHTTPError | rate(rest_client_requests_total{code=~\"4.*\"}[10m]) > 0 | Critical\n",
    "SeldonReconcileError | rate(controller_runtime_reconcile_total{result=\"error\"}[10m]) > 0 | Critical\n",
    "SeldonUnfinishedWorkIncrease | rate(workqueue_unfinished_work_seconds[10m]) > 0| Critical\n",
    "SeldonWebhookError | rate(controller_runtime_webhook_requests_total{code=\"5.*\"}[10m]) > 0 | Critical\n",
    "SeldonUnitIsUnavailable | up < 1 | Critical\n",
    "\n"
   ]
  },
  {
   "attachments": {},
   "cell_type": "markdown",
   "metadata": {
    "tags": [
     "text"
    ]
   },
   "source": [
    "### Access Grafana dashboards\n",
    "\n",
    "Follow COS documentation on how to access Grafana dashboard [Brosed dashboards](https://charmhub.io/topics/canonical-observability-stack/tutorials/install-microk8s) section or obtain IP address using `juju show-unit` command:"
   ]
  },
  {
   "cell_type": "code",
   "execution_count": null,
   "metadata": {
    "tags": [
     "code"
    ]
   },
   "outputs": [],
   "source": [
    "juju switch cos\n",
    "GRAFANA_IP=$(juju show-unit grafana/0 --format yaml | yq .grafana/0.address)\n",
    "curl -f -LI \"http://$GRAFANA_IP:3000\"\n",
    "EXTERNAL_IP=$(microk8s kubectl -n cos get svc traefik -o jsonpath='{.status.loadBalancer.ingress[0].ip}')\n",
    "curl -f -LI \"http://$EXTERNAL_IP/cos-grafana-0\""
   ]
  },
  {
   "attachments": {},
   "cell_type": "markdown",
   "metadata": {
    "tags": [
     "text"
    ]
   },
   "source": [
    "\n",
    "Navigate to Grafana dashboard URL, eg. `http://<grafana-unit-ip>:3000` or `http://<external-ip>/cos-grafana-0`\n",
    "\n",
    "NOTE: If deployed on AWS use the following command to properly set `EXTERNAL_IP` address: `EXTERNAL_IP=$(kubectl -n cos get svc traefik -o jsonpath='{.status.loadBalancer.ingress[0].hostname}')`\n",
    "\n",
    "Browse available dashboards by navigating to **Dashboards** -> **Browse**. There should be the following dashboards available:\n",
    "- ArgoWorkflow Metrics\n",
    "- Jupyter Notebook Controller\n",
    "- Seldon Core\n",
    "\n",
    "#### View metrics in ArgoWorkflow Metrics dashboard\n",
    "\n",
    "Navigate to \"ArgoWorkflow Metrics\" dashboard.\n",
    "Locate Grafana filters at the top of the dashboard and select the following to see the metrics, if required:\n",
    "- **Juju model** = `kubeflow`\n",
    "- **Juju application** = `argo-controller`\n",
    "\n",
    "The following metrics are provided (scroll down to see more graphs):\n",
    "- Number of workflows in error state\n",
    "- Number of workflows in failed state\n",
    "- Number of workflows in pending state\n",
    "- Number of workflows in running state\n",
    "- Number of workflows in succeded state\n",
    "- Graph of number of workflow currently accessible by controller\n",
    "- Graph of number of workflow errors alerting\n",
    "- Histogram of workflow operation duration (not execution time)\n",
    "- Graph of number of workflow queue adds\n",
    "- Graph of depth of work queue\n",
    "- Graph of time objects spent in the queue\n",
    "- Graph of number of log messages\n",
    "\n",
    "![Argo](./graphics/Argo.png)\n",
    "\n",
    "#### View metrics in Jupyter Notebook Controller dashboard\n",
    "\n",
    "Navigate to \"Jupyter Notebook Controller\" dashboard.\n",
    "Locate Grafana filters at the top of the dashboard and select the following to see the metrics, if required:\n",
    "- **Juju model** = `kubeflow`\n",
    "- **Juju application** = `jupyter-controller`\n",
    "\n",
    "The following metrics are provided:\n",
    "- Graph of number of notebooks created on the controller since last restart.\n",
    "- Graph of number of notebooks present on the controller.\n",
    "\n",
    "![Jupyter-dashboard](./graphics/Jupyter.png)\n",
    "\n",
    "#### View metrics in Seldon Controller Manager dashboard\n",
    "\n",
    "Navigate to \"Seldon Core\" dashboard.\n",
    "Locate Grafana filters at the top of the dashboard and select the following to see the metrics, if required:\n",
    "- **Juju model** = `kubeflow`\n",
    "- **Juju application** = `seldon-controller-manager`\n",
    "\n",
    "The following metrics are provided and describe models deployed to Seldon Core:\n",
    "- Graph of number of models rejected and accepted.\n",
    "\n",
    "![Seldon](./graphics/Seldon.png)"
   ]
  }
 ],
 "metadata": {
  "kernelspec": {
   "display_name": "Python 3",
   "language": "python",
   "name": "python3"
  },
  "language_info": {
   "name": "python",
   "version": "3.10.6"
  },
  "orig_nbformat": 4,
  "vscode": {
   "interpreter": {
    "hash": "e7370f93d1d0cde622a1f8e1c04877d8463912d04d973331ad4851f04de6915a"
   }
  }
 },
 "nbformat": 4,
 "nbformat_minor": 2
}
