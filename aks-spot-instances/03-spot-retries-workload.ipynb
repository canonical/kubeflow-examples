{
 "cells": [
  {
   "cell_type": "code",
   "execution_count": 1,
   "id": "4ccaf014-70db-4182-9f5a-425244fadba8",
   "metadata": {},
   "outputs": [],
   "source": [
    "!pip install \"kfp<2.0\" --upgrade -q"
   ]
  },
  {
   "cell_type": "code",
   "execution_count": 2,
   "id": "8da20c25-4df7-45c2-98df-aa40d258c2f6",
   "metadata": {},
   "outputs": [],
   "source": [
    "import kfp\n",
    "import kfp.components as comp\n",
    "from kfp import dsl\n",
    "\n",
    "import glob\n",
    "import pandas as pd\n",
    "import tarfile\n",
    "import urllib.request"
   ]
  },
  {
   "cell_type": "code",
   "execution_count": 3,
   "id": "9659008c-f5e8-433e-bda3-5e91d7e89b6b",
   "metadata": {},
   "outputs": [],
   "source": [
    "def merge_csv(file_path: comp.InputPath('Tarball'),\n",
    "              output_csv: comp.OutputPath('CSV')):\n",
    "    import glob\n",
    "    import pandas as pd\n",
    "    import tarfile\n",
    "\n",
    "    tarfile.open(name=file_path, mode=\"r|gz\").extractall('data')\n",
    "    df = pd.concat(\n",
    "        [pd.read_csv(csv_file, header=None)for csv_file in glob.glob('data/*.csv')])\n",
    "    df.to_csv(output_csv, index=False, header=False)"
   ]
  },
  {
   "cell_type": "code",
   "execution_count": 4,
   "id": "cd2c71ee-ee11-4a24-afa5-45e7671cf9e0",
   "metadata": {},
   "outputs": [],
   "source": [
    "create_step_merge_csv = kfp.components.create_component_from_func(\n",
    "        func=merge_csv,\n",
    "        output_component_file='component.yaml', # This is optional. It saves the component spec for future use.\n",
    "        base_image='python:3.7',\n",
    "        packages_to_install=['pandas==1.1.4'])"
   ]
  },
  {
   "cell_type": "code",
   "execution_count": 5,
   "id": "8fd811c9-516b-43eb-8593-b60f4a158ef2",
   "metadata": {},
   "outputs": [],
   "source": [
    "web_downloader_op = kfp.components.load_component_from_url(\n",
    "           'https://raw.githubusercontent.com/kubeflow/pipelines/master/components/contrib/web/Download/component.yaml')"
   ]
  },
  {
   "cell_type": "code",
   "execution_count": 6,
   "id": "997e7cb1-9499-41ad-a25f-f8152a83fe54",
   "metadata": {},
   "outputs": [],
   "source": [
    "from kubernetes.client.models import V1Toleration, V1Affinity, V1NodeAffinity, V1NodeSelector, V1NodeSelectorTerm, V1NodeSelectorRequirement\n",
    "\n",
    "@dsl.pipeline(\n",
    "    name=\"base_pipeline\",\n",
    "    description=\"my base pipeline\",\n",
    ")\n",
    "def my_pipeline(url):\n",
    "    web_downloader_task = web_downloader_op(url=url)\n",
    "    merge_csv_task = create_step_merge_csv(file=web_downloader_task.outputs['data'])\n",
    "\n",
    "    toleration = V1Toleration(\n",
    "        key=\"kubernetes.azure.com/scalesetpriority\",\n",
    "        operator=\"Equal\",\n",
    "        value=\"spot\",\n",
    "        effect=\"NoSchedule\",\n",
    "    )\n",
    "    web_downloader_task.add_toleration(toleration)\n",
    "    merge_csv_task.add_toleration(toleration)\n",
    "\n",
    "    aff = V1Affinity(node_affinity=V1NodeAffinity(\n",
    "        required_during_scheduling_ignored_during_execution=V1NodeSelector(\n",
    "            node_selector_terms=[V1NodeSelectorTerm(\n",
    "                match_expressions=[V1NodeSelectorRequirement(\n",
    "                    key='kubernetes.azure.com/scalesetpriority',\n",
    "                    operator='In',\n",
    "                    values=['spot'])])]))\n",
    "    )\n",
    "    web_downloader_task.add_affinity(aff)\n",
    "    merge_csv_task.add_affinity(aff)\n",
    "    \n",
    "    web_downloader_task.set_retry(num_retries=5, backoff_duration=\"5m\")\n",
    "    merge_csv_task.set_retry(num_retries=5, backoff_duration=\"5m\")"
   ]
  },
  {
   "cell_type": "code",
   "execution_count": 7,
   "id": "0598ea97-02cb-4703-acc2-43d184999c2b",
   "metadata": {},
   "outputs": [],
   "source": [
    "client = kfp.Client()"
   ]
  },
  {
   "cell_type": "code",
   "execution_count": 8,
   "id": "f55ee45f-1af7-45cc-a250-e80c9f45c2a2",
   "metadata": {},
   "outputs": [
    {
     "data": {
      "text/html": [
       "<a href=\"/pipeline/#/experiments/details/7aa8072a-2df4-4105-b931-555344e8ab60\" target=\"_blank\" >Experiment details</a>."
      ],
      "text/plain": [
       "<IPython.core.display.HTML object>"
      ]
     },
     "metadata": {},
     "output_type": "display_data"
    },
    {
     "data": {
      "text/html": [
       "<a href=\"/pipeline/#/runs/details/fd871f30-d0b8-48b6-8df8-dce561649372\" target=\"_blank\" >Run details</a>."
      ],
      "text/plain": [
       "<IPython.core.display.HTML object>"
      ]
     },
     "metadata": {},
     "output_type": "display_data"
    },
    {
     "data": {
      "text/plain": [
       "RunPipelineResult(run_id=fd871f30-d0b8-48b6-8df8-dce561649372)"
      ]
     },
     "execution_count": 8,
     "metadata": {},
     "output_type": "execute_result"
    }
   ],
   "source": [
    "client.create_run_from_pipeline_func(\n",
    "    my_pipeline,\n",
    "    arguments={\n",
    "        'url': 'https://storage.googleapis.com/ml-pipeline-playground/iris-csv-files.tar.gz'\n",
    "    })"
   ]
  },
  {
   "cell_type": "code",
   "execution_count": null,
   "id": "37383f11-b612-4132-8aa5-6f515727b0f5",
   "metadata": {},
   "outputs": [],
   "source": []
  }
 ],
 "metadata": {
  "kernelspec": {
   "display_name": "Python 3 (ipykernel)",
   "language": "python",
   "name": "python3"
  },
  "language_info": {
   "codemirror_mode": {
    "name": "ipython",
    "version": 3
   },
   "file_extension": ".py",
   "mimetype": "text/x-python",
   "name": "python",
   "nbconvert_exporter": "python",
   "pygments_lexer": "ipython3",
   "version": "3.8.10"
  }
 },
 "nbformat": 4,
 "nbformat_minor": 5
}
