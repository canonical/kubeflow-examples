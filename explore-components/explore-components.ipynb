{
 "cells": [
  {
   "cell_type": "code",
   "execution_count": null,
   "id": "3451706c-7adb-48af-9c26-3967a808374e",
   "metadata": {
    "scrolled": true
   },
   "outputs": [],
   "source": [
    "!pip install kfp==2.5.0 mlflow==2.15.1 kserve==0.13.1 tenacity"
   ]
  },
  {
   "cell_type": "code",
   "execution_count": 2,
   "id": "15e63e5e-33ac-41ce-98ff-be0ac01beead",
   "metadata": {},
   "outputs": [],
   "source": [
    "import kfp\n",
    "import mlflow\n",
    "import os\n",
    "import requests\n",
    "\n",
    "from kfp.dsl import Input, Model, component\n",
    "from kfp.dsl import InputPath, OutputPath, pipeline, component\n",
    "from kserve import KServeClient\n",
    "from mlflow.tracking import MlflowClient\n",
    "from tenacity import retry, stop_after_attempt, wait_exponential"
   ]
  },
  {
   "cell_type": "code",
   "execution_count": 3,
   "id": "8c23f1b1-d42c-47f5-a4c4-956df3f53d4a",
   "metadata": {},
   "outputs": [],
   "source": [
    "@component(\n",
    "    base_image=\"python:3.11\",\n",
    "    packages_to_install=[\"requests==2.32.3\", \"pandas==2.2.2\"]\n",
    ")\n",
    "def download_dataset(url: str, dataset_path: OutputPath('Dataset')) -> None:\n",
    "    import requests\n",
    "    import pandas as pd\n",
    "\n",
    "    response = requests.get(url)\n",
    "    response.raise_for_status()\n",
    "\n",
    "    from io import StringIO\n",
    "    dataset = pd.read_csv(StringIO(response.text), header=0, sep=\";\")\n",
    "\n",
    "    dataset.to_csv(dataset_path, index=False)"
   ]
  },
  {
   "cell_type": "code",
   "execution_count": 4,
   "id": "e4e7351f-054b-46b7-bd13-08587f685c6f",
   "metadata": {},
   "outputs": [],
   "source": [
    "@component(\n",
    "    base_image=\"python:3.11\",\n",
    "    packages_to_install=[\"pandas==2.2.2\", \"pyarrow==15.0.2\"]\n",
    ")\n",
    "def preprocess_dataset(dataset: InputPath('Dataset'), output_file: OutputPath('Dataset')) -> None:\n",
    "    import pandas as pd\n",
    "    \n",
    "    df = pd.read_csv(dataset, header=0)\n",
    "    df.columns = [c.lower().replace(\" \", \"_\") for c in df.columns]\n",
    "    df.to_parquet(output_file)"
   ]
  },
  {
   "cell_type": "code",
   "execution_count": 5,
   "id": "274e5011-affc-4ba8-b4c2-c7e994d2c192",
   "metadata": {},
   "outputs": [],
   "source": [
    "@component(\n",
    "    base_image=\"python:3.11\",\n",
    "    packages_to_install=[\"pandas==2.2.2\", \"scikit-learn==1.5.1\", \"mlflow==2.15.1\", \"pyarrow==15.0.2\", \"boto3==1.34.162\"]\n",
    ")\n",
    "def train_model(dataset: InputPath('Dataset'), run_name: str, model_name: str) -> str:\n",
    "    import os\n",
    "    import mlflow\n",
    "    import pandas as pd\n",
    "    from sklearn.linear_model import ElasticNet\n",
    "    from sklearn.model_selection import train_test_split\n",
    "\n",
    "    df = pd.read_parquet(dataset)\n",
    "    \n",
    "    target_column = \"quality\"\n",
    "\n",
    "    train_x, test_x, train_y, test_y = train_test_split(\n",
    "        df.drop(columns=[target_column]),\n",
    "        df[target_column], test_size=0.25,\n",
    "        random_state=42, stratify=df[target_column]\n",
    "    )\n",
    "\n",
    "    mlflow.sklearn.autolog()\n",
    "    \n",
    "    with mlflow.start_run(run_name=run_name) as run:\n",
    "        mlflow.set_tag(\"author\", \"kf-testing\")\n",
    "        lr = ElasticNet(alpha=0.5, l1_ratio=0.5, random_state=42)\n",
    "        lr.fit(train_x, train_y)\n",
    "        mlflow.sklearn.log_model(lr, \"model\", registered_model_name=model_name)\n",
    "        \n",
    "        model_uri = f\"{run.info.artifact_uri}/model\"\n",
    "        print(model_uri)\n",
    "        return model_uri"
   ]
  },
  {
   "cell_type": "code",
   "execution_count": 6,
   "id": "c502ce94-c5be-4700-aac4-2af641d58e6b",
   "metadata": {},
   "outputs": [],
   "source": [
    "@component(\n",
    "    base_image=\"python:3.11\",\n",
    "    packages_to_install=[\"kserve==0.13.1\", \"kubernetes==26.1.0\", \"tenacity==9.0.0\"]\n",
    ")\n",
    "def deploy_model_with_kserve(model_uri: str, isvc_name: str) -> str:\n",
    "    from kubernetes.client import V1ObjectMeta\n",
    "    from kserve import (\n",
    "        constants,\n",
    "        KServeClient,\n",
    "        V1beta1InferenceService,\n",
    "        V1beta1InferenceServiceSpec,\n",
    "        V1beta1PredictorSpec,\n",
    "        V1beta1SKLearnSpec,\n",
    "    )\n",
    "    from tenacity import retry, wait_exponential, stop_after_attempt\n",
    "\n",
    "    isvc = V1beta1InferenceService(\n",
    "        api_version=constants.KSERVE_V1BETA1,\n",
    "        kind=constants.KSERVE_KIND,\n",
    "        metadata=V1ObjectMeta(\n",
    "            name=isvc_name,\n",
    "            annotations={\"sidecar.istio.io/inject\": \"false\"},\n",
    "        ),\n",
    "        spec=V1beta1InferenceServiceSpec(\n",
    "            predictor=V1beta1PredictorSpec(\n",
    "                service_account_name=\"kserve-controller-s3\",\n",
    "                sklearn=V1beta1SKLearnSpec(\n",
    "                    storage_uri=model_uri\n",
    "                )\n",
    "            )\n",
    "        )\n",
    "    )\n",
    "    \n",
    "    client = KServeClient()\n",
    "    client.create(isvc)\n",
    "\n",
    "    @retry(\n",
    "        wait=wait_exponential(multiplier=2, min=1, max=10),\n",
    "        stop=stop_after_attempt(30),\n",
    "        reraise=True,\n",
    "    )\n",
    "    def assert_isvc_created(client, isvc_name):\n",
    "        assert client.is_isvc_ready(isvc_name), f\"Failed to create Inference Service {isvc_name}.\"\n",
    "\n",
    "    assert_isvc_created(client, isvc_name)\n",
    "    isvc_resp = client.get(isvc_name)\n",
    "    isvc_url = isvc_resp['status']['address']['url']\n",
    "    print(\"Inference URL:\", isvc_url)\n",
    "    \n",
    "    return isvc_url"
   ]
  },
  {
   "cell_type": "code",
   "execution_count": 7,
   "id": "4faf3aa7-6145-4734-afad-a18fb301a657",
   "metadata": {},
   "outputs": [],
   "source": [
    "ISVC_NAME = \"wine-regressor4\"\n",
    "MLFLOW_RUN_NAME = \"elastic_net_models\"\n",
    "MLFLOW_MODEL_NAME = \"wine-elasticnet\"\n",
    "\n",
    "mlflow_tracking_uri = os.getenv('MLFLOW_TRACKING_URI')\n",
    "mlflow_s3_endpoint_url = os.getenv('MLFLOW_S3_ENDPOINT_URL')\n",
    "aws_access_key_id = os.getenv('AWS_ACCESS_KEY_ID')\n",
    "aws_secret_access_key = os.getenv('AWS_SECRET_ACCESS_KEY')\n",
    "\n",
    "@pipeline(name='download-preprocess-train-deploy-pipeline')\n",
    "def download_preprocess_train_deploy_pipeline(url: str):\n",
    "    download_task = download_dataset(url=url)\n",
    "    \n",
    "    preprocess_task = preprocess_dataset(\n",
    "        dataset=download_task.outputs['dataset_path']\n",
    "    )\n",
    "    \n",
    "    train_task = train_model(\n",
    "        dataset=preprocess_task.outputs['output_file'], run_name=MLFLOW_RUN_NAME, model_name=MLFLOW_MODEL_NAME\n",
    "    ).set_env_variable(name='MLFLOW_TRACKING_URI', value=mlflow_tracking_uri)\\\n",
    "     .set_env_variable(name='MLFLOW_S3_ENDPOINT_URL', value=mlflow_s3_endpoint_url)\\\n",
    "     .set_env_variable(name='AWS_ACCESS_KEY_ID', value=aws_access_key_id)\\\n",
    "     .set_env_variable(name='AWS_SECRET_ACCESS_KEY', value=aws_secret_access_key)\n",
    "    \n",
    "    deploy_task = deploy_model_with_kserve(\n",
    "        model_uri=train_task.output, isvc_name=ISVC_NAME\n",
    "    ).set_env_variable(name='AWS_SECRET_ACCESS_KEY', value=aws_secret_access_key)"
   ]
  },
  {
   "cell_type": "code",
   "execution_count": 8,
   "id": "946ef679-36f1-40fd-b36f-6fe9f73e31a2",
   "metadata": {},
   "outputs": [
    {
     "name": "stderr",
     "output_type": "stream",
     "text": [
      "/opt/conda/lib/python3.11/site-packages/kfp/client/client.py:159: FutureWarning: This client only works with Kubeflow Pipeline v2.0.0-beta.2 and later versions.\n",
      "  warnings.warn(\n"
     ]
    },
    {
     "data": {
      "text/html": [
       "<a href=\"/pipeline/#/experiments/details/84d2ce0a-b3b0-4d70-abf8-5b556b081ba9\" target=\"_blank\" >Experiment details</a>."
      ],
      "text/plain": [
       "<IPython.core.display.HTML object>"
      ]
     },
     "metadata": {},
     "output_type": "display_data"
    },
    {
     "data": {
      "text/html": [
       "<a href=\"/pipeline/#/runs/details/ce6b2243-3145-495a-a1e2-4e9bb2ea534a\" target=\"_blank\" >Run details</a>."
      ],
      "text/plain": [
       "<IPython.core.display.HTML object>"
      ]
     },
     "metadata": {},
     "output_type": "display_data"
    }
   ],
   "source": [
    "client = kfp.Client()\n",
    "\n",
    "url = 'https://raw.githubusercontent.com/canonical/kubeflow-examples/main/e2e-wine-kfp-mlflow/winequality-red.csv'\n",
    "\n",
    "kfp.compiler.Compiler().compile(download_preprocess_train_deploy_pipeline, 'download_preprocess_train_deploy_pipeline.yaml')\n",
    "\n",
    "run = client.create_run_from_pipeline_func(download_preprocess_train_deploy_pipeline, arguments={'url': url}, enable_caching=False)"
   ]
  },
  {
   "cell_type": "code",
   "execution_count": 9,
   "id": "d920ae31-3991-43b7-a5ae-57691cb08a6b",
   "metadata": {},
   "outputs": [],
   "source": [
    "@retry(\n",
    "    wait=wait_exponential(multiplier=2, min=1, max=10),\n",
    "    stop=stop_after_attempt(90),\n",
    "    reraise=True,\n",
    ")\n",
    "def assert_kfp_run_succeeded(client, run_id):\n",
    "    run = client.get_run(run_id=run_id)\n",
    "    state = run.state\n",
    "    assert state == \"SUCCEEDED\", f\"KFP run is in {state} state.\"\n",
    "\n",
    "assert_kfp_run_succeeded(client, run.run_id)"
   ]
  },
  {
   "cell_type": "code",
   "execution_count": 10,
   "id": "a7a51dd8-8e04-4ec4-8f57-8a0d5ea9d92a",
   "metadata": {
    "scrolled": true
   },
   "outputs": [
    {
     "name": "stdout",
     "output_type": "stream",
     "text": [
      "Inference URL: http://wine-regressor4.admin.svc.cluster.local\n",
      "{\"predictions\":[5.575510497546586,5.527143590500911]}\n"
     ]
    }
   ],
   "source": [
    "kserve_client = KServeClient()\n",
    "\n",
    "isvc_resp = kserve_client.get(ISVC_NAME)\n",
    "inference_service_url = isvc_resp['status']['address']['url']\n",
    "print(\"Inference URL:\", inference_service_url)\n",
    "\n",
    "input_data = {\n",
    "    \"instances\": [\n",
    "        [7.4, 0.7, 0.0, 1.9, 0.076, 11.0, 34.0, 0.9978, 3.51, 0.56, 9.4],\n",
    "        [7.8, 0.88, 0.0, 2.6, 0.098, 25.0, 67.0, 0.9968, 3.2, 0.68, 9.8]\n",
    "    ]\n",
    "}\n",
    "\n",
    "response = requests.post(f\"{inference_service_url}/v1/models/{ISVC_NAME}:predict\", json=input_data)\n",
    "print(response.text)"
   ]
  },
  {
   "cell_type": "code",
   "execution_count": 11,
   "id": "3aec6a24-7429-4a80-b537-370a00bbe7db",
   "metadata": {},
   "outputs": [],
   "source": [
    "kserve_client.delete(ISVC_NAME)\n",
    "\n",
    "@retry(\n",
    "    wait=wait_exponential(multiplier=2, min=1, max=10),\n",
    "    stop=stop_after_attempt(30),\n",
    "    reraise=True,\n",
    ")\n",
    "def assert_isvc_deleted(kserve_client, isvc_name):\n",
    "    try:\n",
    "        isvc = kserve_client.get(isvc_name)\n",
    "        assert not isvc, f\"Failed to delete Inference Service {isvc_name}!\"\n",
    "    except RuntimeError as err:\n",
    "        assert \"Not Found\" in str(err), f\"Caught unexpected exception: {err}\"\n",
    "\n",
    "assert_isvc_deleted(kserve_client, ISVC_NAME)\n",
    "\n",
    "client = MlflowClient()\n",
    "client.delete_registered_model(name=MLFLOW_MODEL_NAME)"
   ]
  }
 ],
 "metadata": {
  "kernelspec": {
   "display_name": "Python 3 (ipykernel)",
   "language": "python",
   "name": "python3"
  },
  "language_info": {
   "codemirror_mode": {
    "name": "ipython",
    "version": 3
   },
   "file_extension": ".py",
   "mimetype": "text/x-python",
   "name": "python",
   "nbconvert_exporter": "python",
   "pygments_lexer": "ipython3",
   "version": "3.11.9"
  }
 },
 "nbformat": 4,
 "nbformat_minor": 5
}
