{
 "cells": [
  {
   "cell_type": "markdown",
   "id": "c6894075-6c1d-462a-a715-51746ef066d6",
   "metadata": {},
   "source": [
    "# Perform an experiment in MLFlow\n",
    "- start experiment \n",
    "- train model\n",
    "- save metrics\n",
    "- save artifact"
   ]
  },
  {
   "cell_type": "code",
   "execution_count": null,
   "id": "opening-plate",
   "metadata": {
    "tags": []
   },
   "outputs": [],
   "source": [
    "!pip install mlflow==1.13.1 boto3 awscli -q"
   ]
  },
  {
   "cell_type": "code",
   "execution_count": null,
   "id": "built-jacksonville",
   "metadata": {},
   "outputs": [],
   "source": [
    "import os\n",
    "import warnings\n",
    "import sys\n",
    "\n",
    "import pandas as pd\n",
    "import numpy as np\n",
    "from sklearn.metrics import mean_squared_error, mean_absolute_error, r2_score\n",
    "from sklearn.model_selection import train_test_split\n",
    "from sklearn.linear_model import ElasticNet\n",
    "from urllib.parse import urlparse\n",
    "import mlflow\n",
    "import mlflow.sklearn\n",
    "from mlflow.models.signature import infer_signature\n",
    "\n",
    "import logging\n",
    "\n",
    "logging.basicConfig(level=logging.DEBUG)\n",
    "logger = logging.getLogger(__name__)\n",
    "\n",
    "warnings.filterwarnings(\"ignore\")\n",
    "np.random.seed(40)"
   ]
  },
  {
   "cell_type": "code",
   "execution_count": null,
   "id": "08f9a28d-5399-438b-98c2-c4665d9d8ea8",
   "metadata": {},
   "outputs": [],
   "source": [
    "data = pd.read_csv(\"http://archive.ics.uci.edu/ml/machine-learning-databases/wine-quality/winequality-red.csv\", sep=\";\")\n",
    "data.head()"
   ]
  },
  {
   "cell_type": "code",
   "execution_count": null,
   "id": "3a2511a7-1f49-4e6d-ad5f-aaf94f2ec23d",
   "metadata": {},
   "outputs": [],
   "source": [
    "data.shape"
   ]
  },
  {
   "cell_type": "code",
   "execution_count": null,
   "id": "thick-begin",
   "metadata": {},
   "outputs": [],
   "source": [
    "TARGET_COLUMN = \"quality\"\n",
    "train, test = train_test_split(data)\n",
    "\n",
    "train_x = train.drop([TARGET_COLUMN], axis=1)\n",
    "test_x = test.drop([TARGET_COLUMN], axis=1)\n",
    "train_y = train[[TARGET_COLUMN]]\n",
    "test_y = test[[TARGET_COLUMN]]"
   ]
  },
  {
   "cell_type": "code",
   "execution_count": null,
   "id": "cfa5af5f-f2fe-4b21-839d-384073a8aefe",
   "metadata": {},
   "outputs": [],
   "source": [
    "!aws --endpoint-url $MLFLOW_S3_ENDPOINT_URL s3 mb s3://mlflow"
   ]
  },
  {
   "cell_type": "code",
   "execution_count": null,
   "id": "962afab0-372e-4dde-b2a2-7f85262327f1",
   "metadata": {
    "tags": []
   },
   "outputs": [],
   "source": [
    "experiment_id = mlflow.create_experiment(name=\"My Wine Experiments\")"
   ]
  },
  {
   "cell_type": "code",
   "execution_count": null,
   "id": "c3d74d1e-5f79-4cd0-8b8d-6b8afa0d8e97",
   "metadata": {},
   "outputs": [],
   "source": [
    "def experiment(alpha, l1_ratio):\n",
    "    mlflow.sklearn.autolog()\n",
    "    with mlflow.start_run(run_name='wine_models', experiment_id=experiment_id):\n",
    "            mlflow.set_tag(\"author\", \"bpk\")\n",
    "            lr = ElasticNet(alpha=alpha, l1_ratio=l1_ratio, random_state=42)\n",
    "            lr.fit(train_x, train_y)\n",
    "\n",
    "            pred_y = lr.predict(test_x)\n",
    "            mlflow.log_metric(\"rmse\", np.sqrt(mean_squared_error(test_y, pred_y)))\n",
    "            mlflow.log_metric(\"r2\", r2_score(test_y, pred_y))\n",
    "            mlflow.log_metric(\"mae\", mean_absolute_error(test_y, pred_y))\n",
    "\n",
    "            signature = infer_signature(test_x, pred_y)\n",
    "            mlflow.sklearn.log_model(lr, \"model\", registered_model_name=\"wine-elasticnet\", signature=signature)\n",
    "            \n",
    "experiment(0.5, 0.5)\n",
    "experiment(1, 0)\n",
    "experiment(0, 1)"
   ]
  },
  {
   "cell_type": "code",
   "execution_count": null,
   "id": "984c2a5e-f075-4f0f-bda2-9546c1468e30",
   "metadata": {},
   "outputs": [],
   "source": []
  }
 ],
 "metadata": {
  "kernelspec": {
   "display_name": "Python 3 (ipykernel)",
   "language": "python",
   "name": "python3"
  },
  "language_info": {
   "codemirror_mode": {
    "name": "ipython",
    "version": 3
   },
   "file_extension": ".py",
   "mimetype": "text/x-python",
   "name": "python",
   "nbconvert_exporter": "python",
   "pygments_lexer": "ipython3",
   "version": "3.8.10"
  }
 },
 "nbformat": 4,
 "nbformat_minor": 5
}
