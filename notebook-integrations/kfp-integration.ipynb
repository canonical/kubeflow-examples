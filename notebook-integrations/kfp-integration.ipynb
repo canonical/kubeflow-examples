{
 "cells": [
  {
   "cell_type": "markdown",
   "id": "ba70a2ba-3645-419b-8f8d-3c75e5864af1",
   "metadata": {},
   "source": [
    "# Check integration with KFP\n",
    "- create an experiment\n",
    "- create a run\n",
    "- check run passes"
   ]
  },
  {
   "cell_type": "code",
   "execution_count": 1,
   "id": "28f75e55-7bad-44e7-a65f-aedc81734a48",
   "metadata": {},
   "outputs": [],
   "source": [
    "!pip install \"kfp<2.0\" --upgrade -q"
   ]
  },
  {
   "cell_type": "code",
   "execution_count": 2,
   "id": "4cdd7548-bae9-4430-b548-f420d72a8aec",
   "metadata": {},
   "outputs": [],
   "source": [
    "import kfp\n",
    "import kfp.dsl as dsl\n",
    "from kfp import compiler\n",
    "from kfp import components"
   ]
  },
  {
   "cell_type": "code",
   "execution_count": 3,
   "id": "fd576641-1ff4-4fbb-9b3a-122abbd281ed",
   "metadata": {},
   "outputs": [],
   "source": [
    "client = kfp.Client()"
   ]
  },
  {
   "cell_type": "code",
   "execution_count": 4,
   "id": "c54d27ab-9fe5-4db6-8284-2c391e1983dd",
   "metadata": {},
   "outputs": [
    {
     "data": {
      "text/plain": [
       "{'experiments': [{'created_at': datetime.datetime(2023, 7, 5, 10, 58, 23, tzinfo=tzlocal()),\n",
       "                  'description': None,\n",
       "                  'id': '832974a3-9bbd-4c8a-a497-486a5d780f76',\n",
       "                  'name': 'Simple notebook pipeline',\n",
       "                  'resource_references': [{'key': {'id': 'admin',\n",
       "                                                   'type': 'NAMESPACE'},\n",
       "                                           'name': None,\n",
       "                                           'relationship': 'OWNER'}],\n",
       "                  'storage_state': 'STORAGESTATE_AVAILABLE'},\n",
       "                 {'created_at': datetime.datetime(2023, 7, 5, 11, 2, 46, tzinfo=tzlocal()),\n",
       "                  'description': None,\n",
       "                  'id': '58ba9dbc-3825-4567-b78c-579b42183991',\n",
       "                  'name': 'Default',\n",
       "                  'resource_references': [{'key': {'id': 'admin',\n",
       "                                                   'type': 'NAMESPACE'},\n",
       "                                           'name': None,\n",
       "                                           'relationship': 'OWNER'}],\n",
       "                  'storage_state': 'STORAGESTATE_AVAILABLE'}],\n",
       " 'next_page_token': None,\n",
       " 'total_size': 2}"
      ]
     },
     "execution_count": 4,
     "metadata": {},
     "output_type": "execute_result"
    }
   ],
   "source": [
    "client.list_experiments()"
   ]
  },
  {
   "cell_type": "code",
   "execution_count": 5,
   "id": "af70bb9d-3fea-40d7-acb9-649007b0bde6",
   "metadata": {},
   "outputs": [],
   "source": [
    "EXPERIMENT_NAME = 'Simple notebook pipeline' "
   ]
  },
  {
   "cell_type": "code",
   "execution_count": 6,
   "id": "40a3a9e1-0645-474e-8451-92ccba88a122",
   "metadata": {},
   "outputs": [],
   "source": [
    "def add(a: float, b: float) -> float:\n",
    "    '''Calculates sum of two arguments'''\n",
    "    print(a, '+', b, '=', a + b)\n",
    "    return a + b"
   ]
  },
  {
   "cell_type": "code",
   "execution_count": 7,
   "id": "1d134c8b-54a7-4d10-ae2f-321ff305600a",
   "metadata": {},
   "outputs": [],
   "source": [
    "add_op = kfp.components.func_to_container_op(\n",
    "        func=add,\n",
    "        base_image='python:3.7')"
   ]
  },
  {
   "cell_type": "code",
   "execution_count": 8,
   "id": "c8132d87-877c-4bfb-9127-e1f964fe3acb",
   "metadata": {},
   "outputs": [],
   "source": [
    "@dsl.pipeline(\n",
    "   name='Calculation pipeline',\n",
    "   description='A toy pipeline that performs arithmetic calculations.'\n",
    ")\n",
    "def calc_pipeline(a: float = 0, b: float = 7):\n",
    "    add_task = add_op(a, 4) \n",
    "    add_2_task = add_op(a, b)\n",
    "    add_3_task = add_op(add_task.output, add_2_task.output)"
   ]
  },
  {
   "cell_type": "code",
   "execution_count": 9,
   "id": "bd297620-ff9c-4d85-82eb-10c89db09d6f",
   "metadata": {},
   "outputs": [
    {
     "data": {
      "text/html": [
       "<a href=\"/pipeline/#/experiments/details/832974a3-9bbd-4c8a-a497-486a5d780f76\" target=\"_blank\" >Experiment details</a>."
      ],
      "text/plain": [
       "<IPython.core.display.HTML object>"
      ]
     },
     "metadata": {},
     "output_type": "display_data"
    },
    {
     "data": {
      "text/html": [
       "<a href=\"/pipeline/#/runs/details/7f53d798-126d-43d8-a211-74bdf963d9ff\" target=\"_blank\" >Run details</a>."
      ],
      "text/plain": [
       "<IPython.core.display.HTML object>"
      ]
     },
     "metadata": {},
     "output_type": "display_data"
    },
    {
     "data": {
      "text/plain": [
       "RunPipelineResult(run_id=7f53d798-126d-43d8-a211-74bdf963d9ff)"
      ]
     },
     "execution_count": 9,
     "metadata": {},
     "output_type": "execute_result"
    }
   ],
   "source": [
    "arguments = {'a': '7', 'b': '8'}\n",
    "client.create_run_from_pipeline_func(calc_pipeline, arguments=arguments,\n",
    "                                     experiment_name=EXPERIMENT_NAME)"
   ]
  },
  {
   "cell_type": "code",
   "execution_count": 10,
   "id": "37ebdc86-a16d-40a0-bc7e-33a2b90914f8",
   "metadata": {},
   "outputs": [
    {
     "data": {
      "text/plain": [
       "{'experiments': [{'created_at': datetime.datetime(2023, 7, 5, 10, 58, 23, tzinfo=tzlocal()),\n",
       "                  'description': None,\n",
       "                  'id': '832974a3-9bbd-4c8a-a497-486a5d780f76',\n",
       "                  'name': 'Simple notebook pipeline',\n",
       "                  'resource_references': [{'key': {'id': 'admin',\n",
       "                                                   'type': 'NAMESPACE'},\n",
       "                                           'name': None,\n",
       "                                           'relationship': 'OWNER'}],\n",
       "                  'storage_state': 'STORAGESTATE_AVAILABLE'},\n",
       "                 {'created_at': datetime.datetime(2023, 7, 5, 11, 2, 46, tzinfo=tzlocal()),\n",
       "                  'description': None,\n",
       "                  'id': '58ba9dbc-3825-4567-b78c-579b42183991',\n",
       "                  'name': 'Default',\n",
       "                  'resource_references': [{'key': {'id': 'admin',\n",
       "                                                   'type': 'NAMESPACE'},\n",
       "                                           'name': None,\n",
       "                                           'relationship': 'OWNER'}],\n",
       "                  'storage_state': 'STORAGESTATE_AVAILABLE'}],\n",
       " 'next_page_token': None,\n",
       " 'total_size': 2}"
      ]
     },
     "execution_count": 10,
     "metadata": {},
     "output_type": "execute_result"
    }
   ],
   "source": [
    "client.list_experiments()"
   ]
  },
  {
   "cell_type": "code",
   "execution_count": null,
   "id": "d945e7ba-dc63-46f5-93e4-a1edfe56aa81",
   "metadata": {},
   "outputs": [],
   "source": []
  }
 ],
 "metadata": {
  "kernelspec": {
   "display_name": "Python 3 (ipykernel)",
   "language": "python",
   "name": "python3"
  },
  "language_info": {
   "codemirror_mode": {
    "name": "ipython",
    "version": 3
   },
   "file_extension": ".py",
   "mimetype": "text/x-python",
   "name": "python",
   "nbconvert_exporter": "python",
   "pygments_lexer": "ipython3",
   "version": "3.8.10"
  }
 },
 "nbformat": 4,
 "nbformat_minor": 5
}
