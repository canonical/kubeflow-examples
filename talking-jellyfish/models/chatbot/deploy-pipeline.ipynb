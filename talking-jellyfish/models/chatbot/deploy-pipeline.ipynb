{
 "cells": [
  {
   "cell_type": "markdown",
   "id": "85b75a47-7596-4249-a1a0-77774054bf7b",
   "metadata": {},
   "source": [
    "# Deploy and verify the deployment\n",
    "\n",
    "Steps:\n",
    "- Deploy model using docker image\n",
    "- Run inference to check if its up and running"
   ]
  },
  {
   "cell_type": "code",
   "execution_count": 3,
   "id": "5938bb33-6f7d-4531-9fcb-5d447fb18984",
   "metadata": {},
   "outputs": [],
   "source": [
    "!pip install kfp --upgrade -q"
   ]
  },
  {
   "cell_type": "code",
   "execution_count": 4,
   "id": "4e47de22-add8-45ea-a3bf-88f22dd1d3ad",
   "metadata": {},
   "outputs": [],
   "source": [
    "import kfp\n",
    "from kfp import dsl"
   ]
  },
  {
   "cell_type": "code",
   "execution_count": 5,
   "id": "ca7ddc34-5497-4603-add9-33dbfc123018",
   "metadata": {},
   "outputs": [],
   "source": [
    "client = kfp.Client()"
   ]
  },
  {
   "cell_type": "markdown",
   "id": "29119309-48a8-4028-9e7c-cf03d72d5c29",
   "metadata": {},
   "source": [
    "## Deploy Model"
   ]
  },
  {
   "cell_type": "code",
   "execution_count": 21,
   "id": "e2fa817d-aa70-431a-a4ef-328298011c15",
   "metadata": {},
   "outputs": [],
   "source": [
    "def deploy(image_url:str, deployment_name:str, predictor_name:str):\n",
    "    import subprocess\n",
    "    \n",
    "    with open(\"/tmp/manifest.yaml\", \"w\") as f:\n",
    "        manifest = f\"\"\"\n",
    "apiVersion: machinelearning.seldon.io/v1\n",
    "kind: SeldonDeployment\n",
    "metadata:\n",
    "  name: {deployment_name}\n",
    "spec:\n",
    "  name: {deployment_name}\n",
    "  predictors:\n",
    "  - componentSpecs:\n",
    "    - spec:\n",
    "        containers:\n",
    "        - name: classifier\n",
    "          image: {image_url}\n",
    "          securityContext:\n",
    "            allowPrivilegeEscalation: false\n",
    "            runAsUser: 0\n",
    "    graph:\n",
    "      name: classifier\n",
    "    name: {predictor_name}\n",
    "    replicas: 1\n",
    "    labels:\n",
    "      sidecar.istio.io/inject: \"false\"\n",
    "        \"\"\"\n",
    "        print(manifest)\n",
    "        f.write(manifest)\n",
    "    \n",
    "    result = subprocess.call(['kubectl', 'apply', '-f', '/tmp/manifest.yaml', '-n', 'admin'])\n",
    "    assert result == 0"
   ]
  },
  {
   "cell_type": "code",
   "execution_count": 22,
   "id": "5f2d0fa0-c134-41e2-ba57-ecca70fa0844",
   "metadata": {},
   "outputs": [],
   "source": [
    "deploy_op = kfp.components.create_component_from_func(\n",
    "        func=deploy,\n",
    "        output_component_file='deploy-component.yaml', # This is optional. It saves the component spec for future use.\n",
    "        base_image='bponieckiklotz/seldon-deploy:0.1',\n",
    "        packages_to_install=[])"
   ]
  },
  {
   "cell_type": "markdown",
   "id": "e8548943-bdd8-4d2e-aa9d-483cef7c6496",
   "metadata": {},
   "source": [
    "## Check response"
   ]
  },
  {
   "cell_type": "code",
   "execution_count": 27,
   "id": "20c8fa39-914a-4a69-9edb-d63025433915",
   "metadata": {},
   "outputs": [],
   "source": [
    "def validate(deployment_name:str, predictor_name:str, namespace:str, image_url:str, max_retries:int=20, sleep_time:int=30):\n",
    "    import requests\n",
    "    import uuid\n",
    "    import time\n",
    "    import json\n",
    "    body = {\n",
    "        \"data\": {\n",
    "            \"ndarray\": [str(uuid.uuid4()), \"Hi, how are you?\"]\n",
    "        }\n",
    "    }\n",
    "    deployed = False\n",
    "    count = max_retries\n",
    "    while not deployed:\n",
    "        try:\n",
    "            res = requests.post(f\"http://{deployment_name}-{predictor_name}.{namespace}.svc.cluster.local:8000/api/v0.1/predictions\", json=body)\n",
    "            print(res.status_code, res.text)\n",
    "            if res.status_code == 200 and json.loads(res.text).get(\"meta\").get(\"requestPath\").get(\"classifier\") == image_url:\n",
    "                deployed = True\n",
    "            else:\n",
    "                count -= 1\n",
    "                print(\"Sleeping 1 sec\")\n",
    "                time.sleep(sleep_time)\n",
    "        except Exception as e:\n",
    "            print(e)\n",
    "            count -= 1\n",
    "            print(f\"Sleeping {sleep_time} sec. (except)\")\n",
    "            time.sleep(sleep_time)\n",
    "        \n"
   ]
  },
  {
   "cell_type": "code",
   "execution_count": 28,
   "id": "917f8586-0e53-4e0e-9782-e1bcf2d721b8",
   "metadata": {},
   "outputs": [],
   "source": [
    "validate_op = kfp.components.create_component_from_func(\n",
    "        func=validate,\n",
    "        output_component_file='validate-component.yaml', # This is optional. It saves the component spec for future use.\n",
    "        base_image='bponieckiklotz/seldon-deploy:0.1',\n",
    "        packages_to_install=['requests'])"
   ]
  },
  {
   "cell_type": "markdown",
   "id": "c269cf5d-b1b9-4ce5-bd4a-98a53a320207",
   "metadata": {},
   "source": [
    "## Create pipeline"
   ]
  },
  {
   "cell_type": "code",
   "execution_count": 29,
   "id": "28f6176f-3035-4c76-8a00-f1fed51838fa",
   "metadata": {},
   "outputs": [],
   "source": [
    "from kubernetes.client.models import V1EnvVar\n",
    "from kfp.onprem import use_k8s_secret\n",
    "\n",
    "@dsl.pipeline(\n",
    "    name=\"chatbot_pipeline\",\n",
    "    description=\"Chatbot pipeline\",\n",
    ")\n",
    "def chatbot_deploy_pipeline(image_url, deployment_name=\"chatbot\", predictor_name=\"default\", namespace=\"admin\"):\n",
    "    deploy_task = deploy_op(image_url=image_url, \n",
    "                            deployment_name=deployment_name, \n",
    "                            predictor_name=predictor_name)\n",
    "    validate_task = validate_op(deployment_name=deployment_name, \n",
    "                                predictor_name=predictor_name, \n",
    "                                namespace=namespace,\n",
    "                                image_url=image_url\n",
    "                               ).after(deploy_task)\n"
   ]
  },
  {
   "cell_type": "code",
   "execution_count": 30,
   "id": "b20dd26c-624e-4422-a437-962b306f54a8",
   "metadata": {},
   "outputs": [
    {
     "data": {
      "text/html": [
       "<a href=\"/pipeline/#/experiments/details/bec48f7c-c254-4c61-8c84-a952a9042e04\" target=\"_blank\" >Experiment details</a>."
      ],
      "text/plain": [
       "<IPython.core.display.HTML object>"
      ]
     },
     "metadata": {},
     "output_type": "display_data"
    },
    {
     "data": {
      "text/html": [
       "<a href=\"/pipeline/#/runs/details/c8557831-b9c0-4f01-8be7-1d135df8b47b\" target=\"_blank\" >Run details</a>."
      ],
      "text/plain": [
       "<IPython.core.display.HTML object>"
      ]
     },
     "metadata": {},
     "output_type": "display_data"
    },
    {
     "data": {
      "text/plain": [
       "RunPipelineResult(run_id=c8557831-b9c0-4f01-8be7-1d135df8b47b)"
      ]
     },
     "execution_count": 30,
     "metadata": {},
     "output_type": "execute_result"
    }
   ],
   "source": [
    "client.create_run_from_pipeline_func(\n",
    "    chatbot_deploy_pipeline,\n",
    "    arguments={\n",
    "        \"image_url\": \"bponieckiklotz/jellyfish.chatbot:dev@sha256:a1ce5fcdc31e3c393eb47e18245bebc789aa6879f54611471c0a57f0a440b2e4\",\n",
    "        \"deployment_name\": \"chatbot\",\n",
    "        \"predictor_name\": \"default\",\n",
    "        \"namespace\": \"admin\",\n",
    "        \n",
    "    })"
   ]
  },
  {
   "cell_type": "code",
   "execution_count": null,
   "id": "2e8061d3-fcd4-4cee-8a62-12f4f13751c9",
   "metadata": {},
   "outputs": [],
   "source": []
  }
 ],
 "metadata": {
  "kernelspec": {
   "display_name": "Python 3 (ipykernel)",
   "language": "python",
   "name": "python3"
  },
  "language_info": {
   "codemirror_mode": {
    "name": "ipython",
    "version": 3
   },
   "file_extension": ".py",
   "mimetype": "text/x-python",
   "name": "python",
   "nbconvert_exporter": "python",
   "pygments_lexer": "ipython3",
   "version": "3.8.10"
  }
 },
 "nbformat": 4,
 "nbformat_minor": 5
}
