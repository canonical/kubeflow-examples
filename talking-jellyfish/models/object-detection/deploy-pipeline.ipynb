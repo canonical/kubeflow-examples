{
 "cells": [
  {
   "cell_type": "markdown",
   "id": "85b75a47-7596-4249-a1a0-77774054bf7b",
   "metadata": {},
   "source": [
    "# Deploy and verify the deployment\n",
    "\n",
    "Steps:\n",
    "- Deploy model using docker image\n",
    "- Run inference to check if its up and running"
   ]
  },
  {
   "cell_type": "code",
   "execution_count": 1,
   "id": "5938bb33-6f7d-4531-9fcb-5d447fb18984",
   "metadata": {},
   "outputs": [],
   "source": [
    "!pip install kfp --upgrade -q"
   ]
  },
  {
   "cell_type": "code",
   "execution_count": 2,
   "id": "4e47de22-add8-45ea-a3bf-88f22dd1d3ad",
   "metadata": {},
   "outputs": [],
   "source": [
    "import kfp\n",
    "from kfp import dsl"
   ]
  },
  {
   "cell_type": "code",
   "execution_count": 3,
   "id": "ca7ddc34-5497-4603-add9-33dbfc123018",
   "metadata": {},
   "outputs": [],
   "source": [
    "client = kfp.Client()"
   ]
  },
  {
   "cell_type": "markdown",
   "id": "29119309-48a8-4028-9e7c-cf03d72d5c29",
   "metadata": {},
   "source": [
    "## Deploy Model"
   ]
  },
  {
   "cell_type": "code",
   "execution_count": 47,
   "id": "e2fa817d-aa70-431a-a4ef-328298011c15",
   "metadata": {},
   "outputs": [],
   "source": [
    "def deploy(image_url:str, deployment_name:str, predictor_name:str):\n",
    "    import subprocess\n",
    "    \n",
    "    with open(\"/tmp/manifest.yaml\", \"w\") as f:\n",
    "        manifest = f\"\"\"\n",
    "apiVersion: machinelearning.seldon.io/v1\n",
    "kind: SeldonDeployment\n",
    "metadata:\n",
    "  name: {deployment_name}\n",
    "spec:\n",
    "  name: {deployment_name}\n",
    "  predictors:\n",
    "  - componentSpecs:\n",
    "    - spec:\n",
    "        containers:\n",
    "        - name: classifier\n",
    "          image: {image_url}\n",
    "          env:\n",
    "          - name: HF_DATASETS_OFFLINE\n",
    "            value: \"1\"\n",
    "          - name: TRANSFORMERS_OFFLINE\n",
    "            value: \"1\"\n",
    "          securityContext:\n",
    "            allowPrivilegeEscalation: false\n",
    "            runAsUser: 0\n",
    "          resources:\n",
    "            limits:\n",
    "              nvidia.com/gpu: 1\n",
    "    graph:\n",
    "      name: classifier\n",
    "    name: {predictor_name}\n",
    "    replicas: 1\n",
    "    labels:\n",
    "      sidecar.istio.io/inject: \"false\"\n",
    "        \"\"\"\n",
    "        print(manifest)\n",
    "        f.write(manifest)\n",
    "    \n",
    "    result = subprocess.call(['kubectl', 'apply', '-f', '/tmp/manifest.yaml', '-n', 'admin'])\n",
    "    assert result == 0"
   ]
  },
  {
   "cell_type": "code",
   "execution_count": 48,
   "id": "5f2d0fa0-c134-41e2-ba57-ecca70fa0844",
   "metadata": {},
   "outputs": [],
   "source": [
    "deploy_op = kfp.components.create_component_from_func(\n",
    "        func=deploy,\n",
    "        output_component_file='deploy-component.yaml', # This is optional. It saves the component spec for future use.\n",
    "        base_image='bponieckiklotz/seldon-deploy:0.1',\n",
    "        packages_to_install=[])"
   ]
  },
  {
   "cell_type": "markdown",
   "id": "e8548943-bdd8-4d2e-aa9d-483cef7c6496",
   "metadata": {},
   "source": [
    "## Check response"
   ]
  },
  {
   "cell_type": "code",
   "execution_count": 49,
   "id": "20c8fa39-914a-4a69-9edb-d63025433915",
   "metadata": {},
   "outputs": [],
   "source": [
    "def validate(deployment_name:str, predictor_name:str, namespace:str, max_retries:int=20, sleep_time:int=30):\n",
    "    import base64\n",
    "    import json\n",
    "    import logging\n",
    "    import time\n",
    "\n",
    "    import requests\n",
    "    from PIL import Image\n",
    "    url = \"http://images.cocodataset.org/val2017/000000039769.jpg\"\n",
    "    cat_image = Image.open(requests.get(url, stream=True).raw)\n",
    "    files = {\n",
    "        \"mode\": cat_image.mode,\n",
    "        \"size\": \"640x480\",\n",
    "        \"media\": base64.b64encode(cat_image.tobytes())\n",
    "    }\n",
    "    \n",
    "    deployed = False\n",
    "    count = max_retries\n",
    "    while not deployed:\n",
    "        try:\n",
    "            res = requests.post(f\"http://{deployment_name}-{predictor_name}.{namespace}.svc.cluster.local:8000/api/v0.1/predictions\", files=files)\n",
    "            print(f\"Result code {res.status_code}\")\n",
    "            boxes = json.loads(res.text)\n",
    "            for b in boxes:\n",
    "                if b['score'] > 0.9:\n",
    "                    print(f\"Detected {b['label']} with confidence {round(b['score'], 3)} at location {b['box']}\")\n",
    "            if res.status_code == 200:\n",
    "                deployed = True\n",
    "            else:\n",
    "                count -= 1\n",
    "                print(\"Sleeping 1 sec\")\n",
    "                time.sleep(sleep_time)\n",
    "        except Exception as e:\n",
    "            print(e)\n",
    "            count -= 1\n",
    "            print(f\"Sleeping {sleep_time} sec. (except)\")\n",
    "            time.sleep(sleep_time)\n"
   ]
  },
  {
   "cell_type": "code",
   "execution_count": 51,
   "id": "917f8586-0e53-4e0e-9782-e1bcf2d721b8",
   "metadata": {},
   "outputs": [],
   "source": [
    "validate_op = kfp.components.create_component_from_func(\n",
    "        func=validate,\n",
    "        output_component_file='validate-component.yaml', # This is optional. It saves the component spec for future use.\n",
    "        base_image='bponieckiklotz/seldon-deploy:0.1',\n",
    "        packages_to_install=['requests', 'Pillow'])"
   ]
  },
  {
   "cell_type": "markdown",
   "id": "c269cf5d-b1b9-4ce5-bd4a-98a53a320207",
   "metadata": {},
   "source": [
    "## Create pipeline"
   ]
  },
  {
   "cell_type": "code",
   "execution_count": 52,
   "id": "28f6176f-3035-4c76-8a00-f1fed51838fa",
   "metadata": {},
   "outputs": [],
   "source": [
    "from kubernetes.client.models import V1EnvVar\n",
    "from kfp.onprem import use_k8s_secret\n",
    "\n",
    "@dsl.pipeline(\n",
    "    name=\"object_detection_pipeline\",\n",
    "    description=\"Object Detection pipeline\",\n",
    ")\n",
    "def object_detection_deploy_pipeline(image_url, deployment_name=\"object-detection\", predictor_name=\"default\", namespace=\"admin\"):\n",
    "    deploy_task = deploy_op(image_url=image_url, \n",
    "                            deployment_name=deployment_name, \n",
    "                            predictor_name=predictor_name)\n",
    "    validate_task = validate_op(deployment_name=deployment_name, \n",
    "                                predictor_name=predictor_name, \n",
    "                                namespace=namespace\n",
    "                               ).after(deploy_task)\n"
   ]
  },
  {
   "cell_type": "code",
   "execution_count": 53,
   "id": "b20dd26c-624e-4422-a437-962b306f54a8",
   "metadata": {},
   "outputs": [
    {
     "data": {
      "text/html": [
       "<a href=\"/pipeline/#/experiments/details/bec48f7c-c254-4c61-8c84-a952a9042e04\" target=\"_blank\" >Experiment details</a>."
      ],
      "text/plain": [
       "<IPython.core.display.HTML object>"
      ]
     },
     "metadata": {},
     "output_type": "display_data"
    },
    {
     "data": {
      "text/html": [
       "<a href=\"/pipeline/#/runs/details/8517121c-f0d8-4d00-8c79-49119743fb85\" target=\"_blank\" >Run details</a>."
      ],
      "text/plain": [
       "<IPython.core.display.HTML object>"
      ]
     },
     "metadata": {},
     "output_type": "display_data"
    },
    {
     "data": {
      "text/plain": [
       "RunPipelineResult(run_id=8517121c-f0d8-4d00-8c79-49119743fb85)"
      ]
     },
     "execution_count": 53,
     "metadata": {},
     "output_type": "execute_result"
    }
   ],
   "source": [
    "client.create_run_from_pipeline_func(\n",
    "    object_detection_deploy_pipeline,\n",
    "    arguments={\n",
    "        \"image_url\": \"bponieckiklotz/jellyfish.object-detection:dev@sha256:b19fb9d48e43e1c0a9afe6480553ae506b198d48e347be3f13f9d794f0b5e270\",\n",
    "        \"deployment_name\": \"object-detection\",\n",
    "        \"predictor_name\": \"default\",\n",
    "        \"namespace\": \"admin\",\n",
    "    })"
   ]
  },
  {
   "cell_type": "code",
   "execution_count": null,
   "id": "0cda51dd-432a-4bc0-878c-e6ce9d4c0d1f",
   "metadata": {},
   "outputs": [],
   "source": []
  },
  {
   "cell_type": "code",
   "execution_count": null,
   "id": "2e8061d3-fcd4-4cee-8a62-12f4f13751c9",
   "metadata": {},
   "outputs": [],
   "source": []
  }
 ],
 "metadata": {
  "kernelspec": {
   "display_name": "Python 3 (ipykernel)",
   "language": "python",
   "name": "python3"
  },
  "language_info": {
   "codemirror_mode": {
    "name": "ipython",
    "version": 3
   },
   "file_extension": ".py",
   "mimetype": "text/x-python",
   "name": "python",
   "nbconvert_exporter": "python",
   "pygments_lexer": "ipython3",
   "version": "3.8.10"
  }
 },
 "nbformat": 4,
 "nbformat_minor": 5
}
