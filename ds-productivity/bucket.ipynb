{
 "cells": [
  {
   "cell_type": "markdown",
   "id": "a0f6f19c-d481-4cea-8824-85e62c62bd36",
   "metadata": {},
   "source": [
    "# S3 bucket creation"
   ]
  },
  {
   "cell_type": "code",
   "execution_count": 1,
   "id": "698a1ef5-276d-4f42-a75f-50ee19b91031",
   "metadata": {},
   "outputs": [],
   "source": [
    "!pip install awscli s3fs pandas -q"
   ]
  },
  {
   "cell_type": "code",
   "execution_count": 9,
   "id": "f6a54cd7-63a6-475a-948a-fd3ff36e60e5",
   "metadata": {},
   "outputs": [
    {
     "name": "stdout",
     "output_type": "stream",
     "text": [
      "make_bucket failed: s3://bpk/ An error occurred (BucketAlreadyOwnedByYou) when calling the CreateBucket operation: Your previous request to create the named bucket succeeded and you already own it.\n"
     ]
    }
   ],
   "source": [
    "!aws --endpoint-url $MINIO_ENDPOINT_URL s3 mb s3://bpk/"
   ]
  },
  {
   "cell_type": "code",
   "execution_count": 10,
   "id": "bbe2d556-2ad8-483a-84b4-cf18f33194a9",
   "metadata": {},
   "outputs": [
    {
     "name": "stdout",
     "output_type": "stream",
     "text": [
      "2023-02-27 08:18:22      41352 titanic_cleaned.parquet\n"
     ]
    }
   ],
   "source": [
    "!aws --endpoint-url $MINIO_ENDPOINT_URL s3 ls s3://bpk/"
   ]
  },
  {
   "cell_type": "code",
   "execution_count": null,
   "id": "6996947f-a75c-482a-b198-6b311f240bb5",
   "metadata": {},
   "outputs": [],
   "source": []
  }
 ],
 "metadata": {
  "kernelspec": {
   "display_name": "Python 3",
   "language": "python",
   "name": "python3"
  },
  "language_info": {
   "codemirror_mode": {
    "name": "ipython",
    "version": 3
   },
   "file_extension": ".py",
   "mimetype": "text/x-python",
   "name": "python",
   "nbconvert_exporter": "python",
   "pygments_lexer": "ipython3",
   "version": "3.8.10"
  }
 },
 "nbformat": 4,
 "nbformat_minor": 5
}
