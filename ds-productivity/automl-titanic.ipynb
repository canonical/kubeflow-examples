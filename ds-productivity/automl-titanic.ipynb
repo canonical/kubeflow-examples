{
 "cells": [
  {
   "cell_type": "markdown",
   "id": "81b13bce-ea77-4fee-9ff1-bd0ae65a73ef",
   "metadata": {},
   "source": [
    "# AutoML in action"
   ]
  },
  {
   "cell_type": "code",
   "execution_count": 1,
   "id": "29ace4cb-b4e6-4779-9986-a0d15c79d448",
   "metadata": {},
   "outputs": [],
   "source": [
    "!pip install -f http://h2o-release.s3.amazonaws.com/h2o/latest_stable_Py.html h2o mlflow==1.30 boto3 awscli -q"
   ]
  },
  {
   "cell_type": "markdown",
   "id": "2b0e54eb-cda2-46cd-87bd-0c8e11df69bf",
   "metadata": {},
   "source": [
    "## Only configurable cell in the notebook"
   ]
  },
  {
   "cell_type": "code",
   "execution_count": 2,
   "id": "a7ea9403-4360-4c89-8bfe-dba8589080b0",
   "metadata": {
    "tags": []
   },
   "outputs": [
    {
     "name": "stdout",
     "output_type": "stream",
     "text": [
      "download: s3://bpk/titanic_cleaned.parquet to ./titanic_cleaned.parquet\n"
     ]
    }
   ],
   "source": [
    "!aws --endpoint-url $MINIO_ENDPOINT_URL s3 cp s3://bpk/titanic_cleaned.parquet ."
   ]
  },
  {
   "cell_type": "code",
   "execution_count": 3,
   "id": "37668255-9c8a-43d0-9fb7-213b4f0a3cd5",
   "metadata": {},
   "outputs": [],
   "source": [
    "name = \"titanic\"\n",
    "dataset_path = \"titanic_cleaned.parquet\"\n",
    "use_cols = ['Pclass', 'Sex', 'Age', 'SibSp', 'Parch', 'Fare', 'Embarked']\n",
    "target_col = \"Survived\"\n",
    "categorical_cols = [\"Survived\", \"Pclass\"]"
   ]
  },
  {
   "cell_type": "markdown",
   "id": "10545540-dd07-4b05-a221-d2f470b11298",
   "metadata": {
    "tags": []
   },
   "source": [
    "## AutoML magic starts here\n",
    "\n",
    "We will not change anything there for different datasets"
   ]
  },
  {
   "cell_type": "code",
   "execution_count": 4,
   "id": "8f0fca52-3d67-44b5-9879-b7ece59c06cd",
   "metadata": {},
   "outputs": [
    {
     "name": "stdout",
     "output_type": "stream",
     "text": [
      "Checking whether there is an H2O instance running at http://localhost:54321..... not found.\n",
      "Attempting to start a local H2O server...\n",
      "  Java Version: openjdk version \"11.0.17\" 2022-10-18; OpenJDK Runtime Environment (build 11.0.17+8-post-Ubuntu-1ubuntu220.04); OpenJDK 64-Bit Server VM (build 11.0.17+8-post-Ubuntu-1ubuntu220.04, mixed mode, sharing)\n",
      "  Starting server from /opt/conda/lib/python3.8/site-packages/h2o/backend/bin/h2o.jar\n",
      "  Ice root: /tmp/tmppfq4dx13\n",
      "  JVM stdout: /tmp/tmppfq4dx13/h2o_unknownUser_started_from_python.out\n",
      "  JVM stderr: /tmp/tmppfq4dx13/h2o_unknownUser_started_from_python.err\n",
      "  Server is running at http://127.0.0.1:54321\n",
      "Connecting to H2O server at http://127.0.0.1:54321 ... successful.\n"
     ]
    },
    {
     "data": {
      "text/html": [
       "\n",
       "<style>\n",
       "\n",
       "#h2o-table-1.h2o-container {\n",
       "  overflow-x: auto;\n",
       "}\n",
       "#h2o-table-1 .h2o-table {\n",
       "  /* width: 100%; */\n",
       "  margin-top: 1em;\n",
       "  margin-bottom: 1em;\n",
       "}\n",
       "#h2o-table-1 .h2o-table caption {\n",
       "  white-space: nowrap;\n",
       "  caption-side: top;\n",
       "  text-align: left;\n",
       "  /* margin-left: 1em; */\n",
       "  margin: 0;\n",
       "  font-size: larger;\n",
       "}\n",
       "#h2o-table-1 .h2o-table thead {\n",
       "  white-space: nowrap; \n",
       "  position: sticky;\n",
       "  top: 0;\n",
       "  box-shadow: 0 -1px inset;\n",
       "}\n",
       "#h2o-table-1 .h2o-table tbody {\n",
       "  overflow: auto;\n",
       "}\n",
       "#h2o-table-1 .h2o-table th,\n",
       "#h2o-table-1 .h2o-table td {\n",
       "  text-align: right;\n",
       "  /* border: 1px solid; */\n",
       "}\n",
       "#h2o-table-1 .h2o-table tr:nth-child(even) {\n",
       "  /* background: #F5F5F5 */\n",
       "}\n",
       "\n",
       "</style>      \n",
       "<div id=\"h2o-table-1\" class=\"h2o-container\">\n",
       "  <table class=\"h2o-table\">\n",
       "    <caption></caption>\n",
       "    <thead></thead>\n",
       "    <tbody><tr><td>H2O_cluster_uptime:</td>\n",
       "<td>02 secs</td></tr>\n",
       "<tr><td>H2O_cluster_timezone:</td>\n",
       "<td>Etc/UTC</td></tr>\n",
       "<tr><td>H2O_data_parsing_timezone:</td>\n",
       "<td>UTC</td></tr>\n",
       "<tr><td>H2O_cluster_version:</td>\n",
       "<td>3.40.0.1</td></tr>\n",
       "<tr><td>H2O_cluster_version_age:</td>\n",
       "<td>24 days</td></tr>\n",
       "<tr><td>H2O_cluster_name:</td>\n",
       "<td>H2O_from_python_unknownUser_5gkcz5</td></tr>\n",
       "<tr><td>H2O_cluster_total_nodes:</td>\n",
       "<td>1</td></tr>\n",
       "<tr><td>H2O_cluster_free_memory:</td>\n",
       "<td>1.201 Gb</td></tr>\n",
       "<tr><td>H2O_cluster_total_cores:</td>\n",
       "<td>2</td></tr>\n",
       "<tr><td>H2O_cluster_allowed_cores:</td>\n",
       "<td>2</td></tr>\n",
       "<tr><td>H2O_cluster_status:</td>\n",
       "<td>locked, healthy</td></tr>\n",
       "<tr><td>H2O_connection_url:</td>\n",
       "<td>http://127.0.0.1:54321</td></tr>\n",
       "<tr><td>H2O_connection_proxy:</td>\n",
       "<td>{\"http\": null, \"https\": null}</td></tr>\n",
       "<tr><td>H2O_internal_security:</td>\n",
       "<td>False</td></tr>\n",
       "<tr><td>Python_version:</td>\n",
       "<td>3.8.10 final</td></tr></tbody>\n",
       "  </table>\n",
       "</div>\n"
      ],
      "text/plain": [
       "--------------------------  ----------------------------------\n",
       "H2O_cluster_uptime:         02 secs\n",
       "H2O_cluster_timezone:       Etc/UTC\n",
       "H2O_data_parsing_timezone:  UTC\n",
       "H2O_cluster_version:        3.40.0.1\n",
       "H2O_cluster_version_age:    24 days\n",
       "H2O_cluster_name:           H2O_from_python_unknownUser_5gkcz5\n",
       "H2O_cluster_total_nodes:    1\n",
       "H2O_cluster_free_memory:    1.201 Gb\n",
       "H2O_cluster_total_cores:    2\n",
       "H2O_cluster_allowed_cores:  2\n",
       "H2O_cluster_status:         locked, healthy\n",
       "H2O_connection_url:         http://127.0.0.1:54321\n",
       "H2O_connection_proxy:       {\"http\": null, \"https\": null}\n",
       "H2O_internal_security:      False\n",
       "Python_version:             3.8.10 final\n",
       "--------------------------  ----------------------------------"
      ]
     },
     "metadata": {},
     "output_type": "display_data"
    }
   ],
   "source": [
    "import h2o\n",
    "from h2o.automl import H2OAutoML\n",
    "\n",
    "h2o.init()"
   ]
  },
  {
   "cell_type": "code",
   "execution_count": 5,
   "id": "0d7d67b8-a14d-40fc-9020-f7e97ce08dac",
   "metadata": {},
   "outputs": [
    {
     "name": "stdout",
     "output_type": "stream",
     "text": [
      "Parse progress: |████████████████████████████████████████████████████████████████| (done) 100%\n"
     ]
    }
   ],
   "source": [
    "df = h2o.import_file(dataset_path)"
   ]
  },
  {
   "cell_type": "code",
   "execution_count": 27,
   "id": "e4990771-35f1-4641-a970-3b8bf729b683",
   "metadata": {},
   "outputs": [],
   "source": [
    "#bugfix in h2o\n",
    "df = df.drop(\"__index_level_0__\")"
   ]
  },
  {
   "cell_type": "code",
   "execution_count": 28,
   "id": "ed062913-28f0-4665-bd36-e0b8cccb9be6",
   "metadata": {},
   "outputs": [],
   "source": [
    "for b in categorical_cols:\n",
    "    df[b] = df[b].asfactor()"
   ]
  },
  {
   "cell_type": "code",
   "execution_count": 29,
   "id": "46e1d4a9-54df-4fe0-85db-f4a784b04a66",
   "metadata": {},
   "outputs": [],
   "source": [
    "train, test = df.split_frame(ratios=[.7])"
   ]
  },
  {
   "cell_type": "code",
   "execution_count": 30,
   "id": "c1d051e1-e286-45c9-8554-c15c8f6918a6",
   "metadata": {},
   "outputs": [],
   "source": [
    "import mlflow\n",
    "from mlflow.models.signature import infer_signature"
   ]
  },
  {
   "cell_type": "code",
   "execution_count": 31,
   "id": "a39f8405-dc1e-432d-b57d-f5b26e9ab0ed",
   "metadata": {},
   "outputs": [
    {
     "name": "stdout",
     "output_type": "stream",
     "text": [
      "AutoML progress: |\n",
      "14:32:56.237: User specified a validation frame with cross-validation still enabled. Please note that the models will still be validated using cross-validation only, the validation frame will be used to provide purely informative validation metrics on the trained models.\n",
      "\n",
      "███████████████████████████████████████████████████████████████| (done) 100%\n"
     ]
    },
    {
     "name": "stderr",
     "output_type": "stream",
     "text": [
      "Registered model 'titanic-automl' already exists. Creating a new version of this model...\n",
      "2023/03/05 14:34:01 INFO mlflow.tracking._model_registry.client: Waiting up to 300 seconds for model version to finish creation.                     Model name: titanic-automl, version 3\n",
      "Created version '3' of model 'titanic-automl'.\n"
     ]
    }
   ],
   "source": [
    "with mlflow.start_run(run_name=name):\n",
    "    mlflow.set_tag(\"author\", \"bpk\")\n",
    "    aml = H2OAutoML(max_runtime_secs = 60)\n",
    "    mlflow.log_param(\"max_runtime_secs\", 60)\n",
    "    aml.train(x = use_cols, y = target_col, training_frame = train, validation_frame = test)\n",
    "    \n",
    "    signature = infer_signature(test.drop(target_col).as_data_frame(), test[target_col].as_data_frame())\n",
    "    \n",
    "    mlflow.log_text(str(aml.leader.model_performance(test)), \"model_performance.txt\")\n",
    "    mlflow.h2o.log_model(aml.leader, \"leader\", registered_model_name=\"titanic-automl\", signature=signature)"
   ]
  },
  {
   "cell_type": "code",
   "execution_count": null,
   "id": "7d1a501e-8df2-4f54-8a11-bc90dd0c1e6a",
   "metadata": {},
   "outputs": [],
   "source": []
  }
 ],
 "metadata": {
  "kernelspec": {
   "display_name": "Python 3",
   "language": "python",
   "name": "python3"
  },
  "language_info": {
   "codemirror_mode": {
    "name": "ipython",
    "version": 3
   },
   "file_extension": ".py",
   "mimetype": "text/x-python",
   "name": "python",
   "nbconvert_exporter": "python",
   "pygments_lexer": "ipython3",
   "version": "3.8.10"
  }
 },
 "nbformat": 4,
 "nbformat_minor": 5
}
