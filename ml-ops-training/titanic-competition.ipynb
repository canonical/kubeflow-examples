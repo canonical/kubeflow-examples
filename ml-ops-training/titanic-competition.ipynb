{
 "cells": [
  {
   "cell_type": "markdown",
   "id": "de1430d3",
   "metadata": {
    "papermill": {
     "duration": 0.018615,
     "end_time": "2022-12-06T17:33:22.480313",
     "exception": false,
     "start_time": "2022-12-06T17:33:22.461698",
     "status": "completed"
    },
    "tags": []
   },
   "source": [
    "# EDA + Data Processing + Cross Validation"
   ]
  },
  {
   "cell_type": "markdown",
   "id": "e7094eee",
   "metadata": {
    "papermill": {
     "duration": 0.015248,
     "end_time": "2022-12-06T17:33:22.511364",
     "exception": false,
     "start_time": "2022-12-06T17:33:22.496116",
     "status": "completed"
    },
    "tags": []
   },
   "source": [
    "# Imports"
   ]
  },
  {
   "cell_type": "code",
   "execution_count": 1,
   "id": "9cdef7c2",
   "metadata": {
    "execution": {
     "iopub.execute_input": "2022-12-06T17:33:22.547437Z",
     "iopub.status.busy": "2022-12-06T17:33:22.546585Z",
     "iopub.status.idle": "2022-12-06T17:33:24.405764Z",
     "shell.execute_reply": "2022-12-06T17:33:24.404516Z"
    },
    "papermill": {
     "duration": 1.88229,
     "end_time": "2022-12-06T17:33:24.409427",
     "exception": false,
     "start_time": "2022-12-06T17:33:22.527137",
     "status": "completed"
    },
    "tags": []
   },
   "outputs": [],
   "source": [
    "import numpy as np\n",
    "import pandas as pd\n",
    "\n",
    "import matplotlib.pyplot as plt\n",
    "import seaborn as sns\n",
    "sns.set(style=\"darkgrid\")\n",
    "\n",
    "from sklearn.ensemble import RandomForestClassifier\n",
    "from sklearn.preprocessing import OneHotEncoder, LabelEncoder, StandardScaler\n",
    "from sklearn.metrics import roc_curve, auc\n",
    "from sklearn.model_selection import StratifiedKFold\n",
    "\n",
    "import string\n",
    "import warnings\n",
    "warnings.filterwarnings('ignore')\n",
    "\n",
    "SEED = 42"
   ]
  },
  {
   "cell_type": "markdown",
   "id": "ce49dd7e",
   "metadata": {
    "papermill": {
     "duration": 0.016577,
     "end_time": "2022-12-06T17:33:24.442611",
     "exception": false,
     "start_time": "2022-12-06T17:33:24.426034",
     "status": "completed"
    },
    "tags": []
   },
   "source": [
    "- ## Importing the Datasets and Combining to do Data Processing"
   ]
  },
  {
   "cell_type": "code",
   "execution_count": 2,
   "id": "bef374bd",
   "metadata": {
    "execution": {
     "iopub.execute_input": "2022-12-06T17:33:24.475529Z",
     "iopub.status.busy": "2022-12-06T17:33:24.475069Z",
     "iopub.status.idle": "2022-12-06T17:33:24.521470Z",
     "shell.execute_reply": "2022-12-06T17:33:24.520311Z"
    },
    "papermill": {
     "duration": 0.066461,
     "end_time": "2022-12-06T17:33:24.524329",
     "exception": false,
     "start_time": "2022-12-06T17:33:24.457868",
     "status": "completed"
    },
    "tags": []
   },
   "outputs": [],
   "source": [
    "df_train = pd.read_csv('/kaggle/input/titanic/train.csv')\n",
    "df_test = pd.read_csv('/kaggle/input/titanic/test.csv')\n",
    "df_all = pd.concat([df_train, df_test], sort=True).reset_index(drop=True) \n",
    " \n",
    "dfs = [df_train, df_test]"
   ]
  },
  {
   "cell_type": "code",
   "execution_count": 3,
   "id": "97e9a7ac",
   "metadata": {
    "execution": {
     "iopub.execute_input": "2022-12-06T17:33:24.558327Z",
     "iopub.status.busy": "2022-12-06T17:33:24.557554Z",
     "iopub.status.idle": "2022-12-06T17:33:24.573318Z",
     "shell.execute_reply": "2022-12-06T17:33:24.572164Z"
    },
    "papermill": {
     "duration": 0.036883,
     "end_time": "2022-12-06T17:33:24.575961",
     "exception": false,
     "start_time": "2022-12-06T17:33:24.539078",
     "status": "completed"
    },
    "tags": []
   },
   "outputs": [
    {
     "data": {
      "text/plain": [
       "B96 B98        4\n",
       "G6             4\n",
       "C23 C25 C27    4\n",
       "C22 C26        3\n",
       "F33            3\n",
       "              ..\n",
       "E34            1\n",
       "C7             1\n",
       "C54            1\n",
       "E36            1\n",
       "C148           1\n",
       "Name: Cabin, Length: 147, dtype: int64"
      ]
     },
     "execution_count": 3,
     "metadata": {},
     "output_type": "execute_result"
    }
   ],
   "source": [
    "df_train['Cabin'].value_counts()"
   ]
  },
  {
   "cell_type": "markdown",
   "id": "232475d6",
   "metadata": {
    "papermill": {
     "duration": 0.014801,
     "end_time": "2022-12-06T17:33:24.605776",
     "exception": false,
     "start_time": "2022-12-06T17:33:24.590975",
     "status": "completed"
    },
    "tags": []
   },
   "source": [
    "- ## Exploratory Data Analysis"
   ]
  },
  {
   "cell_type": "code",
   "execution_count": 4,
   "id": "313f61f1",
   "metadata": {
    "execution": {
     "iopub.execute_input": "2022-12-06T17:33:24.640159Z",
     "iopub.status.busy": "2022-12-06T17:33:24.639378Z",
     "iopub.status.idle": "2022-12-06T17:33:24.661291Z",
     "shell.execute_reply": "2022-12-06T17:33:24.659380Z"
    },
    "papermill": {
     "duration": 0.043798,
     "end_time": "2022-12-06T17:33:24.665518",
     "exception": false,
     "start_time": "2022-12-06T17:33:24.621720",
     "status": "completed"
    },
    "tags": []
   },
   "outputs": [
    {
     "name": "stdout",
     "output_type": "stream",
     "text": [
      "<class 'pandas.core.frame.DataFrame'>\n",
      "RangeIndex: 891 entries, 0 to 890\n",
      "Data columns (total 12 columns):\n",
      " #   Column       Non-Null Count  Dtype  \n",
      "---  ------       --------------  -----  \n",
      " 0   PassengerId  891 non-null    int64  \n",
      " 1   Survived     891 non-null    int64  \n",
      " 2   Pclass       891 non-null    int64  \n",
      " 3   Name         891 non-null    object \n",
      " 4   Sex          891 non-null    object \n",
      " 5   Age          714 non-null    float64\n",
      " 6   SibSp        891 non-null    int64  \n",
      " 7   Parch        891 non-null    int64  \n",
      " 8   Ticket       891 non-null    object \n",
      " 9   Fare         891 non-null    float64\n",
      " 10  Cabin        204 non-null    object \n",
      " 11  Embarked     889 non-null    object \n",
      "dtypes: float64(2), int64(5), object(5)\n",
      "memory usage: 83.7+ KB\n"
     ]
    }
   ],
   "source": [
    "#Data Set Analysis\n",
    "df_train.info()"
   ]
  },
  {
   "cell_type": "markdown",
   "id": "c8b7cd46",
   "metadata": {
    "papermill": {
     "duration": 0.014563,
     "end_time": "2022-12-06T17:33:24.695889",
     "exception": false,
     "start_time": "2022-12-06T17:33:24.681326",
     "status": "completed"
    },
    "tags": []
   },
   "source": [
    "- ## Data Cleaning"
   ]
  },
  {
   "cell_type": "code",
   "execution_count": 5,
   "id": "de3da9c4",
   "metadata": {
    "execution": {
     "iopub.execute_input": "2022-12-06T17:33:24.728796Z",
     "iopub.status.busy": "2022-12-06T17:33:24.728006Z",
     "iopub.status.idle": "2022-12-06T17:33:24.739968Z",
     "shell.execute_reply": "2022-12-06T17:33:24.738413Z"
    },
    "papermill": {
     "duration": 0.031767,
     "end_time": "2022-12-06T17:33:24.742836",
     "exception": false,
     "start_time": "2022-12-06T17:33:24.711069",
     "status": "completed"
    },
    "tags": []
   },
   "outputs": [
    {
     "name": "stdout",
     "output_type": "stream",
     "text": [
      "Finding Null Values In Dataset\n"
     ]
    },
    {
     "data": {
      "text/plain": [
       "Age             263\n",
       "Cabin          1014\n",
       "Embarked          2\n",
       "Fare              1\n",
       "Name              0\n",
       "Parch             0\n",
       "PassengerId       0\n",
       "Pclass            0\n",
       "Sex               0\n",
       "SibSp             0\n",
       "Survived        418\n",
       "Ticket            0\n",
       "dtype: int64"
      ]
     },
     "execution_count": 5,
     "metadata": {},
     "output_type": "execute_result"
    }
   ],
   "source": [
    "print('Finding Null Values In Dataset')\n",
    "df_all.isnull().sum()"
   ]
  },
  {
   "cell_type": "markdown",
   "id": "e115e8ab",
   "metadata": {
    "papermill": {
     "duration": 0.01539,
     "end_time": "2022-12-06T17:33:24.773376",
     "exception": false,
     "start_time": "2022-12-06T17:33:24.757986",
     "status": "completed"
    },
    "tags": []
   },
   "source": [
    "### Since, we have null values in the columns Age, Cabin, Fare, Embarked we fill them with median values and max count values\n",
    "\n",
    "#### Since, we fill null values in the Age column with median values"
   ]
  },
  {
   "cell_type": "code",
   "execution_count": 6,
   "id": "bba7f446",
   "metadata": {
    "execution": {
     "iopub.execute_input": "2022-12-06T17:33:24.807426Z",
     "iopub.status.busy": "2022-12-06T17:33:24.806336Z",
     "iopub.status.idle": "2022-12-06T17:33:24.825061Z",
     "shell.execute_reply": "2022-12-06T17:33:24.823850Z"
    },
    "papermill": {
     "duration": 0.038234,
     "end_time": "2022-12-06T17:33:24.827742",
     "exception": false,
     "start_time": "2022-12-06T17:33:24.789508",
     "status": "completed"
    },
    "tags": []
   },
   "outputs": [],
   "source": [
    "# Grouping Age with other columns like Sex and Pclass to obtain median wrt to the other columns.\n",
    "df_all['Age'] = df_all.groupby(['Sex', 'Pclass'])['Age'].apply(lambda x: x.fillna(x.median()))"
   ]
  },
  {
   "cell_type": "markdown",
   "id": "8adcfd15",
   "metadata": {
    "papermill": {
     "duration": 0.015357,
     "end_time": "2022-12-06T17:33:24.858524",
     "exception": false,
     "start_time": "2022-12-06T17:33:24.843167",
     "status": "completed"
    },
    "tags": []
   },
   "source": [
    "#### Since there's only one null value, we fill it with the max value of that column"
   ]
  },
  {
   "cell_type": "code",
   "execution_count": 7,
   "id": "d768d042",
   "metadata": {
    "execution": {
     "iopub.execute_input": "2022-12-06T17:33:24.891096Z",
     "iopub.status.busy": "2022-12-06T17:33:24.890352Z",
     "iopub.status.idle": "2022-12-06T17:33:24.900255Z",
     "shell.execute_reply": "2022-12-06T17:33:24.898553Z"
    },
    "papermill": {
     "duration": 0.029835,
     "end_time": "2022-12-06T17:33:24.903436",
     "exception": false,
     "start_time": "2022-12-06T17:33:24.873601",
     "status": "completed"
    },
    "tags": []
   },
   "outputs": [
    {
     "data": {
      "text/plain": [
       "S    914\n",
       "C    270\n",
       "Q    123\n",
       "Name: Embarked, dtype: int64"
      ]
     },
     "execution_count": 7,
     "metadata": {},
     "output_type": "execute_result"
    }
   ],
   "source": [
    "df_all['Embarked'].value_counts()"
   ]
  },
  {
   "cell_type": "code",
   "execution_count": 8,
   "id": "ea46fd30",
   "metadata": {
    "execution": {
     "iopub.execute_input": "2022-12-06T17:33:24.937817Z",
     "iopub.status.busy": "2022-12-06T17:33:24.937353Z",
     "iopub.status.idle": "2022-12-06T17:33:24.943909Z",
     "shell.execute_reply": "2022-12-06T17:33:24.942572Z"
    },
    "papermill": {
     "duration": 0.026762,
     "end_time": "2022-12-06T17:33:24.946711",
     "exception": false,
     "start_time": "2022-12-06T17:33:24.919949",
     "status": "completed"
    },
    "tags": []
   },
   "outputs": [],
   "source": [
    "# Filling the missing values in Embarked with S\n",
    "df_all['Embarked'] = df_all['Embarked'].fillna('S')"
   ]
  },
  {
   "cell_type": "markdown",
   "id": "f5ef46b2",
   "metadata": {
    "papermill": {
     "duration": 0.01634,
     "end_time": "2022-12-06T17:33:24.978956",
     "exception": false,
     "start_time": "2022-12-06T17:33:24.962616",
     "status": "completed"
    },
    "tags": []
   },
   "source": [
    "#### Since there's only one null value, we fill it with median which is obtained by grouping columns"
   ]
  },
  {
   "cell_type": "code",
   "execution_count": 9,
   "id": "30d6d916",
   "metadata": {
    "execution": {
     "iopub.execute_input": "2022-12-06T17:33:25.011727Z",
     "iopub.status.busy": "2022-12-06T17:33:25.011281Z",
     "iopub.status.idle": "2022-12-06T17:33:25.032260Z",
     "shell.execute_reply": "2022-12-06T17:33:25.031348Z"
    },
    "papermill": {
     "duration": 0.040471,
     "end_time": "2022-12-06T17:33:25.034997",
     "exception": false,
     "start_time": "2022-12-06T17:33:24.994526",
     "status": "completed"
    },
    "tags": []
   },
   "outputs": [
    {
     "data": {
      "text/html": [
       "<div>\n",
       "<style scoped>\n",
       "    .dataframe tbody tr th:only-of-type {\n",
       "        vertical-align: middle;\n",
       "    }\n",
       "\n",
       "    .dataframe tbody tr th {\n",
       "        vertical-align: top;\n",
       "    }\n",
       "\n",
       "    .dataframe thead th {\n",
       "        text-align: right;\n",
       "    }\n",
       "</style>\n",
       "<table border=\"1\" class=\"dataframe\">\n",
       "  <thead>\n",
       "    <tr style=\"text-align: right;\">\n",
       "      <th></th>\n",
       "      <th>Age</th>\n",
       "      <th>Cabin</th>\n",
       "      <th>Embarked</th>\n",
       "      <th>Fare</th>\n",
       "      <th>Name</th>\n",
       "      <th>Parch</th>\n",
       "      <th>PassengerId</th>\n",
       "      <th>Pclass</th>\n",
       "      <th>Sex</th>\n",
       "      <th>SibSp</th>\n",
       "      <th>Survived</th>\n",
       "      <th>Ticket</th>\n",
       "    </tr>\n",
       "  </thead>\n",
       "  <tbody>\n",
       "    <tr>\n",
       "      <th>1043</th>\n",
       "      <td>60.5</td>\n",
       "      <td>NaN</td>\n",
       "      <td>S</td>\n",
       "      <td>NaN</td>\n",
       "      <td>Storey, Mr. Thomas</td>\n",
       "      <td>0</td>\n",
       "      <td>1044</td>\n",
       "      <td>3</td>\n",
       "      <td>male</td>\n",
       "      <td>0</td>\n",
       "      <td>NaN</td>\n",
       "      <td>3701</td>\n",
       "    </tr>\n",
       "  </tbody>\n",
       "</table>\n",
       "</div>"
      ],
      "text/plain": [
       "       Age Cabin Embarked  Fare                Name  Parch  PassengerId  \\\n",
       "1043  60.5   NaN        S   NaN  Storey, Mr. Thomas      0         1044   \n",
       "\n",
       "      Pclass   Sex  SibSp  Survived Ticket  \n",
       "1043       3  male      0       NaN   3701  "
      ]
     },
     "metadata": {},
     "output_type": "display_data"
    }
   ],
   "source": [
    "display(df_all[df_all['Fare'].isnull()])"
   ]
  },
  {
   "cell_type": "code",
   "execution_count": 10,
   "id": "ad9507d3",
   "metadata": {
    "execution": {
     "iopub.execute_input": "2022-12-06T17:33:25.069161Z",
     "iopub.status.busy": "2022-12-06T17:33:25.068230Z",
     "iopub.status.idle": "2022-12-06T17:33:25.078422Z",
     "shell.execute_reply": "2022-12-06T17:33:25.077117Z"
    },
    "papermill": {
     "duration": 0.030289,
     "end_time": "2022-12-06T17:33:25.081522",
     "exception": false,
     "start_time": "2022-12-06T17:33:25.051233",
     "status": "completed"
    },
    "tags": []
   },
   "outputs": [],
   "source": [
    "median_fare = df_all.groupby(['Pclass', 'Parch', 'SibSp']).Fare.median()[3][0][0]\n",
    "\n",
    "df_all['Fare'] = df_all['Fare'].fillna(median_fare)"
   ]
  },
  {
   "cell_type": "markdown",
   "id": "dc80c53a",
   "metadata": {
    "papermill": {
     "duration": 0.015201,
     "end_time": "2022-12-06T17:33:25.112891",
     "exception": false,
     "start_time": "2022-12-06T17:33:25.097690",
     "status": "completed"
    },
    "tags": []
   },
   "source": [
    "#### Since there's cabin is not a numeric data, we use a diffrent method by encoding the missing with M variable, "
   ]
  },
  {
   "cell_type": "markdown",
   "id": "a2aa13a0",
   "metadata": {
    "papermill": {
     "duration": 0.015048,
     "end_time": "2022-12-06T17:33:25.143451",
     "exception": false,
     "start_time": "2022-12-06T17:33:25.128403",
     "status": "completed"
    },
    "tags": []
   },
   "source": [
    "![A View of the Cabins](https://i.ibb.co/74H0GYy/Da5xm0w-W4-AAHL21-2.jpg)"
   ]
  },
  {
   "cell_type": "code",
   "execution_count": 11,
   "id": "876fa8cc",
   "metadata": {
    "execution": {
     "iopub.execute_input": "2022-12-06T17:33:25.178563Z",
     "iopub.status.busy": "2022-12-06T17:33:25.178130Z",
     "iopub.status.idle": "2022-12-06T17:33:25.206775Z",
     "shell.execute_reply": "2022-12-06T17:33:25.205451Z"
    },
    "papermill": {
     "duration": 0.048573,
     "end_time": "2022-12-06T17:33:25.209629",
     "exception": false,
     "start_time": "2022-12-06T17:33:25.161056",
     "status": "completed"
    },
    "tags": []
   },
   "outputs": [
    {
     "data": {
      "text/html": [
       "<div>\n",
       "<style scoped>\n",
       "    .dataframe tbody tr th:only-of-type {\n",
       "        vertical-align: middle;\n",
       "    }\n",
       "\n",
       "    .dataframe tbody tr th {\n",
       "        vertical-align: top;\n",
       "    }\n",
       "\n",
       "    .dataframe thead tr th {\n",
       "        text-align: left;\n",
       "    }\n",
       "</style>\n",
       "<table border=\"1\" class=\"dataframe\">\n",
       "  <thead>\n",
       "    <tr>\n",
       "      <th>Deck</th>\n",
       "      <th>A</th>\n",
       "      <th>B</th>\n",
       "      <th>C</th>\n",
       "      <th colspan=\"2\" halign=\"left\">D</th>\n",
       "      <th colspan=\"3\" halign=\"left\">E</th>\n",
       "      <th colspan=\"2\" halign=\"left\">F</th>\n",
       "      <th>G</th>\n",
       "      <th colspan=\"3\" halign=\"left\">M</th>\n",
       "      <th>T</th>\n",
       "    </tr>\n",
       "    <tr>\n",
       "      <th>Pclass</th>\n",
       "      <th>1</th>\n",
       "      <th>1</th>\n",
       "      <th>1</th>\n",
       "      <th>1</th>\n",
       "      <th>2</th>\n",
       "      <th>1</th>\n",
       "      <th>2</th>\n",
       "      <th>3</th>\n",
       "      <th>2</th>\n",
       "      <th>3</th>\n",
       "      <th>3</th>\n",
       "      <th>1</th>\n",
       "      <th>2</th>\n",
       "      <th>3</th>\n",
       "      <th>1</th>\n",
       "    </tr>\n",
       "  </thead>\n",
       "  <tbody>\n",
       "    <tr>\n",
       "      <th>Count</th>\n",
       "      <td>22</td>\n",
       "      <td>65</td>\n",
       "      <td>94</td>\n",
       "      <td>40</td>\n",
       "      <td>6</td>\n",
       "      <td>34</td>\n",
       "      <td>4</td>\n",
       "      <td>3</td>\n",
       "      <td>13</td>\n",
       "      <td>8</td>\n",
       "      <td>5</td>\n",
       "      <td>67</td>\n",
       "      <td>254</td>\n",
       "      <td>693</td>\n",
       "      <td>1</td>\n",
       "    </tr>\n",
       "  </tbody>\n",
       "</table>\n",
       "</div>"
      ],
      "text/plain": [
       "Deck     A   B   C   D      E         F     G   M            T\n",
       "Pclass   1   1   1   1  2   1  2  3   2  3  3   1    2    3  1\n",
       "Count   22  65  94  40  6  34  4  3  13  8  5  67  254  693  1"
      ]
     },
     "execution_count": 11,
     "metadata": {},
     "output_type": "execute_result"
    }
   ],
   "source": [
    "# Creating Deck column from the first letter of the Cabin column (M stands for Missing)\n",
    "df_all['Deck'] = df_all['Cabin'].apply(lambda s: s[0] if pd.notnull(s) else 'M')\n",
    "\n",
    "df_all_decks = df_all.groupby(['Deck', 'Pclass']).count().drop(columns=['Survived', 'Sex', 'Age', 'SibSp', 'Parch', \n",
    "                                                                        'Fare', 'Embarked', 'Cabin', 'PassengerId', 'Ticket']).rename(columns={'Name': 'Count'}).transpose()\n",
    "df_all_decks"
   ]
  },
  {
   "cell_type": "markdown",
   "id": "b311614e",
   "metadata": {
    "papermill": {
     "duration": 0.015791,
     "end_time": "2022-12-06T17:33:25.241683",
     "exception": false,
     "start_time": "2022-12-06T17:33:25.225892",
     "status": "completed"
    },
    "tags": []
   },
   "source": [
    "From the above dataframe, we can see that the 1st Class passengers are in A, B and C. Then D and E has a mixed number of 1st, 2nd and 3rd. Similarly, FG consist of 2nd and 3rd Class passenger. So, we encode the decks based on this criteria."
   ]
  },
  {
   "cell_type": "code",
   "execution_count": 12,
   "id": "603151b1",
   "metadata": {
    "execution": {
     "iopub.execute_input": "2022-12-06T17:33:25.276179Z",
     "iopub.status.busy": "2022-12-06T17:33:25.275778Z",
     "iopub.status.idle": "2022-12-06T17:33:25.283781Z",
     "shell.execute_reply": "2022-12-06T17:33:25.282326Z"
    },
    "papermill": {
     "duration": 0.028404,
     "end_time": "2022-12-06T17:33:25.286292",
     "exception": false,
     "start_time": "2022-12-06T17:33:25.257888",
     "status": "completed"
    },
    "tags": []
   },
   "outputs": [],
   "source": [
    "# Assigning T deck as A\n",
    "idx = df_all[df_all['Deck'] == 'T'].index\n",
    "df_all.loc[idx, 'Deck'] = 'A'"
   ]
  },
  {
   "cell_type": "code",
   "execution_count": 13,
   "id": "4fe4c609",
   "metadata": {
    "execution": {
     "iopub.execute_input": "2022-12-06T17:33:25.320652Z",
     "iopub.status.busy": "2022-12-06T17:33:25.320202Z",
     "iopub.status.idle": "2022-12-06T17:33:25.343987Z",
     "shell.execute_reply": "2022-12-06T17:33:25.341917Z"
    },
    "papermill": {
     "duration": 0.044077,
     "end_time": "2022-12-06T17:33:25.346455",
     "exception": false,
     "start_time": "2022-12-06T17:33:25.302378",
     "status": "completed"
    },
    "tags": []
   },
   "outputs": [
    {
     "name": "stdout",
     "output_type": "stream",
     "text": [
      "M      1014\n",
      "ABC     182\n",
      "DE       87\n",
      "FG       26\n",
      "Name: Deck, dtype: int64\n"
     ]
    }
   ],
   "source": [
    "df_all_decks_survived = df_all.groupby(['Deck', 'Survived']).count().drop(columns=['Sex', 'Age', 'SibSp', 'Parch', 'Fare', \n",
    "                                                                                   'Embarked', 'Pclass', 'Cabin', 'PassengerId', 'Ticket']).rename(columns={'Name':'Count'}).transpose()\n",
    "df_all_decks_survived\n",
    "df_all['Deck'] = df_all['Deck'].replace(['A', 'B', 'C'], 'ABC')\n",
    "df_all['Deck'] = df_all['Deck'].replace(['D', 'E'], 'DE')\n",
    "df_all['Deck'] = df_all['Deck'].replace(['F', 'G'], 'FG')\n",
    "\n",
    "print(df_all['Deck'].value_counts())"
   ]
  },
  {
   "cell_type": "markdown",
   "id": "4f8e13b9",
   "metadata": {
    "papermill": {
     "duration": 0.015467,
     "end_time": "2022-12-06T17:33:25.377524",
     "exception": false,
     "start_time": "2022-12-06T17:33:25.362057",
     "status": "completed"
    },
    "tags": []
   },
   "source": [
    "We can now drop the cabin as we have encoded the feature."
   ]
  },
  {
   "cell_type": "code",
   "execution_count": 14,
   "id": "43f0a623",
   "metadata": {
    "execution": {
     "iopub.execute_input": "2022-12-06T17:33:25.412019Z",
     "iopub.status.busy": "2022-12-06T17:33:25.411282Z",
     "iopub.status.idle": "2022-12-06T17:33:25.418679Z",
     "shell.execute_reply": "2022-12-06T17:33:25.417553Z"
    },
    "papermill": {
     "duration": 0.027617,
     "end_time": "2022-12-06T17:33:25.421389",
     "exception": false,
     "start_time": "2022-12-06T17:33:25.393772",
     "status": "completed"
    },
    "tags": []
   },
   "outputs": [],
   "source": [
    "# Dropping the Cabin feature\n",
    "df_all.drop(['Cabin'], inplace=True, axis=1)\n",
    "\n",
    "df_train = df_all.loc[:890]\n",
    "df_test = df_all.loc[891:]"
   ]
  },
  {
   "cell_type": "markdown",
   "id": "44c2b82b",
   "metadata": {
    "papermill": {
     "duration": 0.015857,
     "end_time": "2022-12-06T17:33:25.453314",
     "exception": false,
     "start_time": "2022-12-06T17:33:25.437457",
     "status": "completed"
    },
    "tags": []
   },
   "source": [
    "- ### Correlation Graphs"
   ]
  },
  {
   "cell_type": "code",
   "execution_count": 15,
   "id": "c36aa1b0",
   "metadata": {
    "execution": {
     "iopub.execute_input": "2022-12-06T17:33:25.488243Z",
     "iopub.status.busy": "2022-12-06T17:33:25.487546Z",
     "iopub.status.idle": "2022-12-06T17:33:25.505149Z",
     "shell.execute_reply": "2022-12-06T17:33:25.503828Z"
    },
    "papermill": {
     "duration": 0.038296,
     "end_time": "2022-12-06T17:33:25.507530",
     "exception": false,
     "start_time": "2022-12-06T17:33:25.469234",
     "status": "completed"
    },
    "tags": []
   },
   "outputs": [
    {
     "data": {
      "text/html": [
       "<div>\n",
       "<style scoped>\n",
       "    .dataframe tbody tr th:only-of-type {\n",
       "        vertical-align: middle;\n",
       "    }\n",
       "\n",
       "    .dataframe tbody tr th {\n",
       "        vertical-align: top;\n",
       "    }\n",
       "\n",
       "    .dataframe thead th {\n",
       "        text-align: right;\n",
       "    }\n",
       "</style>\n",
       "<table border=\"1\" class=\"dataframe\">\n",
       "  <thead>\n",
       "    <tr style=\"text-align: right;\">\n",
       "      <th></th>\n",
       "      <th>Feature 1</th>\n",
       "      <th>Feature 2</th>\n",
       "      <th>Correlation Coefficient</th>\n",
       "    </tr>\n",
       "  </thead>\n",
       "  <tbody>\n",
       "    <tr>\n",
       "      <th>0</th>\n",
       "      <td>Age</td>\n",
       "      <td>Age</td>\n",
       "      <td>1.000000</td>\n",
       "    </tr>\n",
       "    <tr>\n",
       "      <th>9</th>\n",
       "      <td>Age</td>\n",
       "      <td>Pclass</td>\n",
       "      <td>0.451983</td>\n",
       "    </tr>\n",
       "    <tr>\n",
       "      <th>19</th>\n",
       "      <td>Age</td>\n",
       "      <td>SibSp</td>\n",
       "      <td>0.204025</td>\n",
       "    </tr>\n",
       "    <tr>\n",
       "      <th>21</th>\n",
       "      <td>Age</td>\n",
       "      <td>Fare</td>\n",
       "      <td>0.198704</td>\n",
       "    </tr>\n",
       "    <tr>\n",
       "      <th>26</th>\n",
       "      <td>Age</td>\n",
       "      <td>Parch</td>\n",
       "      <td>0.134239</td>\n",
       "    </tr>\n",
       "    <tr>\n",
       "      <th>32</th>\n",
       "      <td>Age</td>\n",
       "      <td>Survived</td>\n",
       "      <td>0.058635</td>\n",
       "    </tr>\n",
       "    <tr>\n",
       "      <th>41</th>\n",
       "      <td>Age</td>\n",
       "      <td>PassengerId</td>\n",
       "      <td>0.020478</td>\n",
       "    </tr>\n",
       "  </tbody>\n",
       "</table>\n",
       "</div>"
      ],
      "text/plain": [
       "   Feature 1    Feature 2  Correlation Coefficient\n",
       "0        Age          Age                 1.000000\n",
       "9        Age       Pclass                 0.451983\n",
       "19       Age        SibSp                 0.204025\n",
       "21       Age         Fare                 0.198704\n",
       "26       Age        Parch                 0.134239\n",
       "32       Age     Survived                 0.058635\n",
       "41       Age  PassengerId                 0.020478"
      ]
     },
     "metadata": {},
     "output_type": "display_data"
    }
   ],
   "source": [
    "#Correlation between the Columns with Null Values\n",
    "df_all_corr = df_all.corr().abs().unstack().sort_values(kind=\"quicksort\", ascending=False).reset_index()\n",
    "df_all_corr.rename(columns={\"level_0\": \"Feature 1\", \"level_1\": \"Feature 2\", 0: 'Correlation Coefficient'}, inplace=True)\n",
    "display(df_all_corr[df_all_corr['Feature 1'] == 'Age'])"
   ]
  },
  {
   "cell_type": "code",
   "execution_count": 16,
   "id": "820328fc",
   "metadata": {
    "execution": {
     "iopub.execute_input": "2022-12-06T17:33:25.542383Z",
     "iopub.status.busy": "2022-12-06T17:33:25.541730Z",
     "iopub.status.idle": "2022-12-06T17:33:25.974129Z",
     "shell.execute_reply": "2022-12-06T17:33:25.972578Z"
    },
    "papermill": {
     "duration": 0.453864,
     "end_time": "2022-12-06T17:33:25.977213",
     "exception": false,
     "start_time": "2022-12-06T17:33:25.523349",
     "status": "completed"
    },
    "tags": []
   },
   "outputs": [
    {
     "data": {
      "text/plain": [
       "<AxesSubplot:>"
      ]
     },
     "execution_count": 16,
     "metadata": {},
     "output_type": "execute_result"
    },
    {
     "data": {
      "image/png": "[encoded data removed]",
      "text/plain": [
       "<Figure size 792x648 with 2 Axes>"
      ]
     },
     "metadata": {},
     "output_type": "display_data"
    }
   ],
   "source": [
    "corr = df_train.corr()\n",
    "\n",
    "# Generate a mask for the upper triangle\n",
    "mask = np.triu(np.ones_like(corr, dtype=bool))\n",
    "\n",
    "# Set up the matplotlib figure\n",
    "f, ax = plt.subplots(figsize=(11, 9))\n",
    "\n",
    "# Generate a custom diverging colormap\n",
    "cmap = sns.color_palette(\"Blues\", as_cmap=True)\n",
    "\n",
    "# Draw the heatmap with the mask and correct aspect ratio\n",
    "sns.heatmap(corr, mask=mask, cmap=cmap, vmax=.3, center=0,\n",
    "            square=True, linewidths=.5, cbar_kws={\"shrink\": .5})"
   ]
  },
  {
   "cell_type": "markdown",
   "id": "87bba601",
   "metadata": {
    "papermill": {
     "duration": 0.019053,
     "end_time": "2022-12-06T17:33:26.014107",
     "exception": false,
     "start_time": "2022-12-06T17:33:25.995054",
     "status": "completed"
    },
    "tags": []
   },
   "source": [
    "# Distribution of Target Variable"
   ]
  },
  {
   "cell_type": "markdown",
   "id": "65f580e2",
   "metadata": {
    "papermill": {
     "duration": 0.01684,
     "end_time": "2022-12-06T17:33:26.048151",
     "exception": false,
     "start_time": "2022-12-06T17:33:26.031311",
     "status": "completed"
    },
    "tags": []
   },
   "source": [
    "- ### Plotting Survival Histogram"
   ]
  },
  {
   "cell_type": "code",
   "execution_count": 17,
   "id": "f37be1cf",
   "metadata": {
    "execution": {
     "iopub.execute_input": "2022-12-06T17:33:26.086580Z",
     "iopub.status.busy": "2022-12-06T17:33:26.086125Z",
     "iopub.status.idle": "2022-12-06T17:33:26.302848Z",
     "shell.execute_reply": "2022-12-06T17:33:26.301446Z"
    },
    "papermill": {
     "duration": 0.238582,
     "end_time": "2022-12-06T17:33:26.305580",
     "exception": false,
     "start_time": "2022-12-06T17:33:26.066998",
     "status": "completed"
    },
    "tags": []
   },
   "outputs": [
    {
     "data": {
      "image/png": "[encoded data removed]",
      "text/plain": [
       "<Figure size 720x576 with 1 Axes>"
      ]
     },
     "metadata": {},
     "output_type": "display_data"
    }
   ],
   "source": [
    "survived = df_train['Survived'].value_counts()[1]\n",
    "not_survived = df_train['Survived'].value_counts()[0]\n",
    "survived_per = survived / df_train.shape[0] * 100\n",
    "not_survived_per = not_survived / df_train.shape[0] * 100\n",
    "\n",
    "plt.figure(figsize=(10, 8))\n",
    "sns.countplot(df_train['Survived'],palette=[\"#fa3c4c\",\"#44bec7\"])\n",
    "\n",
    "plt.xlabel('Survival', size=15, labelpad=15)\n",
    "plt.ylabel('Passenger Count', size=15, labelpad=15)\n",
    "plt.xticks((0, 1), ['Not Survived ({0:.2f}%)'.format(not_survived_per), 'Survived ({0:.2f}%)'.format(survived_per)])\n",
    "plt.tick_params(axis='x', labelsize=13)\n",
    "plt.tick_params(axis='y', labelsize=13)\n",
    "\n",
    "plt.title('Training Set Survival Distribution', size=15, y=1.05)\n",
    "\n",
    "plt.show()"
   ]
  },
  {
   "cell_type": "markdown",
   "id": "40423824",
   "metadata": {
    "papermill": {
     "duration": 0.016431,
     "end_time": "2022-12-06T17:33:26.338986",
     "exception": false,
     "start_time": "2022-12-06T17:33:26.322555",
     "status": "completed"
    },
    "tags": []
   },
   "source": [
    "- ### Correlations between Features and Target Variable"
   ]
  },
  {
   "cell_type": "code",
   "execution_count": 18,
   "id": "620840bd",
   "metadata": {
    "execution": {
     "iopub.execute_input": "2022-12-06T17:33:26.375580Z",
     "iopub.status.busy": "2022-12-06T17:33:26.374733Z",
     "iopub.status.idle": "2022-12-06T17:33:26.398857Z",
     "shell.execute_reply": "2022-12-06T17:33:26.397533Z"
    },
    "papermill": {
     "duration": 0.046111,
     "end_time": "2022-12-06T17:33:26.401875",
     "exception": false,
     "start_time": "2022-12-06T17:33:26.355764",
     "status": "completed"
    },
    "tags": []
   },
   "outputs": [
    {
     "data": {
      "text/html": [
       "<div>\n",
       "<style scoped>\n",
       "    .dataframe tbody tr th:only-of-type {\n",
       "        vertical-align: middle;\n",
       "    }\n",
       "\n",
       "    .dataframe tbody tr th {\n",
       "        vertical-align: top;\n",
       "    }\n",
       "\n",
       "    .dataframe thead th {\n",
       "        text-align: right;\n",
       "    }\n",
       "</style>\n",
       "<table border=\"1\" class=\"dataframe\">\n",
       "  <thead>\n",
       "    <tr style=\"text-align: right;\">\n",
       "      <th></th>\n",
       "      <th>Feature 1</th>\n",
       "      <th>Feature 2</th>\n",
       "      <th>Correlation Coefficient</th>\n",
       "    </tr>\n",
       "  </thead>\n",
       "  <tbody>\n",
       "    <tr>\n",
       "      <th>6</th>\n",
       "      <td>Fare</td>\n",
       "      <td>Pclass</td>\n",
       "      <td>0.549500</td>\n",
       "    </tr>\n",
       "    <tr>\n",
       "      <th>8</th>\n",
       "      <td>Age</td>\n",
       "      <td>Pclass</td>\n",
       "      <td>0.417667</td>\n",
       "    </tr>\n",
       "    <tr>\n",
       "      <th>10</th>\n",
       "      <td>Parch</td>\n",
       "      <td>SibSp</td>\n",
       "      <td>0.414838</td>\n",
       "    </tr>\n",
       "    <tr>\n",
       "      <th>12</th>\n",
       "      <td>Pclass</td>\n",
       "      <td>Survived</td>\n",
       "      <td>0.338481</td>\n",
       "    </tr>\n",
       "    <tr>\n",
       "      <th>14</th>\n",
       "      <td>Fare</td>\n",
       "      <td>Survived</td>\n",
       "      <td>0.257307</td>\n",
       "    </tr>\n",
       "    <tr>\n",
       "      <th>16</th>\n",
       "      <td>Age</td>\n",
       "      <td>SibSp</td>\n",
       "      <td>0.249747</td>\n",
       "    </tr>\n",
       "    <tr>\n",
       "      <th>18</th>\n",
       "      <td>Parch</td>\n",
       "      <td>Fare</td>\n",
       "      <td>0.216225</td>\n",
       "    </tr>\n",
       "    <tr>\n",
       "      <th>20</th>\n",
       "      <td>Parch</td>\n",
       "      <td>Age</td>\n",
       "      <td>0.176733</td>\n",
       "    </tr>\n",
       "    <tr>\n",
       "      <th>22</th>\n",
       "      <td>SibSp</td>\n",
       "      <td>Fare</td>\n",
       "      <td>0.159651</td>\n",
       "    </tr>\n",
       "    <tr>\n",
       "      <th>24</th>\n",
       "      <td>Age</td>\n",
       "      <td>Fare</td>\n",
       "      <td>0.124061</td>\n",
       "    </tr>\n",
       "  </tbody>\n",
       "</table>\n",
       "</div>"
      ],
      "text/plain": [
       "   Feature 1 Feature 2  Correlation Coefficient\n",
       "6       Fare    Pclass                 0.549500\n",
       "8        Age    Pclass                 0.417667\n",
       "10     Parch     SibSp                 0.414838\n",
       "12    Pclass  Survived                 0.338481\n",
       "14      Fare  Survived                 0.257307\n",
       "16       Age     SibSp                 0.249747\n",
       "18     Parch      Fare                 0.216225\n",
       "20     Parch       Age                 0.176733\n",
       "22     SibSp      Fare                 0.159651\n",
       "24       Age      Fare                 0.124061"
      ]
     },
     "metadata": {},
     "output_type": "display_data"
    }
   ],
   "source": [
    "df_train_corr = df_train.drop(['PassengerId'], axis=1).corr().abs().unstack().sort_values(kind=\"quicksort\", ascending=False).reset_index()\n",
    "df_train_corr.rename(columns={\"level_0\": \"Feature 1\", \"level_1\": \"Feature 2\", 0: 'Correlation Coefficient'}, inplace=True)\n",
    "df_train_corr.drop(df_train_corr.iloc[1::2].index, inplace=True)\n",
    "df_train_corr_nd = df_train_corr.drop(df_train_corr[df_train_corr['Correlation Coefficient'] == 1.0].index)\n",
    "\n",
    "# Training set high correlations\n",
    "corr = df_train_corr_nd['Correlation Coefficient'] > 0.1\n",
    "display(df_train_corr_nd[corr])"
   ]
  },
  {
   "cell_type": "code",
   "execution_count": 19,
   "id": "ff548a41",
   "metadata": {
    "execution": {
     "iopub.execute_input": "2022-12-06T17:33:26.438221Z",
     "iopub.status.busy": "2022-12-06T17:33:26.437797Z",
     "iopub.status.idle": "2022-12-06T17:33:26.443415Z",
     "shell.execute_reply": "2022-12-06T17:33:26.442131Z"
    },
    "papermill": {
     "duration": 0.026994,
     "end_time": "2022-12-06T17:33:26.446146",
     "exception": false,
     "start_time": "2022-12-06T17:33:26.419152",
     "status": "completed"
    },
    "tags": []
   },
   "outputs": [],
   "source": [
    "#sns.heatmap(df_train.drop(['PassengerId'], axis=1).corr(), annot=True, square=True, cmap='coolwarm', annot_kws={'size': 14})\n"
   ]
  },
  {
   "cell_type": "code",
   "execution_count": 20,
   "id": "7f984c5d",
   "metadata": {
    "execution": {
     "iopub.execute_input": "2022-12-06T17:33:26.483298Z",
     "iopub.status.busy": "2022-12-06T17:33:26.482868Z",
     "iopub.status.idle": "2022-12-06T17:33:27.040221Z",
     "shell.execute_reply": "2022-12-06T17:33:27.038749Z"
    },
    "papermill": {
     "duration": 0.579611,
     "end_time": "2022-12-06T17:33:27.043537",
     "exception": false,
     "start_time": "2022-12-06T17:33:26.463926",
     "status": "completed"
    },
    "tags": []
   },
   "outputs": [
    {
     "data": {
      "text/plain": [
       "<AxesSubplot:>"
      ]
     },
     "execution_count": 20,
     "metadata": {},
     "output_type": "execute_result"
    },
    {
     "data": {
      "image/png": "[encoded data removed]",
      "text/plain": [
       "<Figure size 864x864 with 2 Axes>"
      ]
     },
     "metadata": {},
     "output_type": "display_data"
    }
   ],
   "source": [
    "sns.set(rc={'figure.figsize':(12, 12)})\n",
    "\n",
    "sns.heatmap(df_train.drop(['PassengerId'], axis=1).corr(), annot=True, square=True, cmap='rocket', annot_kws={'size': 14})\n"
   ]
  },
  {
   "cell_type": "markdown",
   "id": "c5e6db14",
   "metadata": {
    "papermill": {
     "duration": 0.021124,
     "end_time": "2022-12-06T17:33:27.087053",
     "exception": false,
     "start_time": "2022-12-06T17:33:27.065929",
     "status": "completed"
    },
    "tags": []
   },
   "source": [
    "- ### Survived wrt to Age "
   ]
  },
  {
   "cell_type": "code",
   "execution_count": 21,
   "id": "00843b8b",
   "metadata": {
    "execution": {
     "iopub.execute_input": "2022-12-06T17:33:27.129780Z",
     "iopub.status.busy": "2022-12-06T17:33:27.128184Z",
     "iopub.status.idle": "2022-12-06T17:33:27.579238Z",
     "shell.execute_reply": "2022-12-06T17:33:27.578203Z"
    },
    "papermill": {
     "duration": 0.474271,
     "end_time": "2022-12-06T17:33:27.582332",
     "exception": false,
     "start_time": "2022-12-06T17:33:27.108061",
     "status": "completed"
    },
    "tags": []
   },
   "outputs": [
    {
     "data": {
      "text/plain": [
       "<AxesSubplot:xlabel='Age', ylabel='Density'>"
      ]
     },
     "execution_count": 21,
     "metadata": {},
     "output_type": "execute_result"
    },
    {
     "data": {
      "image/png": "[encoded data removed]",
      "text/plain": [
       "<Figure size 864x864 with 1 Axes>"
      ]
     },
     "metadata": {},
     "output_type": "display_data"
    }
   ],
   "source": [
    "survived = df_train['Survived'] == 1\n",
    "\n",
    "sns.distplot(df_train[~survived]['Age'], label='Not Survived', hist=True, color='#090088')\n",
    "sns.distplot(df_train[survived]['Age'], label='Survived', hist=True, color='#ff6f69')\n"
   ]
  },
  {
   "cell_type": "markdown",
   "id": "dbc66384",
   "metadata": {
    "papermill": {
     "duration": 0.018565,
     "end_time": "2022-12-06T17:33:27.622446",
     "exception": false,
     "start_time": "2022-12-06T17:33:27.603881",
     "status": "completed"
    },
    "tags": []
   },
   "source": [
    "### Survived wrt to Fare "
   ]
  },
  {
   "cell_type": "code",
   "execution_count": 22,
   "id": "b2e55cd9",
   "metadata": {
    "execution": {
     "iopub.execute_input": "2022-12-06T17:33:27.664589Z",
     "iopub.status.busy": "2022-12-06T17:33:27.663712Z",
     "iopub.status.idle": "2022-12-06T17:33:28.185729Z",
     "shell.execute_reply": "2022-12-06T17:33:28.184286Z"
    },
    "papermill": {
     "duration": 0.545546,
     "end_time": "2022-12-06T17:33:28.188593",
     "exception": false,
     "start_time": "2022-12-06T17:33:27.643047",
     "status": "completed"
    },
    "tags": []
   },
   "outputs": [
    {
     "data": {
      "text/plain": [
       "<AxesSubplot:xlabel='Fare', ylabel='Density'>"
      ]
     },
     "execution_count": 22,
     "metadata": {},
     "output_type": "execute_result"
    },
    {
     "data": {
      "image/png": "[encoded data removed]",
      "text/plain": [
       "<Figure size 864x864 with 1 Axes>"
      ]
     },
     "metadata": {},
     "output_type": "display_data"
    }
   ],
   "source": [
    "sns.distplot(df_train[~survived]['Fare'], label='Not Survived', hist=True, color='#090088')\n",
    "sns.distplot(df_train[survived]['Fare'], label='Survived', hist=True, color='#ff6f69')"
   ]
  },
  {
   "cell_type": "markdown",
   "id": "6195ba56",
   "metadata": {
    "papermill": {
     "duration": 0.019615,
     "end_time": "2022-12-06T17:33:28.227954",
     "exception": false,
     "start_time": "2022-12-06T17:33:28.208339",
     "status": "completed"
    },
    "tags": []
   },
   "source": [
    "**Categorical Features**"
   ]
  },
  {
   "cell_type": "code",
   "execution_count": 23,
   "id": "0b9e44dc",
   "metadata": {
    "execution": {
     "iopub.execute_input": "2022-12-06T17:33:28.269952Z",
     "iopub.status.busy": "2022-12-06T17:33:28.269459Z",
     "iopub.status.idle": "2022-12-06T17:33:29.704541Z",
     "shell.execute_reply": "2022-12-06T17:33:29.703423Z"
    },
    "papermill": {
     "duration": 1.460179,
     "end_time": "2022-12-06T17:33:29.708221",
     "exception": false,
     "start_time": "2022-12-06T17:33:28.248042",
     "status": "completed"
    },
    "tags": []
   },
   "outputs": [
    {
     "data": {
      "image/png": "[encoded data removed]",
      "text/plain": [
       "<Figure size 1440x1440 with 6 Axes>"
      ]
     },
     "metadata": {},
     "output_type": "display_data"
    }
   ],
   "source": [
    "cat_features = ['Embarked', 'Parch', 'Pclass', 'Sex', 'SibSp', 'Deck']\n",
    "\n",
    "fig, axs = plt.subplots(ncols=2, nrows=3, figsize=(20, 20))\n",
    "plt.subplots_adjust(right=1.5, top=1.25)\n",
    "\n",
    "for i, feature in enumerate(cat_features, 1):    \n",
    "    plt.subplot(2, 3, i)\n",
    "    sns.countplot(x=feature, hue='Survived', data=df_train,palette=[\"#0084ff\",\"#88d8b0\"])\n",
    "    \n",
    "    plt.xlabel('{}'.format(feature), size=20, labelpad=15)\n",
    "    plt.ylabel('Passenger Count', size=20, labelpad=15)    \n",
    "    plt.tick_params(axis='x', labelsize=20)\n",
    "    plt.tick_params(axis='y', labelsize=20)\n",
    "    \n",
    "    plt.legend(['Not Survived', 'Survived'], loc='upper center', prop={'size': 18})\n",
    "    plt.title('Count of Survival in {} Feature'.format(feature), size=20, y=1.05)\n",
    "\n",
    "plt.show()"
   ]
  },
  {
   "cell_type": "markdown",
   "id": "95eb3302",
   "metadata": {
    "papermill": {
     "duration": 0.021707,
     "end_time": "2022-12-06T17:33:29.752131",
     "exception": false,
     "start_time": "2022-12-06T17:33:29.730424",
     "status": "completed"
    },
    "tags": []
   },
   "source": [
    "- We can use Target encoding as it could be very useful because of the high correlations with Survived feature.\n",
    "\n",
    "- Split points and spikes are visible in continuous features. They can be captured easily with a decision tree model, but linear models may not be able to spot them.\n",
    "\n",
    "- Categorical features which have very distinct distributions with different survival rates can be one-hot encoded."
   ]
  },
  {
   "cell_type": "markdown",
   "id": "cb1be827",
   "metadata": {
    "papermill": {
     "duration": 0.021277,
     "end_time": "2022-12-06T17:33:29.795218",
     "exception": false,
     "start_time": "2022-12-06T17:33:29.773941",
     "status": "completed"
    },
    "tags": []
   },
   "source": [
    "# Feature Engineering and Encoding"
   ]
  },
  {
   "cell_type": "code",
   "execution_count": 24,
   "id": "1e2b68a3",
   "metadata": {
    "execution": {
     "iopub.execute_input": "2022-12-06T17:33:29.840926Z",
     "iopub.status.busy": "2022-12-06T17:33:29.840144Z",
     "iopub.status.idle": "2022-12-06T17:33:29.863675Z",
     "shell.execute_reply": "2022-12-06T17:33:29.862319Z"
    },
    "papermill": {
     "duration": 0.049747,
     "end_time": "2022-12-06T17:33:29.866436",
     "exception": false,
     "start_time": "2022-12-06T17:33:29.816689",
     "status": "completed"
    },
    "tags": []
   },
   "outputs": [
    {
     "data": {
      "text/html": [
       "<div>\n",
       "<style scoped>\n",
       "    .dataframe tbody tr th:only-of-type {\n",
       "        vertical-align: middle;\n",
       "    }\n",
       "\n",
       "    .dataframe tbody tr th {\n",
       "        vertical-align: top;\n",
       "    }\n",
       "\n",
       "    .dataframe thead th {\n",
       "        text-align: right;\n",
       "    }\n",
       "</style>\n",
       "<table border=\"1\" class=\"dataframe\">\n",
       "  <thead>\n",
       "    <tr style=\"text-align: right;\">\n",
       "      <th></th>\n",
       "      <th>Age</th>\n",
       "      <th>Deck</th>\n",
       "      <th>Embarked</th>\n",
       "      <th>Fare</th>\n",
       "      <th>Name</th>\n",
       "      <th>Parch</th>\n",
       "      <th>PassengerId</th>\n",
       "      <th>Pclass</th>\n",
       "      <th>Sex</th>\n",
       "      <th>SibSp</th>\n",
       "      <th>Survived</th>\n",
       "      <th>Ticket</th>\n",
       "    </tr>\n",
       "  </thead>\n",
       "  <tbody>\n",
       "    <tr>\n",
       "      <th>0</th>\n",
       "      <td>22.0</td>\n",
       "      <td>M</td>\n",
       "      <td>S</td>\n",
       "      <td>7.2500</td>\n",
       "      <td>Braund, Mr. Owen Harris</td>\n",
       "      <td>0</td>\n",
       "      <td>1</td>\n",
       "      <td>3</td>\n",
       "      <td>male</td>\n",
       "      <td>1</td>\n",
       "      <td>0.0</td>\n",
       "      <td>A/5 21171</td>\n",
       "    </tr>\n",
       "    <tr>\n",
       "      <th>1</th>\n",
       "      <td>38.0</td>\n",
       "      <td>ABC</td>\n",
       "      <td>C</td>\n",
       "      <td>71.2833</td>\n",
       "      <td>Cumings, Mrs. John Bradley (Florence Briggs Th...</td>\n",
       "      <td>0</td>\n",
       "      <td>2</td>\n",
       "      <td>1</td>\n",
       "      <td>female</td>\n",
       "      <td>1</td>\n",
       "      <td>1.0</td>\n",
       "      <td>PC 17599</td>\n",
       "    </tr>\n",
       "    <tr>\n",
       "      <th>2</th>\n",
       "      <td>26.0</td>\n",
       "      <td>M</td>\n",
       "      <td>S</td>\n",
       "      <td>7.9250</td>\n",
       "      <td>Heikkinen, Miss. Laina</td>\n",
       "      <td>0</td>\n",
       "      <td>3</td>\n",
       "      <td>3</td>\n",
       "      <td>female</td>\n",
       "      <td>0</td>\n",
       "      <td>1.0</td>\n",
       "      <td>STON/O2. 3101282</td>\n",
       "    </tr>\n",
       "    <tr>\n",
       "      <th>3</th>\n",
       "      <td>35.0</td>\n",
       "      <td>ABC</td>\n",
       "      <td>S</td>\n",
       "      <td>53.1000</td>\n",
       "      <td>Futrelle, Mrs. Jacques Heath (Lily May Peel)</td>\n",
       "      <td>0</td>\n",
       "      <td>4</td>\n",
       "      <td>1</td>\n",
       "      <td>female</td>\n",
       "      <td>1</td>\n",
       "      <td>1.0</td>\n",
       "      <td>113803</td>\n",
       "    </tr>\n",
       "    <tr>\n",
       "      <th>4</th>\n",
       "      <td>35.0</td>\n",
       "      <td>M</td>\n",
       "      <td>S</td>\n",
       "      <td>8.0500</td>\n",
       "      <td>Allen, Mr. William Henry</td>\n",
       "      <td>0</td>\n",
       "      <td>5</td>\n",
       "      <td>3</td>\n",
       "      <td>male</td>\n",
       "      <td>0</td>\n",
       "      <td>0.0</td>\n",
       "      <td>373450</td>\n",
       "    </tr>\n",
       "  </tbody>\n",
       "</table>\n",
       "</div>"
      ],
      "text/plain": [
       "    Age Deck Embarked     Fare  \\\n",
       "0  22.0    M        S   7.2500   \n",
       "1  38.0  ABC        C  71.2833   \n",
       "2  26.0    M        S   7.9250   \n",
       "3  35.0  ABC        S  53.1000   \n",
       "4  35.0    M        S   8.0500   \n",
       "\n",
       "                                                Name  Parch  PassengerId  \\\n",
       "0                            Braund, Mr. Owen Harris      0            1   \n",
       "1  Cumings, Mrs. John Bradley (Florence Briggs Th...      0            2   \n",
       "2                             Heikkinen, Miss. Laina      0            3   \n",
       "3       Futrelle, Mrs. Jacques Heath (Lily May Peel)      0            4   \n",
       "4                           Allen, Mr. William Henry      0            5   \n",
       "\n",
       "   Pclass     Sex  SibSp  Survived            Ticket  \n",
       "0       3    male      1       0.0         A/5 21171  \n",
       "1       1  female      1       1.0          PC 17599  \n",
       "2       3  female      0       1.0  STON/O2. 3101282  \n",
       "3       1  female      1       1.0            113803  \n",
       "4       3    male      0       0.0            373450  "
      ]
     },
     "execution_count": 24,
     "metadata": {},
     "output_type": "execute_result"
    }
   ],
   "source": [
    "#Cobining the Dataset.\n",
    "df_all = pd.concat([df_train, df_test], sort=True).reset_index(drop=True) \n",
    "df_all.head()"
   ]
  },
  {
   "cell_type": "code",
   "execution_count": 25,
   "id": "361953eb",
   "metadata": {
    "execution": {
     "iopub.execute_input": "2022-12-06T17:33:29.913574Z",
     "iopub.status.busy": "2022-12-06T17:33:29.912910Z",
     "iopub.status.idle": "2022-12-06T17:33:29.941146Z",
     "shell.execute_reply": "2022-12-06T17:33:29.939582Z"
    },
    "papermill": {
     "duration": 0.055096,
     "end_time": "2022-12-06T17:33:29.944130",
     "exception": false,
     "start_time": "2022-12-06T17:33:29.889034",
     "status": "completed"
    },
    "tags": []
   },
   "outputs": [],
   "source": [
    "# We are using qcut to Bin the Age Column to 13 different range category\n",
    "df_all['Fare'] = pd.qcut(df_all['Fare'], 13)"
   ]
  },
  {
   "cell_type": "code",
   "execution_count": 26,
   "id": "80d83b3c",
   "metadata": {
    "execution": {
     "iopub.execute_input": "2022-12-06T17:33:29.990617Z",
     "iopub.status.busy": "2022-12-06T17:33:29.990003Z",
     "iopub.status.idle": "2022-12-06T17:33:30.000788Z",
     "shell.execute_reply": "2022-12-06T17:33:29.999539Z"
    },
    "papermill": {
     "duration": 0.037691,
     "end_time": "2022-12-06T17:33:30.003886",
     "exception": false,
     "start_time": "2022-12-06T17:33:29.966195",
     "status": "completed"
    },
    "tags": []
   },
   "outputs": [],
   "source": [
    "# We are using qcut to Bin the Age Column to 10 different range category\n",
    "df_all['Age'] = pd.qcut(df_all['Age'], 10)"
   ]
  },
  {
   "cell_type": "code",
   "execution_count": 27,
   "id": "8a474bc8",
   "metadata": {
    "execution": {
     "iopub.execute_input": "2022-12-06T17:33:30.053119Z",
     "iopub.status.busy": "2022-12-06T17:33:30.052451Z",
     "iopub.status.idle": "2022-12-06T17:33:30.060615Z",
     "shell.execute_reply": "2022-12-06T17:33:30.059591Z"
    },
    "papermill": {
     "duration": 0.037453,
     "end_time": "2022-12-06T17:33:30.063706",
     "exception": false,
     "start_time": "2022-12-06T17:33:30.026253",
     "status": "completed"
    },
    "tags": []
   },
   "outputs": [],
   "source": [
    "#Frequency Encoding Family Type\n",
    "\n",
    "df_all['Family_Size'] = df_all['SibSp'] + df_all['Parch'] + 1\n",
    "\n",
    "family_map = {1: 'Alone', 2: 'Small', 3: 'Small', 4: 'Small', 5: 'Medium', 6: 'Medium', 7: 'Large', 8: 'Large', 11: 'Large'}\n",
    "df_all['Family_Size_Grouped'] = df_all['Family_Size'].map(family_map)\n"
   ]
  },
  {
   "cell_type": "code",
   "execution_count": 28,
   "id": "938cf03a",
   "metadata": {
    "execution": {
     "iopub.execute_input": "2022-12-06T17:33:30.112841Z",
     "iopub.status.busy": "2022-12-06T17:33:30.111392Z",
     "iopub.status.idle": "2022-12-06T17:33:30.120052Z",
     "shell.execute_reply": "2022-12-06T17:33:30.118684Z"
    },
    "papermill": {
     "duration": 0.036154,
     "end_time": "2022-12-06T17:33:30.123388",
     "exception": false,
     "start_time": "2022-12-06T17:33:30.087234",
     "status": "completed"
    },
    "tags": []
   },
   "outputs": [],
   "source": [
    "#Frequency Encoding Ticket \n",
    "df_all['Ticket_Frequency'] = df_all.groupby('Ticket')['Ticket'].transform('count')"
   ]
  },
  {
   "cell_type": "code",
   "execution_count": 29,
   "id": "ef4e4909",
   "metadata": {
    "execution": {
     "iopub.execute_input": "2022-12-06T17:33:30.172978Z",
     "iopub.status.busy": "2022-12-06T17:33:30.172532Z",
     "iopub.status.idle": "2022-12-06T17:33:30.194526Z",
     "shell.execute_reply": "2022-12-06T17:33:30.193550Z"
    },
    "papermill": {
     "duration": 0.050566,
     "end_time": "2022-12-06T17:33:30.196896",
     "exception": false,
     "start_time": "2022-12-06T17:33:30.146330",
     "status": "completed"
    },
    "tags": []
   },
   "outputs": [],
   "source": [
    "#Frequency Encoding based on Name Title and then categorizing Is Married\n",
    "df_all['Title'] = df_all['Name'].str.split(', ', expand=True)[1].str.split('.', expand=True)[0]\n",
    "df_all['Is_Married'] = 0\n",
    "df_all['Is_Married'].loc[df_all['Title'] == 'Mrs'] = 1\n",
    "\n",
    "#Converting Title into a Category\n",
    "df_all['Title'] = df_all['Title'].replace(['Miss', 'Mrs','Ms', 'Mlle', 'Lady', 'Mme', 'the Countess', 'Dona'], 'Miss/Mrs/Ms')\n",
    "df_all['Title'] = df_all['Title'].replace(['Dr', 'Col', 'Major', 'Jonkheer', 'Capt', 'Sir', 'Don', 'Rev'], 'Dr/Military/Noble/Clergy')"
   ]
  },
  {
   "cell_type": "code",
   "execution_count": 30,
   "id": "79632386",
   "metadata": {
    "execution": {
     "iopub.execute_input": "2022-12-06T17:33:30.243406Z",
     "iopub.status.busy": "2022-12-06T17:33:30.242677Z",
     "iopub.status.idle": "2022-12-06T17:33:30.273423Z",
     "shell.execute_reply": "2022-12-06T17:33:30.271963Z"
    },
    "papermill": {
     "duration": 0.057285,
     "end_time": "2022-12-06T17:33:30.276397",
     "exception": false,
     "start_time": "2022-12-06T17:33:30.219112",
     "status": "completed"
    },
    "tags": []
   },
   "outputs": [],
   "source": [
    "# Extracting Surname and Categorizing with that\n",
    "def surname_gathering(data):    \n",
    "    \n",
    "    families = []\n",
    "    \n",
    "    for i in range(len(data)):        \n",
    "        name = data.iloc[i]\n",
    "\n",
    "        if '(' in name:\n",
    "            name_no_bracket = name.split('(')[0] \n",
    "        else:\n",
    "            name_no_bracket = name\n",
    "            \n",
    "        family = name_no_bracket.split(',')[0]\n",
    "        title = name_no_bracket.split(',')[1].strip().split(' ')[0]\n",
    "        \n",
    "        for c in string.punctuation:\n",
    "            family = family.replace(c, '').strip()\n",
    "            \n",
    "        families.append(family)\n",
    "            \n",
    "    return families\n",
    "\n",
    "df_all['Family'] = surname_gathering(df_all['Name'])\n",
    "\n",
    "df_train = df_all.loc[:890]\n",
    "df_test = df_all.loc[891:]\n",
    "dfs = [df_train, df_test]"
   ]
  },
  {
   "cell_type": "code",
   "execution_count": 31,
   "id": "e4ce3ab4",
   "metadata": {
    "execution": {
     "iopub.execute_input": "2022-12-06T17:33:30.324736Z",
     "iopub.status.busy": "2022-12-06T17:33:30.323344Z",
     "iopub.status.idle": "2022-12-06T17:33:30.503621Z",
     "shell.execute_reply": "2022-12-06T17:33:30.502120Z"
    },
    "papermill": {
     "duration": 0.207411,
     "end_time": "2022-12-06T17:33:30.506747",
     "exception": false,
     "start_time": "2022-12-06T17:33:30.299336",
     "status": "completed"
    },
    "tags": []
   },
   "outputs": [],
   "source": [
    "# Creating families list and tickets that occurs in both training and test set\n",
    "non_unique_families = [x for x in df_train['Family'].unique() if x in df_test['Family'].unique()]\n",
    "non_unique_tickets = [x for x in df_train['Ticket'].unique() if x in df_test['Ticket'].unique()]\n",
    "\n",
    "df_family_survival_rate = df_train.groupby('Family')['Survived', 'Family','Family_Size'].median()\n",
    "df_ticket_survival_rate = df_train.groupby('Ticket')['Survived', 'Ticket','Ticket_Frequency'].median()\n",
    "\n",
    "family_rates = {}\n",
    "ticket_rates = {}\n",
    "\n",
    "for i in range(len(df_family_survival_rate)):\n",
    "    # Checking a family exists in both training and test set, and has members more than 1\n",
    "    if df_family_survival_rate.index[i] in non_unique_families and df_family_survival_rate.iloc[i, 1] > 1:\n",
    "        family_rates[df_family_survival_rate.index[i]] = df_family_survival_rate.iloc[i, 0]\n",
    "\n",
    "for i in range(len(df_ticket_survival_rate)):\n",
    "    # Checking a ticket exists in both training and test set, and has members more than 1\n",
    "    if df_ticket_survival_rate.index[i] in non_unique_tickets and df_ticket_survival_rate.iloc[i, 1] > 1:\n",
    "        ticket_rates[df_ticket_survival_rate.index[i]] = df_ticket_survival_rate.iloc[i, 0]"
   ]
  },
  {
   "cell_type": "code",
   "execution_count": 32,
   "id": "649ca0e9",
   "metadata": {
    "execution": {
     "iopub.execute_input": "2022-12-06T17:33:30.554615Z",
     "iopub.status.busy": "2022-12-06T17:33:30.553920Z",
     "iopub.status.idle": "2022-12-06T17:33:30.601099Z",
     "shell.execute_reply": "2022-12-06T17:33:30.600094Z"
    },
    "papermill": {
     "duration": 0.073894,
     "end_time": "2022-12-06T17:33:30.603776",
     "exception": false,
     "start_time": "2022-12-06T17:33:30.529882",
     "status": "completed"
    },
    "tags": []
   },
   "outputs": [],
   "source": [
    "mean_survival_rate = np.mean(df_train['Survived'])\n",
    "\n",
    "train_family_survival_rate = []\n",
    "train_family_survival_rate_NA = []\n",
    "test_family_survival_rate = []\n",
    "test_family_survival_rate_NA = []\n",
    "\n",
    "for i in range(len(df_train)):\n",
    "    if df_train['Family'][i] in family_rates:\n",
    "        train_family_survival_rate.append(family_rates[df_train['Family'][i]])\n",
    "        train_family_survival_rate_NA.append(1)\n",
    "    else:\n",
    "        train_family_survival_rate.append(mean_survival_rate)\n",
    "        train_family_survival_rate_NA.append(0)\n",
    "        \n",
    "for i in range(len(df_test)):\n",
    "    if df_test['Family'].iloc[i] in family_rates:\n",
    "        test_family_survival_rate.append(family_rates[df_test['Family'].iloc[i]])\n",
    "        test_family_survival_rate_NA.append(1)\n",
    "    else:\n",
    "        test_family_survival_rate.append(mean_survival_rate)\n",
    "        test_family_survival_rate_NA.append(0)\n",
    "        \n",
    "df_train['Family_Survival_Rate'] = train_family_survival_rate\n",
    "df_train['Family_Survival_Rate_NA'] = train_family_survival_rate_NA\n",
    "df_test['Family_Survival_Rate'] = test_family_survival_rate\n",
    "df_test['Family_Survival_Rate_NA'] = test_family_survival_rate_NA\n",
    "\n",
    "train_ticket_survival_rate = []\n",
    "train_ticket_survival_rate_NA = []\n",
    "test_ticket_survival_rate = []\n",
    "test_ticket_survival_rate_NA = []\n",
    "\n",
    "for i in range(len(df_train)):\n",
    "    if df_train['Ticket'][i] in ticket_rates:\n",
    "        train_ticket_survival_rate.append(ticket_rates[df_train['Ticket'][i]])\n",
    "        train_ticket_survival_rate_NA.append(1)\n",
    "    else:\n",
    "        train_ticket_survival_rate.append(mean_survival_rate)\n",
    "        train_ticket_survival_rate_NA.append(0)\n",
    "        \n",
    "for i in range(len(df_test)):\n",
    "    if df_test['Ticket'].iloc[i] in ticket_rates:\n",
    "        test_ticket_survival_rate.append(ticket_rates[df_test['Ticket'].iloc[i]])\n",
    "        test_ticket_survival_rate_NA.append(1)\n",
    "    else:\n",
    "        test_ticket_survival_rate.append(mean_survival_rate)\n",
    "        test_ticket_survival_rate_NA.append(0)\n",
    "        \n",
    "df_train['Ticket_Survival_Rate'] = train_ticket_survival_rate\n",
    "df_train['Ticket_Survival_Rate_NA'] = train_ticket_survival_rate_NA\n",
    "df_test['Ticket_Survival_Rate'] = test_ticket_survival_rate\n",
    "df_test['Ticket_Survival_Rate_NA'] = test_ticket_survival_rate_NA"
   ]
  },
  {
   "cell_type": "code",
   "execution_count": 33,
   "id": "922e1bea",
   "metadata": {
    "execution": {
     "iopub.execute_input": "2022-12-06T17:33:30.650698Z",
     "iopub.status.busy": "2022-12-06T17:33:30.649906Z",
     "iopub.status.idle": "2022-12-06T17:33:30.659722Z",
     "shell.execute_reply": "2022-12-06T17:33:30.658615Z"
    },
    "papermill": {
     "duration": 0.036228,
     "end_time": "2022-12-06T17:33:30.662422",
     "exception": false,
     "start_time": "2022-12-06T17:33:30.626194",
     "status": "completed"
    },
    "tags": []
   },
   "outputs": [],
   "source": [
    "for df in [df_train, df_test]:\n",
    "    df['Survival_Rate'] = (df['Ticket_Survival_Rate'] + df['Family_Survival_Rate']) / 2\n",
    "    df['Survival_Rate_NA'] = (df['Ticket_Survival_Rate_NA'] + df['Family_Survival_Rate_NA']) / 2  "
   ]
  },
  {
   "cell_type": "markdown",
   "id": "5dc1fe27",
   "metadata": {
    "papermill": {
     "duration": 0.021509,
     "end_time": "2022-12-06T17:33:30.706787",
     "exception": false,
     "start_time": "2022-12-06T17:33:30.685278",
     "status": "completed"
    },
    "tags": []
   },
   "source": [
    "# Feature Transformation"
   ]
  },
  {
   "cell_type": "code",
   "execution_count": 34,
   "id": "33647e0d",
   "metadata": {
    "execution": {
     "iopub.execute_input": "2022-12-06T17:33:30.756758Z",
     "iopub.status.busy": "2022-12-06T17:33:30.756058Z",
     "iopub.status.idle": "2022-12-06T17:33:30.779859Z",
     "shell.execute_reply": "2022-12-06T17:33:30.778542Z"
    },
    "papermill": {
     "duration": 0.054068,
     "end_time": "2022-12-06T17:33:30.783336",
     "exception": false,
     "start_time": "2022-12-06T17:33:30.729268",
     "status": "completed"
    },
    "tags": []
   },
   "outputs": [],
   "source": [
    "non_numeric_features = ['Embarked', 'Sex', 'Deck', 'Title', 'Family_Size_Grouped', 'Age', 'Fare']\n",
    "\n",
    "for df in dfs:\n",
    "    for feature in non_numeric_features:        \n",
    "        df[feature] = LabelEncoder().fit_transform(df[feature])"
   ]
  },
  {
   "cell_type": "code",
   "execution_count": 35,
   "id": "6965261c",
   "metadata": {
    "execution": {
     "iopub.execute_input": "2022-12-06T17:33:30.831462Z",
     "iopub.status.busy": "2022-12-06T17:33:30.830992Z",
     "iopub.status.idle": "2022-12-06T17:33:30.857312Z",
     "shell.execute_reply": "2022-12-06T17:33:30.855809Z"
    },
    "papermill": {
     "duration": 0.054075,
     "end_time": "2022-12-06T17:33:30.860397",
     "exception": false,
     "start_time": "2022-12-06T17:33:30.806322",
     "status": "completed"
    },
    "tags": []
   },
   "outputs": [],
   "source": [
    "cat_features = ['Pclass', 'Sex', 'Deck', 'Embarked', 'Title', 'Family_Size_Grouped']\n",
    "encoded_features = []\n",
    "\n",
    "for df in dfs:\n",
    "    for feature in cat_features:\n",
    "        encoded_feat = OneHotEncoder().fit_transform(df[feature].values.reshape(-1, 1)).toarray()\n",
    "        n = df[feature].nunique()\n",
    "        cols = ['{}_{}'.format(feature, n) for n in range(1, n + 1)]\n",
    "        encoded_df = pd.DataFrame(encoded_feat, columns=cols)\n",
    "        encoded_df.index = df.index\n",
    "        encoded_features.append(encoded_df)\n",
    "\n",
    "df_train = pd.concat([df_train, *encoded_features[:6]], axis=1)\n",
    "df_test = pd.concat([df_test, *encoded_features[6:]], axis=1)"
   ]
  },
  {
   "cell_type": "code",
   "execution_count": 36,
   "id": "0a3efcb5",
   "metadata": {
    "execution": {
     "iopub.execute_input": "2022-12-06T17:33:30.907334Z",
     "iopub.status.busy": "2022-12-06T17:33:30.906934Z",
     "iopub.status.idle": "2022-12-06T17:33:30.934361Z",
     "shell.execute_reply": "2022-12-06T17:33:30.933118Z"
    },
    "papermill": {
     "duration": 0.054581,
     "end_time": "2022-12-06T17:33:30.937093",
     "exception": false,
     "start_time": "2022-12-06T17:33:30.882512",
     "status": "completed"
    },
    "tags": []
   },
   "outputs": [
    {
     "data": {
      "text/html": [
       "<div>\n",
       "<style scoped>\n",
       "    .dataframe tbody tr th:only-of-type {\n",
       "        vertical-align: middle;\n",
       "    }\n",
       "\n",
       "    .dataframe tbody tr th {\n",
       "        vertical-align: top;\n",
       "    }\n",
       "\n",
       "    .dataframe thead th {\n",
       "        text-align: right;\n",
       "    }\n",
       "</style>\n",
       "<table border=\"1\" class=\"dataframe\">\n",
       "  <thead>\n",
       "    <tr style=\"text-align: right;\">\n",
       "      <th></th>\n",
       "      <th>Age</th>\n",
       "      <th>Deck</th>\n",
       "      <th>Embarked</th>\n",
       "      <th>Fare</th>\n",
       "      <th>Name</th>\n",
       "      <th>Parch</th>\n",
       "      <th>PassengerId</th>\n",
       "      <th>Pclass</th>\n",
       "      <th>Sex</th>\n",
       "      <th>SibSp</th>\n",
       "      <th>...</th>\n",
       "      <th>Embarked_2</th>\n",
       "      <th>Embarked_3</th>\n",
       "      <th>Title_1</th>\n",
       "      <th>Title_2</th>\n",
       "      <th>Title_3</th>\n",
       "      <th>Title_4</th>\n",
       "      <th>Family_Size_Grouped_1</th>\n",
       "      <th>Family_Size_Grouped_2</th>\n",
       "      <th>Family_Size_Grouped_3</th>\n",
       "      <th>Family_Size_Grouped_4</th>\n",
       "    </tr>\n",
       "  </thead>\n",
       "  <tbody>\n",
       "    <tr>\n",
       "      <th>0</th>\n",
       "      <td>2</td>\n",
       "      <td>3</td>\n",
       "      <td>2</td>\n",
       "      <td>0</td>\n",
       "      <td>Braund, Mr. Owen Harris</td>\n",
       "      <td>0</td>\n",
       "      <td>1</td>\n",
       "      <td>3</td>\n",
       "      <td>1</td>\n",
       "      <td>1</td>\n",
       "      <td>...</td>\n",
       "      <td>0.0</td>\n",
       "      <td>1.0</td>\n",
       "      <td>0.0</td>\n",
       "      <td>0.0</td>\n",
       "      <td>0.0</td>\n",
       "      <td>1.0</td>\n",
       "      <td>0.0</td>\n",
       "      <td>0.0</td>\n",
       "      <td>0.0</td>\n",
       "      <td>1.0</td>\n",
       "    </tr>\n",
       "    <tr>\n",
       "      <th>1</th>\n",
       "      <td>7</td>\n",
       "      <td>0</td>\n",
       "      <td>0</td>\n",
       "      <td>11</td>\n",
       "      <td>Cumings, Mrs. John Bradley (Florence Briggs Th...</td>\n",
       "      <td>0</td>\n",
       "      <td>2</td>\n",
       "      <td>1</td>\n",
       "      <td>0</td>\n",
       "      <td>1</td>\n",
       "      <td>...</td>\n",
       "      <td>0.0</td>\n",
       "      <td>0.0</td>\n",
       "      <td>0.0</td>\n",
       "      <td>0.0</td>\n",
       "      <td>1.0</td>\n",
       "      <td>0.0</td>\n",
       "      <td>0.0</td>\n",
       "      <td>0.0</td>\n",
       "      <td>0.0</td>\n",
       "      <td>1.0</td>\n",
       "    </tr>\n",
       "    <tr>\n",
       "      <th>2</th>\n",
       "      <td>4</td>\n",
       "      <td>3</td>\n",
       "      <td>2</td>\n",
       "      <td>3</td>\n",
       "      <td>Heikkinen, Miss. Laina</td>\n",
       "      <td>0</td>\n",
       "      <td>3</td>\n",
       "      <td>3</td>\n",
       "      <td>0</td>\n",
       "      <td>0</td>\n",
       "      <td>...</td>\n",
       "      <td>0.0</td>\n",
       "      <td>1.0</td>\n",
       "      <td>0.0</td>\n",
       "      <td>0.0</td>\n",
       "      <td>1.0</td>\n",
       "      <td>0.0</td>\n",
       "      <td>1.0</td>\n",
       "      <td>0.0</td>\n",
       "      <td>0.0</td>\n",
       "      <td>0.0</td>\n",
       "    </tr>\n",
       "    <tr>\n",
       "      <th>3</th>\n",
       "      <td>7</td>\n",
       "      <td>0</td>\n",
       "      <td>2</td>\n",
       "      <td>10</td>\n",
       "      <td>Futrelle, Mrs. Jacques Heath (Lily May Peel)</td>\n",
       "      <td>0</td>\n",
       "      <td>4</td>\n",
       "      <td>1</td>\n",
       "      <td>0</td>\n",
       "      <td>1</td>\n",
       "      <td>...</td>\n",
       "      <td>0.0</td>\n",
       "      <td>1.0</td>\n",
       "      <td>0.0</td>\n",
       "      <td>0.0</td>\n",
       "      <td>1.0</td>\n",
       "      <td>0.0</td>\n",
       "      <td>0.0</td>\n",
       "      <td>0.0</td>\n",
       "      <td>0.0</td>\n",
       "      <td>1.0</td>\n",
       "    </tr>\n",
       "    <tr>\n",
       "      <th>4</th>\n",
       "      <td>7</td>\n",
       "      <td>3</td>\n",
       "      <td>2</td>\n",
       "      <td>3</td>\n",
       "      <td>Allen, Mr. William Henry</td>\n",
       "      <td>0</td>\n",
       "      <td>5</td>\n",
       "      <td>3</td>\n",
       "      <td>1</td>\n",
       "      <td>0</td>\n",
       "      <td>...</td>\n",
       "      <td>0.0</td>\n",
       "      <td>1.0</td>\n",
       "      <td>0.0</td>\n",
       "      <td>0.0</td>\n",
       "      <td>0.0</td>\n",
       "      <td>1.0</td>\n",
       "      <td>1.0</td>\n",
       "      <td>0.0</td>\n",
       "      <td>0.0</td>\n",
       "      <td>0.0</td>\n",
       "    </tr>\n",
       "  </tbody>\n",
       "</table>\n",
       "<p>5 rows × 44 columns</p>\n",
       "</div>"
      ],
      "text/plain": [
       "   Age  Deck  Embarked  Fare  \\\n",
       "0    2     3         2     0   \n",
       "1    7     0         0    11   \n",
       "2    4     3         2     3   \n",
       "3    7     0         2    10   \n",
       "4    7     3         2     3   \n",
       "\n",
       "                                                Name  Parch  PassengerId  \\\n",
       "0                            Braund, Mr. Owen Harris      0            1   \n",
       "1  Cumings, Mrs. John Bradley (Florence Briggs Th...      0            2   \n",
       "2                             Heikkinen, Miss. Laina      0            3   \n",
       "3       Futrelle, Mrs. Jacques Heath (Lily May Peel)      0            4   \n",
       "4                           Allen, Mr. William Henry      0            5   \n",
       "\n",
       "   Pclass  Sex  SibSp  ...  Embarked_2 Embarked_3  Title_1  Title_2  Title_3  \\\n",
       "0       3    1      1  ...         0.0        1.0      0.0      0.0      0.0   \n",
       "1       1    0      1  ...         0.0        0.0      0.0      0.0      1.0   \n",
       "2       3    0      0  ...         0.0        1.0      0.0      0.0      1.0   \n",
       "3       1    0      1  ...         0.0        1.0      0.0      0.0      1.0   \n",
       "4       3    1      0  ...         0.0        1.0      0.0      0.0      0.0   \n",
       "\n",
       "   Title_4  Family_Size_Grouped_1 Family_Size_Grouped_2  \\\n",
       "0      1.0                    0.0                   0.0   \n",
       "1      0.0                    0.0                   0.0   \n",
       "2      0.0                    1.0                   0.0   \n",
       "3      0.0                    0.0                   0.0   \n",
       "4      1.0                    1.0                   0.0   \n",
       "\n",
       "   Family_Size_Grouped_3  Family_Size_Grouped_4  \n",
       "0                    0.0                    1.0  \n",
       "1                    0.0                    1.0  \n",
       "2                    0.0                    0.0  \n",
       "3                    0.0                    1.0  \n",
       "4                    0.0                    0.0  \n",
       "\n",
       "[5 rows x 44 columns]"
      ]
     },
     "execution_count": 36,
     "metadata": {},
     "output_type": "execute_result"
    }
   ],
   "source": [
    "df_train.head()"
   ]
  },
  {
   "cell_type": "markdown",
   "id": "f4c66d16",
   "metadata": {
    "papermill": {
     "duration": 0.023512,
     "end_time": "2022-12-06T17:33:30.984113",
     "exception": false,
     "start_time": "2022-12-06T17:33:30.960601",
     "status": "completed"
    },
    "tags": []
   },
   "source": [
    "**Conclusion**<br>\n",
    "Age and Fare features are binned. Binning helped dealing with outliers and it revealed some homogeneous groups in those features. Family_Size is created by adding Parch and SibSp features and 1. Ticket_Frequency is created by counting the occurence of Ticket values.\n",
    "\n",
    "Name feature is very useful. First, Title and Is_Married features are created from the title prefix in the names. Second, Family_Survival_Rate and Family_Survival_Rate_NA features are created by target encoding the surname of the passengers. Ticket_Survival_Rate is created by target encoding the Ticket feature. Survival_Rate feature is created by averaging the Family_Survival_Rate and Ticket_Survival_Rate features.\n",
    "\n",
    "Finally, the non-numeric type features are label encoded and categorical features are one-hot encoded. Created 5 new features (Family_Size, Title, Is_Married, Survival_Rate and Survival_Rate_NA) and dropped the useless features after encoding."
   ]
  },
  {
   "cell_type": "code",
   "execution_count": 37,
   "id": "b8f591da",
   "metadata": {
    "execution": {
     "iopub.execute_input": "2022-12-06T17:33:31.031740Z",
     "iopub.status.busy": "2022-12-06T17:33:31.030323Z",
     "iopub.status.idle": "2022-12-06T17:33:31.070835Z",
     "shell.execute_reply": "2022-12-06T17:33:31.069459Z"
    },
    "papermill": {
     "duration": 0.06738,
     "end_time": "2022-12-06T17:33:31.073766",
     "exception": false,
     "start_time": "2022-12-06T17:33:31.006386",
     "status": "completed"
    },
    "tags": []
   },
   "outputs": [
    {
     "data": {
      "text/html": [
       "<div>\n",
       "<style scoped>\n",
       "    .dataframe tbody tr th:only-of-type {\n",
       "        vertical-align: middle;\n",
       "    }\n",
       "\n",
       "    .dataframe tbody tr th {\n",
       "        vertical-align: top;\n",
       "    }\n",
       "\n",
       "    .dataframe thead th {\n",
       "        text-align: right;\n",
       "    }\n",
       "</style>\n",
       "<table border=\"1\" class=\"dataframe\">\n",
       "  <thead>\n",
       "    <tr style=\"text-align: right;\">\n",
       "      <th></th>\n",
       "      <th>Age</th>\n",
       "      <th>Deck_1</th>\n",
       "      <th>Deck_2</th>\n",
       "      <th>Deck_3</th>\n",
       "      <th>Deck_4</th>\n",
       "      <th>Embarked_1</th>\n",
       "      <th>Embarked_2</th>\n",
       "      <th>Embarked_3</th>\n",
       "      <th>Family_Size_Grouped_1</th>\n",
       "      <th>Family_Size_Grouped_2</th>\n",
       "      <th>...</th>\n",
       "      <th>Pclass_3</th>\n",
       "      <th>Sex_1</th>\n",
       "      <th>Sex_2</th>\n",
       "      <th>Survival_Rate</th>\n",
       "      <th>Survival_Rate_NA</th>\n",
       "      <th>Ticket_Frequency</th>\n",
       "      <th>Title_1</th>\n",
       "      <th>Title_2</th>\n",
       "      <th>Title_3</th>\n",
       "      <th>Title_4</th>\n",
       "    </tr>\n",
       "  </thead>\n",
       "  <tbody>\n",
       "    <tr>\n",
       "      <th>0</th>\n",
       "      <td>2</td>\n",
       "      <td>0.0</td>\n",
       "      <td>0.0</td>\n",
       "      <td>0.0</td>\n",
       "      <td>1.0</td>\n",
       "      <td>0.0</td>\n",
       "      <td>0.0</td>\n",
       "      <td>1.0</td>\n",
       "      <td>0.0</td>\n",
       "      <td>0.0</td>\n",
       "      <td>...</td>\n",
       "      <td>1.0</td>\n",
       "      <td>0.0</td>\n",
       "      <td>1.0</td>\n",
       "      <td>0.383838</td>\n",
       "      <td>0.0</td>\n",
       "      <td>1</td>\n",
       "      <td>0.0</td>\n",
       "      <td>0.0</td>\n",
       "      <td>0.0</td>\n",
       "      <td>1.0</td>\n",
       "    </tr>\n",
       "    <tr>\n",
       "      <th>1</th>\n",
       "      <td>7</td>\n",
       "      <td>1.0</td>\n",
       "      <td>0.0</td>\n",
       "      <td>0.0</td>\n",
       "      <td>0.0</td>\n",
       "      <td>1.0</td>\n",
       "      <td>0.0</td>\n",
       "      <td>0.0</td>\n",
       "      <td>0.0</td>\n",
       "      <td>0.0</td>\n",
       "      <td>...</td>\n",
       "      <td>0.0</td>\n",
       "      <td>1.0</td>\n",
       "      <td>0.0</td>\n",
       "      <td>1.000000</td>\n",
       "      <td>1.0</td>\n",
       "      <td>2</td>\n",
       "      <td>0.0</td>\n",
       "      <td>0.0</td>\n",
       "      <td>1.0</td>\n",
       "      <td>0.0</td>\n",
       "    </tr>\n",
       "    <tr>\n",
       "      <th>2</th>\n",
       "      <td>4</td>\n",
       "      <td>0.0</td>\n",
       "      <td>0.0</td>\n",
       "      <td>0.0</td>\n",
       "      <td>1.0</td>\n",
       "      <td>0.0</td>\n",
       "      <td>0.0</td>\n",
       "      <td>1.0</td>\n",
       "      <td>1.0</td>\n",
       "      <td>0.0</td>\n",
       "      <td>...</td>\n",
       "      <td>1.0</td>\n",
       "      <td>1.0</td>\n",
       "      <td>0.0</td>\n",
       "      <td>0.383838</td>\n",
       "      <td>0.0</td>\n",
       "      <td>1</td>\n",
       "      <td>0.0</td>\n",
       "      <td>0.0</td>\n",
       "      <td>1.0</td>\n",
       "      <td>0.0</td>\n",
       "    </tr>\n",
       "    <tr>\n",
       "      <th>3</th>\n",
       "      <td>7</td>\n",
       "      <td>1.0</td>\n",
       "      <td>0.0</td>\n",
       "      <td>0.0</td>\n",
       "      <td>0.0</td>\n",
       "      <td>0.0</td>\n",
       "      <td>0.0</td>\n",
       "      <td>1.0</td>\n",
       "      <td>0.0</td>\n",
       "      <td>0.0</td>\n",
       "      <td>...</td>\n",
       "      <td>0.0</td>\n",
       "      <td>1.0</td>\n",
       "      <td>0.0</td>\n",
       "      <td>0.383838</td>\n",
       "      <td>0.0</td>\n",
       "      <td>2</td>\n",
       "      <td>0.0</td>\n",
       "      <td>0.0</td>\n",
       "      <td>1.0</td>\n",
       "      <td>0.0</td>\n",
       "    </tr>\n",
       "    <tr>\n",
       "      <th>4</th>\n",
       "      <td>7</td>\n",
       "      <td>0.0</td>\n",
       "      <td>0.0</td>\n",
       "      <td>0.0</td>\n",
       "      <td>1.0</td>\n",
       "      <td>0.0</td>\n",
       "      <td>0.0</td>\n",
       "      <td>1.0</td>\n",
       "      <td>1.0</td>\n",
       "      <td>0.0</td>\n",
       "      <td>...</td>\n",
       "      <td>1.0</td>\n",
       "      <td>0.0</td>\n",
       "      <td>1.0</td>\n",
       "      <td>0.383838</td>\n",
       "      <td>0.0</td>\n",
       "      <td>1</td>\n",
       "      <td>0.0</td>\n",
       "      <td>0.0</td>\n",
       "      <td>0.0</td>\n",
       "      <td>1.0</td>\n",
       "    </tr>\n",
       "  </tbody>\n",
       "</table>\n",
       "<p>5 rows × 26 columns</p>\n",
       "</div>"
      ],
      "text/plain": [
       "   Age  Deck_1  Deck_2  Deck_3  Deck_4  Embarked_1  Embarked_2  Embarked_3  \\\n",
       "0    2     0.0     0.0     0.0     1.0         0.0         0.0         1.0   \n",
       "1    7     1.0     0.0     0.0     0.0         1.0         0.0         0.0   \n",
       "2    4     0.0     0.0     0.0     1.0         0.0         0.0         1.0   \n",
       "3    7     1.0     0.0     0.0     0.0         0.0         0.0         1.0   \n",
       "4    7     0.0     0.0     0.0     1.0         0.0         0.0         1.0   \n",
       "\n",
       "   Family_Size_Grouped_1  Family_Size_Grouped_2  ...  Pclass_3  Sex_1  Sex_2  \\\n",
       "0                    0.0                    0.0  ...       1.0    0.0    1.0   \n",
       "1                    0.0                    0.0  ...       0.0    1.0    0.0   \n",
       "2                    1.0                    0.0  ...       1.0    1.0    0.0   \n",
       "3                    0.0                    0.0  ...       0.0    1.0    0.0   \n",
       "4                    1.0                    0.0  ...       1.0    0.0    1.0   \n",
       "\n",
       "   Survival_Rate  Survival_Rate_NA  Ticket_Frequency  Title_1  Title_2  \\\n",
       "0       0.383838               0.0                 1      0.0      0.0   \n",
       "1       1.000000               1.0                 2      0.0      0.0   \n",
       "2       0.383838               0.0                 1      0.0      0.0   \n",
       "3       0.383838               0.0                 2      0.0      0.0   \n",
       "4       0.383838               0.0                 1      0.0      0.0   \n",
       "\n",
       "   Title_3  Title_4  \n",
       "0      0.0      1.0  \n",
       "1      1.0      0.0  \n",
       "2      1.0      0.0  \n",
       "3      1.0      0.0  \n",
       "4      0.0      1.0  \n",
       "\n",
       "[5 rows x 26 columns]"
      ]
     },
     "metadata": {},
     "output_type": "display_data"
    }
   ],
   "source": [
    "df_all =pd.concat([df_train, df_test], sort=True).reset_index(drop=True) \n",
    "\n",
    "\n",
    "drop_cols = ['Deck', 'Embarked', 'Family', 'Family_Size', 'Family_Size_Grouped', 'Survived',\n",
    "             'Name', 'Parch', 'PassengerId', 'Pclass', 'Sex', 'SibSp', 'Ticket', 'Title',\n",
    "            'Ticket_Survival_Rate', 'Family_Survival_Rate', 'Ticket_Survival_Rate_NA', 'Family_Survival_Rate_NA']\n",
    "\n",
    "df_all.drop(columns=drop_cols, inplace=True)\n",
    "\n",
    "display(df_all.head())"
   ]
  },
  {
   "cell_type": "code",
   "execution_count": 38,
   "id": "de959f94",
   "metadata": {
    "execution": {
     "iopub.execute_input": "2022-12-06T17:33:31.121579Z",
     "iopub.status.busy": "2022-12-06T17:33:31.121110Z",
     "iopub.status.idle": "2022-12-06T17:33:31.128395Z",
     "shell.execute_reply": "2022-12-06T17:33:31.127438Z"
    },
    "papermill": {
     "duration": 0.034677,
     "end_time": "2022-12-06T17:33:31.131070",
     "exception": false,
     "start_time": "2022-12-06T17:33:31.096393",
     "status": "completed"
    },
    "tags": []
   },
   "outputs": [
    {
     "data": {
      "text/plain": [
       "Index(['Age', 'Deck_1', 'Deck_2', 'Deck_3', 'Deck_4', 'Embarked_1',\n",
       "       'Embarked_2', 'Embarked_3', 'Family_Size_Grouped_1',\n",
       "       'Family_Size_Grouped_2', 'Family_Size_Grouped_3',\n",
       "       'Family_Size_Grouped_4', 'Fare', 'Is_Married', 'Pclass_1', 'Pclass_2',\n",
       "       'Pclass_3', 'Sex_1', 'Sex_2', 'Survival_Rate', 'Survival_Rate_NA',\n",
       "       'Ticket_Frequency', 'Title_1', 'Title_2', 'Title_3', 'Title_4'],\n",
       "      dtype='object')"
      ]
     },
     "execution_count": 38,
     "metadata": {},
     "output_type": "execute_result"
    }
   ],
   "source": [
    "df_all.columns"
   ]
  },
  {
   "cell_type": "markdown",
   "id": "89d3258f",
   "metadata": {
    "papermill": {
     "duration": 0.024393,
     "end_time": "2022-12-06T17:33:31.178971",
     "exception": false,
     "start_time": "2022-12-06T17:33:31.154578",
     "status": "completed"
    },
    "tags": []
   },
   "source": [
    "# Data Modelling"
   ]
  },
  {
   "cell_type": "code",
   "execution_count": 39,
   "id": "78785638",
   "metadata": {
    "execution": {
     "iopub.execute_input": "2022-12-06T17:33:31.227871Z",
     "iopub.status.busy": "2022-12-06T17:33:31.227436Z",
     "iopub.status.idle": "2022-12-06T17:33:31.250619Z",
     "shell.execute_reply": "2022-12-06T17:33:31.248998Z"
    },
    "papermill": {
     "duration": 0.051811,
     "end_time": "2022-12-06T17:33:31.253397",
     "exception": false,
     "start_time": "2022-12-06T17:33:31.201586",
     "status": "completed"
    },
    "tags": []
   },
   "outputs": [
    {
     "name": "stdout",
     "output_type": "stream",
     "text": [
      "X_train shape: (891, 26)\n",
      "y_train shape: (891,)\n",
      "X_test shape: (418, 26)\n"
     ]
    }
   ],
   "source": [
    "X_train = StandardScaler().fit_transform(df_train.drop(columns=drop_cols))\n",
    "y_train = df_train['Survived'].values\n",
    "X_test = StandardScaler().fit_transform(df_test.drop(columns=drop_cols))\n",
    "\n",
    "print('X_train shape: {}'.format(X_train.shape))\n",
    "print('y_train shape: {}'.format(y_train.shape))\n",
    "print('X_test shape: {}'.format(X_test.shape))"
   ]
  },
  {
   "cell_type": "code",
   "execution_count": 40,
   "id": "7332a3c8",
   "metadata": {
    "execution": {
     "iopub.execute_input": "2022-12-06T17:33:31.301298Z",
     "iopub.status.busy": "2022-12-06T17:33:31.300859Z",
     "iopub.status.idle": "2022-12-06T17:33:31.308470Z",
     "shell.execute_reply": "2022-12-06T17:33:31.307490Z"
    },
    "papermill": {
     "duration": 0.03515,
     "end_time": "2022-12-06T17:33:31.311403",
     "exception": false,
     "start_time": "2022-12-06T17:33:31.276253",
     "status": "completed"
    },
    "tags": []
   },
   "outputs": [
    {
     "data": {
      "text/plain": [
       "array([[-0.79767242, -1.55651393, -0.62440403, ..., -0.16990692,\n",
       "        -0.20814785,  1.4322604 ],\n",
       "       [ 0.90998286,  1.34816867, -0.06750314, ..., -0.16990692,\n",
       "        -0.20814785,  1.4322604 ],\n",
       "       [-0.11461031, -0.76432777, -0.62440403, ..., -0.16990692,\n",
       "        -0.20814785, -0.69819706],\n",
       "       ...,\n",
       "       [-0.79767242,  0.55598251,  1.04629864, ..., -0.16990692,\n",
       "        -0.20814785,  1.4322604 ],\n",
       "       [-0.11461031,  0.82004456, -0.62440403, ..., -0.16990692,\n",
       "        -0.20814785, -0.69819706],\n",
       "       [ 0.5684518 , -1.29245188, -0.62440403, ..., -0.16990692,\n",
       "        -0.20814785, -0.69819706]])"
      ]
     },
     "execution_count": 40,
     "metadata": {},
     "output_type": "execute_result"
    }
   ],
   "source": [
    "X_train"
   ]
  },
  {
   "cell_type": "markdown",
   "id": "9b315da2",
   "metadata": {
    "papermill": {
     "duration": 0.022969,
     "end_time": "2022-12-06T17:33:31.358065",
     "exception": false,
     "start_time": "2022-12-06T17:33:31.335096",
     "status": "completed"
    },
    "tags": []
   },
   "source": [
    "### Random Forest Model with Tuned Parameters"
   ]
  },
  {
   "cell_type": "code",
   "execution_count": 41,
   "id": "c9094d43",
   "metadata": {
    "execution": {
     "iopub.execute_input": "2022-12-06T17:33:31.408467Z",
     "iopub.status.busy": "2022-12-06T17:33:31.408053Z",
     "iopub.status.idle": "2022-12-06T17:33:31.413914Z",
     "shell.execute_reply": "2022-12-06T17:33:31.412894Z"
    },
    "papermill": {
     "duration": 0.03332,
     "end_time": "2022-12-06T17:33:31.416207",
     "exception": false,
     "start_time": "2022-12-06T17:33:31.382887",
     "status": "completed"
    },
    "tags": []
   },
   "outputs": [],
   "source": [
    "tuned_rndm_frst = RandomForestClassifier(criterion='gini',\n",
    "                                           n_estimators=1750,\n",
    "                                           max_depth=7,\n",
    "                                           min_samples_split=6,\n",
    "                                           min_samples_leaf=6,\n",
    "                                           max_features='auto',\n",
    "                                           oob_score=True,\n",
    "                                           random_state=SEED,\n",
    "                                           n_jobs=-1,\n",
    "                                           verbose=1) "
   ]
  },
  {
   "cell_type": "code",
   "execution_count": 42,
   "id": "60f0293c",
   "metadata": {
    "execution": {
     "iopub.execute_input": "2022-12-06T17:33:31.464609Z",
     "iopub.status.busy": "2022-12-06T17:33:31.464133Z",
     "iopub.status.idle": "2022-12-06T17:34:11.996463Z",
     "shell.execute_reply": "2022-12-06T17:34:11.994898Z"
    },
    "papermill": {
     "duration": 40.560502,
     "end_time": "2022-12-06T17:34:11.999715",
     "exception": false,
     "start_time": "2022-12-06T17:33:31.439213",
     "status": "completed"
    },
    "tags": []
   },
   "outputs": [
    {
     "name": "stdout",
     "output_type": "stream",
     "text": [
      "Fold 1\n",
      "\n"
     ]
    },
    {
     "name": "stderr",
     "output_type": "stream",
     "text": [
      "[Parallel(n_jobs=-1)]: Using backend ThreadingBackend with 4 concurrent workers.\n",
      "[Parallel(n_jobs=-1)]: Done  42 tasks      | elapsed:    0.1s\n",
      "[Parallel(n_jobs=-1)]: Done 192 tasks      | elapsed:    0.4s\n",
      "[Parallel(n_jobs=-1)]: Done 442 tasks      | elapsed:    0.9s\n",
      "[Parallel(n_jobs=-1)]: Done 792 tasks      | elapsed:    1.7s\n",
      "[Parallel(n_jobs=-1)]: Done 1242 tasks      | elapsed:    2.6s\n",
      "[Parallel(n_jobs=-1)]: Done 1750 out of 1750 | elapsed:    3.7s finished\n",
      "[Parallel(n_jobs=4)]: Using backend ThreadingBackend with 4 concurrent workers.\n",
      "[Parallel(n_jobs=4)]: Done  42 tasks      | elapsed:    0.0s\n",
      "[Parallel(n_jobs=4)]: Done 192 tasks      | elapsed:    0.1s\n",
      "[Parallel(n_jobs=4)]: Done 442 tasks      | elapsed:    0.2s\n",
      "[Parallel(n_jobs=4)]: Done 792 tasks      | elapsed:    0.3s\n",
      "[Parallel(n_jobs=4)]: Done 1242 tasks      | elapsed:    0.5s\n",
      "[Parallel(n_jobs=4)]: Done 1750 out of 1750 | elapsed:    0.7s finished\n",
      "[Parallel(n_jobs=4)]: Using backend ThreadingBackend with 4 concurrent workers.\n",
      "[Parallel(n_jobs=4)]: Done  42 tasks      | elapsed:    0.0s\n",
      "[Parallel(n_jobs=4)]: Done 192 tasks      | elapsed:    0.1s\n",
      "[Parallel(n_jobs=4)]: Done 442 tasks      | elapsed:    0.1s\n",
      "[Parallel(n_jobs=4)]: Done 792 tasks      | elapsed:    0.2s\n",
      "[Parallel(n_jobs=4)]: Done 1242 tasks      | elapsed:    0.3s\n",
      "[Parallel(n_jobs=4)]: Done 1750 out of 1750 | elapsed:    0.5s finished\n",
      "[Parallel(n_jobs=4)]: Using backend ThreadingBackend with 4 concurrent workers.\n",
      "[Parallel(n_jobs=4)]: Done  42 tasks      | elapsed:    0.0s\n",
      "[Parallel(n_jobs=4)]: Done 192 tasks      | elapsed:    0.1s\n",
      "[Parallel(n_jobs=4)]: Done 442 tasks      | elapsed:    0.2s\n",
      "[Parallel(n_jobs=4)]: Done 792 tasks      | elapsed:    0.3s\n",
      "[Parallel(n_jobs=4)]: Done 1242 tasks      | elapsed:    0.4s\n",
      "[Parallel(n_jobs=4)]: Done 1750 out of 1750 | elapsed:    0.6s finished\n",
      "[Parallel(n_jobs=4)]: Using backend ThreadingBackend with 4 concurrent workers.\n",
      "[Parallel(n_jobs=4)]: Done  42 tasks      | elapsed:    0.0s\n",
      "[Parallel(n_jobs=4)]: Done 192 tasks      | elapsed:    0.1s\n",
      "[Parallel(n_jobs=4)]: Done 442 tasks      | elapsed:    0.1s\n",
      "[Parallel(n_jobs=4)]: Done 792 tasks      | elapsed:    0.3s\n",
      "[Parallel(n_jobs=4)]: Done 1242 tasks      | elapsed:    0.4s\n",
      "[Parallel(n_jobs=4)]: Done 1750 out of 1750 | elapsed:    0.6s finished\n"
     ]
    },
    {
     "name": "stdout",
     "output_type": "stream",
     "text": [
      "Fold 1 OOB Score: 0.8553370786516854\n",
      "\n",
      "Fold 2\n",
      "\n"
     ]
    },
    {
     "name": "stderr",
     "output_type": "stream",
     "text": [
      "[Parallel(n_jobs=-1)]: Using backend ThreadingBackend with 4 concurrent workers.\n",
      "[Parallel(n_jobs=-1)]: Done  42 tasks      | elapsed:    0.1s\n",
      "[Parallel(n_jobs=-1)]: Done 192 tasks      | elapsed:    0.4s\n",
      "[Parallel(n_jobs=-1)]: Done 442 tasks      | elapsed:    0.9s\n",
      "[Parallel(n_jobs=-1)]: Done 792 tasks      | elapsed:    1.7s\n",
      "[Parallel(n_jobs=-1)]: Done 1242 tasks      | elapsed:    2.6s\n",
      "[Parallel(n_jobs=-1)]: Done 1750 out of 1750 | elapsed:    3.7s finished\n",
      "[Parallel(n_jobs=4)]: Using backend ThreadingBackend with 4 concurrent workers.\n",
      "[Parallel(n_jobs=4)]: Done  42 tasks      | elapsed:    0.0s\n",
      "[Parallel(n_jobs=4)]: Done 192 tasks      | elapsed:    0.1s\n",
      "[Parallel(n_jobs=4)]: Done 442 tasks      | elapsed:    0.2s\n",
      "[Parallel(n_jobs=4)]: Done 792 tasks      | elapsed:    0.3s\n",
      "[Parallel(n_jobs=4)]: Done 1242 tasks      | elapsed:    0.5s\n",
      "[Parallel(n_jobs=4)]: Done 1750 out of 1750 | elapsed:    0.7s finished\n",
      "[Parallel(n_jobs=4)]: Using backend ThreadingBackend with 4 concurrent workers.\n",
      "[Parallel(n_jobs=4)]: Done  42 tasks      | elapsed:    0.0s\n",
      "[Parallel(n_jobs=4)]: Done 192 tasks      | elapsed:    0.1s\n",
      "[Parallel(n_jobs=4)]: Done 442 tasks      | elapsed:    0.1s\n",
      "[Parallel(n_jobs=4)]: Done 792 tasks      | elapsed:    0.2s\n",
      "[Parallel(n_jobs=4)]: Done 1242 tasks      | elapsed:    0.4s\n",
      "[Parallel(n_jobs=4)]: Done 1750 out of 1750 | elapsed:    0.5s finished\n",
      "[Parallel(n_jobs=4)]: Using backend ThreadingBackend with 4 concurrent workers.\n",
      "[Parallel(n_jobs=4)]: Done  42 tasks      | elapsed:    0.0s\n",
      "[Parallel(n_jobs=4)]: Done 192 tasks      | elapsed:    0.1s\n",
      "[Parallel(n_jobs=4)]: Done 442 tasks      | elapsed:    0.1s\n",
      "[Parallel(n_jobs=4)]: Done 792 tasks      | elapsed:    0.3s\n",
      "[Parallel(n_jobs=4)]: Done 1242 tasks      | elapsed:    0.4s\n",
      "[Parallel(n_jobs=4)]: Done 1750 out of 1750 | elapsed:    0.6s finished\n",
      "[Parallel(n_jobs=4)]: Using backend ThreadingBackend with 4 concurrent workers.\n",
      "[Parallel(n_jobs=4)]: Done  42 tasks      | elapsed:    0.0s\n",
      "[Parallel(n_jobs=4)]: Done 192 tasks      | elapsed:    0.1s\n",
      "[Parallel(n_jobs=4)]: Done 442 tasks      | elapsed:    0.1s\n",
      "[Parallel(n_jobs=4)]: Done 792 tasks      | elapsed:    0.3s\n",
      "[Parallel(n_jobs=4)]: Done 1242 tasks      | elapsed:    0.4s\n",
      "[Parallel(n_jobs=4)]: Done 1750 out of 1750 | elapsed:    0.6s finished\n"
     ]
    },
    {
     "name": "stdout",
     "output_type": "stream",
     "text": [
      "Fold 2 OOB Score: 0.844319775596073\n",
      "\n",
      "Fold 3\n",
      "\n"
     ]
    },
    {
     "name": "stderr",
     "output_type": "stream",
     "text": [
      "[Parallel(n_jobs=-1)]: Using backend ThreadingBackend with 4 concurrent workers.\n",
      "[Parallel(n_jobs=-1)]: Done  42 tasks      | elapsed:    0.1s\n",
      "[Parallel(n_jobs=-1)]: Done 192 tasks      | elapsed:    0.4s\n",
      "[Parallel(n_jobs=-1)]: Done 442 tasks      | elapsed:    0.9s\n",
      "[Parallel(n_jobs=-1)]: Done 792 tasks      | elapsed:    1.6s\n",
      "[Parallel(n_jobs=-1)]: Done 1242 tasks      | elapsed:    2.5s\n",
      "[Parallel(n_jobs=-1)]: Done 1750 out of 1750 | elapsed:    3.6s finished\n",
      "[Parallel(n_jobs=4)]: Using backend ThreadingBackend with 4 concurrent workers.\n",
      "[Parallel(n_jobs=4)]: Done  42 tasks      | elapsed:    0.0s\n",
      "[Parallel(n_jobs=4)]: Done 192 tasks      | elapsed:    0.1s\n",
      "[Parallel(n_jobs=4)]: Done 442 tasks      | elapsed:    0.1s\n",
      "[Parallel(n_jobs=4)]: Done 792 tasks      | elapsed:    0.3s\n",
      "[Parallel(n_jobs=4)]: Done 1242 tasks      | elapsed:    0.5s\n",
      "[Parallel(n_jobs=4)]: Done 1750 out of 1750 | elapsed:    0.7s finished\n",
      "[Parallel(n_jobs=4)]: Using backend ThreadingBackend with 4 concurrent workers.\n",
      "[Parallel(n_jobs=4)]: Done  42 tasks      | elapsed:    0.0s\n",
      "[Parallel(n_jobs=4)]: Done 192 tasks      | elapsed:    0.1s\n",
      "[Parallel(n_jobs=4)]: Done 442 tasks      | elapsed:    0.1s\n",
      "[Parallel(n_jobs=4)]: Done 792 tasks      | elapsed:    0.2s\n",
      "[Parallel(n_jobs=4)]: Done 1242 tasks      | elapsed:    0.3s\n",
      "[Parallel(n_jobs=4)]: Done 1750 out of 1750 | elapsed:    0.5s finished\n",
      "[Parallel(n_jobs=4)]: Using backend ThreadingBackend with 4 concurrent workers.\n",
      "[Parallel(n_jobs=4)]: Done  42 tasks      | elapsed:    0.0s\n",
      "[Parallel(n_jobs=4)]: Done 192 tasks      | elapsed:    0.1s\n",
      "[Parallel(n_jobs=4)]: Done 442 tasks      | elapsed:    0.1s\n",
      "[Parallel(n_jobs=4)]: Done 792 tasks      | elapsed:    0.3s\n",
      "[Parallel(n_jobs=4)]: Done 1242 tasks      | elapsed:    0.4s\n",
      "[Parallel(n_jobs=4)]: Done 1750 out of 1750 | elapsed:    0.6s finished\n",
      "[Parallel(n_jobs=4)]: Using backend ThreadingBackend with 4 concurrent workers.\n",
      "[Parallel(n_jobs=4)]: Done  42 tasks      | elapsed:    0.0s\n",
      "[Parallel(n_jobs=4)]: Done 192 tasks      | elapsed:    0.1s\n",
      "[Parallel(n_jobs=4)]: Done 442 tasks      | elapsed:    0.1s\n",
      "[Parallel(n_jobs=4)]: Done 792 tasks      | elapsed:    0.3s\n",
      "[Parallel(n_jobs=4)]: Done 1242 tasks      | elapsed:    0.4s\n",
      "[Parallel(n_jobs=4)]: Done 1750 out of 1750 | elapsed:    0.6s finished\n"
     ]
    },
    {
     "name": "stdout",
     "output_type": "stream",
     "text": [
      "Fold 3 OOB Score: 0.8513323983169705\n",
      "\n",
      "Fold 4\n",
      "\n"
     ]
    },
    {
     "name": "stderr",
     "output_type": "stream",
     "text": [
      "[Parallel(n_jobs=-1)]: Using backend ThreadingBackend with 4 concurrent workers.\n",
      "[Parallel(n_jobs=-1)]: Done  42 tasks      | elapsed:    0.1s\n",
      "[Parallel(n_jobs=-1)]: Done 192 tasks      | elapsed:    0.4s\n",
      "[Parallel(n_jobs=-1)]: Done 442 tasks      | elapsed:    0.9s\n",
      "[Parallel(n_jobs=-1)]: Done 792 tasks      | elapsed:    1.7s\n",
      "[Parallel(n_jobs=-1)]: Done 1242 tasks      | elapsed:    2.7s\n",
      "[Parallel(n_jobs=-1)]: Done 1750 out of 1750 | elapsed:    3.8s finished\n",
      "[Parallel(n_jobs=4)]: Using backend ThreadingBackend with 4 concurrent workers.\n",
      "[Parallel(n_jobs=4)]: Done  42 tasks      | elapsed:    0.0s\n",
      "[Parallel(n_jobs=4)]: Done 192 tasks      | elapsed:    0.1s\n",
      "[Parallel(n_jobs=4)]: Done 442 tasks      | elapsed:    0.2s\n",
      "[Parallel(n_jobs=4)]: Done 792 tasks      | elapsed:    0.3s\n",
      "[Parallel(n_jobs=4)]: Done 1242 tasks      | elapsed:    0.5s\n",
      "[Parallel(n_jobs=4)]: Done 1750 out of 1750 | elapsed:    0.7s finished\n",
      "[Parallel(n_jobs=4)]: Using backend ThreadingBackend with 4 concurrent workers.\n",
      "[Parallel(n_jobs=4)]: Done  42 tasks      | elapsed:    0.0s\n",
      "[Parallel(n_jobs=4)]: Done 192 tasks      | elapsed:    0.0s\n",
      "[Parallel(n_jobs=4)]: Done 442 tasks      | elapsed:    0.1s\n",
      "[Parallel(n_jobs=4)]: Done 792 tasks      | elapsed:    0.2s\n",
      "[Parallel(n_jobs=4)]: Done 1242 tasks      | elapsed:    0.4s\n",
      "[Parallel(n_jobs=4)]: Done 1750 out of 1750 | elapsed:    0.5s finished\n",
      "[Parallel(n_jobs=4)]: Using backend ThreadingBackend with 4 concurrent workers.\n",
      "[Parallel(n_jobs=4)]: Done  42 tasks      | elapsed:    0.0s\n",
      "[Parallel(n_jobs=4)]: Done 192 tasks      | elapsed:    0.1s\n",
      "[Parallel(n_jobs=4)]: Done 442 tasks      | elapsed:    0.2s\n",
      "[Parallel(n_jobs=4)]: Done 792 tasks      | elapsed:    0.3s\n",
      "[Parallel(n_jobs=4)]: Done 1242 tasks      | elapsed:    0.4s\n",
      "[Parallel(n_jobs=4)]: Done 1750 out of 1750 | elapsed:    0.6s finished\n",
      "[Parallel(n_jobs=4)]: Using backend ThreadingBackend with 4 concurrent workers.\n",
      "[Parallel(n_jobs=4)]: Done  42 tasks      | elapsed:    0.0s\n",
      "[Parallel(n_jobs=4)]: Done 192 tasks      | elapsed:    0.1s\n",
      "[Parallel(n_jobs=4)]: Done 442 tasks      | elapsed:    0.2s\n",
      "[Parallel(n_jobs=4)]: Done 792 tasks      | elapsed:    0.3s\n",
      "[Parallel(n_jobs=4)]: Done 1242 tasks      | elapsed:    0.4s\n",
      "[Parallel(n_jobs=4)]: Done 1750 out of 1750 | elapsed:    0.6s finished\n"
     ]
    },
    {
     "name": "stdout",
     "output_type": "stream",
     "text": [
      "Fold 4 OOB Score: 0.8359046283309958\n",
      "\n",
      "Fold 5\n",
      "\n"
     ]
    },
    {
     "name": "stderr",
     "output_type": "stream",
     "text": [
      "[Parallel(n_jobs=-1)]: Using backend ThreadingBackend with 4 concurrent workers.\n",
      "[Parallel(n_jobs=-1)]: Done  42 tasks      | elapsed:    0.1s\n",
      "[Parallel(n_jobs=-1)]: Done 192 tasks      | elapsed:    0.4s\n",
      "[Parallel(n_jobs=-1)]: Done 442 tasks      | elapsed:    0.9s\n",
      "[Parallel(n_jobs=-1)]: Done 792 tasks      | elapsed:    1.7s\n",
      "[Parallel(n_jobs=-1)]: Done 1242 tasks      | elapsed:    2.6s\n",
      "[Parallel(n_jobs=-1)]: Done 1750 out of 1750 | elapsed:    3.7s finished\n",
      "[Parallel(n_jobs=4)]: Using backend ThreadingBackend with 4 concurrent workers.\n",
      "[Parallel(n_jobs=4)]: Done  42 tasks      | elapsed:    0.0s\n",
      "[Parallel(n_jobs=4)]: Done 192 tasks      | elapsed:    0.1s\n",
      "[Parallel(n_jobs=4)]: Done 442 tasks      | elapsed:    0.2s\n",
      "[Parallel(n_jobs=4)]: Done 792 tasks      | elapsed:    0.3s\n",
      "[Parallel(n_jobs=4)]: Done 1242 tasks      | elapsed:    0.5s\n",
      "[Parallel(n_jobs=4)]: Done 1750 out of 1750 | elapsed:    0.7s finished\n",
      "[Parallel(n_jobs=4)]: Using backend ThreadingBackend with 4 concurrent workers.\n",
      "[Parallel(n_jobs=4)]: Done  42 tasks      | elapsed:    0.0s\n",
      "[Parallel(n_jobs=4)]: Done 192 tasks      | elapsed:    0.1s\n",
      "[Parallel(n_jobs=4)]: Done 442 tasks      | elapsed:    0.1s\n",
      "[Parallel(n_jobs=4)]: Done 792 tasks      | elapsed:    0.2s\n",
      "[Parallel(n_jobs=4)]: Done 1242 tasks      | elapsed:    0.4s\n",
      "[Parallel(n_jobs=4)]: Done 1750 out of 1750 | elapsed:    0.5s finished\n",
      "[Parallel(n_jobs=4)]: Using backend ThreadingBackend with 4 concurrent workers.\n",
      "[Parallel(n_jobs=4)]: Done  42 tasks      | elapsed:    0.0s\n",
      "[Parallel(n_jobs=4)]: Done 192 tasks      | elapsed:    0.1s\n",
      "[Parallel(n_jobs=4)]: Done 442 tasks      | elapsed:    0.1s\n",
      "[Parallel(n_jobs=4)]: Done 792 tasks      | elapsed:    0.3s\n",
      "[Parallel(n_jobs=4)]: Done 1242 tasks      | elapsed:    0.4s\n",
      "[Parallel(n_jobs=4)]: Done 1750 out of 1750 | elapsed:    0.6s finished\n",
      "[Parallel(n_jobs=4)]: Using backend ThreadingBackend with 4 concurrent workers.\n",
      "[Parallel(n_jobs=4)]: Done  42 tasks      | elapsed:    0.0s\n",
      "[Parallel(n_jobs=4)]: Done 192 tasks      | elapsed:    0.1s\n",
      "[Parallel(n_jobs=4)]: Done 442 tasks      | elapsed:    0.2s\n",
      "[Parallel(n_jobs=4)]: Done 792 tasks      | elapsed:    0.3s\n",
      "[Parallel(n_jobs=4)]: Done 1242 tasks      | elapsed:    0.5s\n",
      "[Parallel(n_jobs=4)]: Done 1750 out of 1750 | elapsed:    0.6s finished\n"
     ]
    },
    {
     "name": "stdout",
     "output_type": "stream",
     "text": [
      "Fold 5 OOB Score: 0.8260869565217391\n",
      "\n",
      "Average OOB Score: 0.8425961674834928\n"
     ]
    }
   ],
   "source": [
    "N = 5\n",
    "oob = 0\n",
    "probs = pd.DataFrame(np.zeros((len(X_test), N * 2)), columns=['Fold_{}_Prob_{}'.format(i, j) for i in range(1, N + 1) for j in range(2)])\n",
    "importances = pd.DataFrame(np.zeros((X_train.shape[1], N)), columns=['Fold_{}'.format(i) for i in range(1, N + 1)], index=df_all.columns)\n",
    "fprs, tprs, scores = [], [], []\n",
    "\n",
    "skf = StratifiedKFold(n_splits=N, random_state=N, shuffle=True)\n",
    "\n",
    "for fold, (trn_idx, val_idx) in enumerate(skf.split(X_train, y_train), 1):\n",
    "    print('Fold {}\\n'.format(fold))\n",
    "    \n",
    "    # Fitting the model\n",
    "    tuned_rndm_frst.fit(X_train[trn_idx], y_train[trn_idx])\n",
    "    \n",
    "    # Computing Train AUC score\n",
    "    trn_fpr, trn_tpr, trn_thresholds = roc_curve(y_train[trn_idx], tuned_rndm_frst.predict_proba(X_train[trn_idx])[:, 1])\n",
    "    trn_auc_score = auc(trn_fpr, trn_tpr)\n",
    "    # Computing Validation AUC score\n",
    "    val_fpr, val_tpr, val_thresholds = roc_curve(y_train[val_idx], tuned_rndm_frst.predict_proba(X_train[val_idx])[:, 1])\n",
    "    val_auc_score = auc(val_fpr, val_tpr)  \n",
    "      \n",
    "    scores.append((trn_auc_score, val_auc_score))\n",
    "    fprs.append(val_fpr)\n",
    "    tprs.append(val_tpr)\n",
    "    \n",
    "    # X_test probabilities\n",
    "    probs.loc[:, 'Fold_{}_Prob_0'.format(fold)] = tuned_rndm_frst.predict_proba(X_test)[:, 0]\n",
    "    probs.loc[:, 'Fold_{}_Prob_1'.format(fold)] = tuned_rndm_frst.predict_proba(X_test)[:, 1]\n",
    "    importances.iloc[:, fold - 1] = tuned_rndm_frst.feature_importances_\n",
    "        \n",
    "    oob += tuned_rndm_frst.oob_score_ / N\n",
    "    print('Fold {} OOB Score: {}\\n'.format(fold, tuned_rndm_frst.oob_score_))   \n",
    "    \n",
    "print('Average OOB Score: {}'.format(oob))"
   ]
  },
  {
   "cell_type": "markdown",
   "id": "acc09f88",
   "metadata": {
    "papermill": {
     "duration": 0.028758,
     "end_time": "2022-12-06T17:34:12.058086",
     "exception": false,
     "start_time": "2022-12-06T17:34:12.029328",
     "status": "completed"
    },
    "tags": []
   },
   "source": [
    "**Feature Importance**"
   ]
  },
  {
   "cell_type": "code",
   "execution_count": 43,
   "id": "4b648bf0",
   "metadata": {
    "execution": {
     "iopub.execute_input": "2022-12-06T17:34:12.116514Z",
     "iopub.status.busy": "2022-12-06T17:34:12.116072Z",
     "iopub.status.idle": "2022-12-06T17:34:12.651636Z",
     "shell.execute_reply": "2022-12-06T17:34:12.650405Z"
    },
    "papermill": {
     "duration": 0.56774,
     "end_time": "2022-12-06T17:34:12.654368",
     "exception": false,
     "start_time": "2022-12-06T17:34:12.086628",
     "status": "completed"
    },
    "tags": []
   },
   "outputs": [
    {
     "data": {
      "image/png": "[encoded data removed]",
      "text/plain": [
       "<Figure size 1080x1440 with 1 Axes>"
      ]
     },
     "metadata": {},
     "output_type": "display_data"
    }
   ],
   "source": [
    "importances['Mean_Importance'] = importances.mean(axis=1)\n",
    "importances.sort_values(by='Mean_Importance', inplace=True, ascending=False)\n",
    "\n",
    "plt.figure(figsize=(15, 20))\n",
    "\n",
    "sns.barplot(x='Mean_Importance', y=importances.index, data=importances,palette='viridis')\n",
    "\n",
    "plt.xlabel('')\n",
    "plt.tick_params(axis='x', labelsize=15)\n",
    "plt.tick_params(axis='y', labelsize=15)\n",
    "plt.title('Random Forest Classifier Mean Feature Importance Between Folds', size=15)\n",
    "\n",
    "plt.show()"
   ]
  },
  {
   "cell_type": "markdown",
   "id": "8f399bc0",
   "metadata": {
    "papermill": {
     "duration": 0.028987,
     "end_time": "2022-12-06T17:34:12.713671",
     "exception": false,
     "start_time": "2022-12-06T17:34:12.684684",
     "status": "completed"
    },
    "tags": []
   },
   "source": [
    "**ROC Curve**"
   ]
  },
  {
   "cell_type": "code",
   "execution_count": 44,
   "id": "228a4be1",
   "metadata": {
    "execution": {
     "iopub.execute_input": "2022-12-06T17:34:12.774545Z",
     "iopub.status.busy": "2022-12-06T17:34:12.774079Z",
     "iopub.status.idle": "2022-12-06T17:34:13.324276Z",
     "shell.execute_reply": "2022-12-06T17:34:13.323047Z"
    },
    "papermill": {
     "duration": 0.585192,
     "end_time": "2022-12-06T17:34:13.328252",
     "exception": false,
     "start_time": "2022-12-06T17:34:12.743060",
     "status": "completed"
    },
    "tags": []
   },
   "outputs": [
    {
     "data": {
      "image/png": "[encoded data removed]",
      "text/plain": [
       "<Figure size 1080x1080 with 1 Axes>"
      ]
     },
     "metadata": {},
     "output_type": "display_data"
    }
   ],
   "source": [
    "def plot_roc_curve(fprs, tprs):\n",
    "    \n",
    "    tprs_interp = []\n",
    "    aucs = []\n",
    "    mean_fpr = np.linspace(0, 1, 100)\n",
    "    f, ax = plt.subplots(figsize=(15, 15))\n",
    "    \n",
    "    # Plotting ROC for each fold and computing AUC scores\n",
    "    for i, (fpr, tpr) in enumerate(zip(fprs, tprs), 1):\n",
    "        tprs_interp.append(np.interp(mean_fpr, fpr, tpr))\n",
    "        tprs_interp[-1][0] = 0.0\n",
    "        roc_auc = auc(fpr, tpr)\n",
    "        aucs.append(roc_auc)\n",
    "        ax.plot(fpr, tpr, lw=1, alpha=0.3, label='ROC Fold {} (AUC = {:.3f})'.format(i, roc_auc))\n",
    "        \n",
    "    # Plotting ROC for random guessing\n",
    "    plt.plot([0, 1], [0, 1], linestyle='--', lw=2, color='r', alpha=0.8, label='Random Guessing')\n",
    "    \n",
    "    mean_tpr = np.mean(tprs_interp, axis=0)\n",
    "    mean_tpr[-1] = 1.0\n",
    "    mean_auc = auc(mean_fpr, mean_tpr)\n",
    "    std_auc = np.std(aucs)\n",
    "    \n",
    "    # Plotting the mean ROC\n",
    "    ax.plot(mean_fpr, mean_tpr, color='b', label='Mean ROC (AUC = {:.3f} $\\pm$ {:.3f})'.format(mean_auc, std_auc), lw=2, alpha=0.8)\n",
    "    \n",
    "    # Plotting the standard deviation around the mean ROC Curve\n",
    "    std_tpr = np.std(tprs_interp, axis=0)\n",
    "    tprs_upper = np.minimum(mean_tpr + std_tpr, 1)\n",
    "    tprs_lower = np.maximum(mean_tpr - std_tpr, 0)\n",
    "    ax.fill_between(mean_fpr, tprs_lower, tprs_upper, color='grey', alpha=.2, label='$\\pm$ 1 std. dev.')\n",
    "    \n",
    "    ax.set_xlabel('False Positive Rate', size=15, labelpad=20)\n",
    "    ax.set_ylabel('True Positive Rate', size=15, labelpad=20)\n",
    "    ax.tick_params(axis='x', labelsize=15)\n",
    "    ax.tick_params(axis='y', labelsize=15)\n",
    "    ax.set_xlim([-0.05, 1.05])\n",
    "    ax.set_ylim([-0.05, 1.05])\n",
    "\n",
    "    ax.set_title('ROC Curves of Folds', size=20, y=1.02)\n",
    "    ax.legend(loc='lower right', prop={'size': 13})\n",
    "    \n",
    "    plt.show()\n",
    "\n",
    "plot_roc_curve(fprs, tprs)"
   ]
  },
  {
   "cell_type": "markdown",
   "id": "c1f80716",
   "metadata": {
    "papermill": {
     "duration": 0.031625,
     "end_time": "2022-12-06T17:34:13.394312",
     "exception": false,
     "start_time": "2022-12-06T17:34:13.362687",
     "status": "completed"
    },
    "tags": []
   },
   "source": [
    "# Submission"
   ]
  },
  {
   "cell_type": "code",
   "execution_count": 45,
   "id": "f13bf8f4",
   "metadata": {
    "execution": {
     "iopub.execute_input": "2022-12-06T17:34:13.460993Z",
     "iopub.status.busy": "2022-12-06T17:34:13.460549Z",
     "iopub.status.idle": "2022-12-06T17:34:13.479406Z",
     "shell.execute_reply": "2022-12-06T17:34:13.478011Z"
    },
    "papermill": {
     "duration": 0.055492,
     "end_time": "2022-12-06T17:34:13.482313",
     "exception": false,
     "start_time": "2022-12-06T17:34:13.426821",
     "status": "completed"
    },
    "tags": []
   },
   "outputs": [],
   "source": [
    "class_survived = [col for col in probs.columns if col.endswith('Prob_1')]\n",
    "probs['1'] = probs[class_survived].sum(axis=1) / N\n",
    "probs['0'] = probs.drop(columns=class_survived).sum(axis=1) / N\n",
    "probs['pred'] = 0\n",
    "pos = probs[probs['1'] >= 0.5].index\n",
    "probs.loc[pos, 'pred'] = 1\n",
    "\n",
    "y_pred = probs['pred'].astype(int)\n",
    "\n",
    "submission_df = pd.DataFrame(columns=['PassengerId', 'Survived'])\n",
    "submission_df['PassengerId'] = df_test['PassengerId']\n",
    "submission_df['Survived'] = y_pred.values\n"
   ]
  },
  {
   "cell_type": "code",
   "execution_count": 46,
   "id": "07476649",
   "metadata": {
    "execution": {
     "iopub.execute_input": "2022-12-06T17:34:13.549332Z",
     "iopub.status.busy": "2022-12-06T17:34:13.548891Z",
     "iopub.status.idle": "2022-12-06T17:34:13.563359Z",
     "shell.execute_reply": "2022-12-06T17:34:13.562114Z"
    },
    "papermill": {
     "duration": 0.050746,
     "end_time": "2022-12-06T17:34:13.566132",
     "exception": false,
     "start_time": "2022-12-06T17:34:13.515386",
     "status": "completed"
    },
    "tags": []
   },
   "outputs": [
    {
     "data": {
      "text/html": [
       "<div>\n",
       "<style scoped>\n",
       "    .dataframe tbody tr th:only-of-type {\n",
       "        vertical-align: middle;\n",
       "    }\n",
       "\n",
       "    .dataframe tbody tr th {\n",
       "        vertical-align: top;\n",
       "    }\n",
       "\n",
       "    .dataframe thead th {\n",
       "        text-align: right;\n",
       "    }\n",
       "</style>\n",
       "<table border=\"1\" class=\"dataframe\">\n",
       "  <thead>\n",
       "    <tr style=\"text-align: right;\">\n",
       "      <th></th>\n",
       "      <th>PassengerId</th>\n",
       "      <th>Survived</th>\n",
       "    </tr>\n",
       "  </thead>\n",
       "  <tbody>\n",
       "    <tr>\n",
       "      <th>891</th>\n",
       "      <td>892</td>\n",
       "      <td>0</td>\n",
       "    </tr>\n",
       "    <tr>\n",
       "      <th>892</th>\n",
       "      <td>893</td>\n",
       "      <td>1</td>\n",
       "    </tr>\n",
       "    <tr>\n",
       "      <th>893</th>\n",
       "      <td>894</td>\n",
       "      <td>0</td>\n",
       "    </tr>\n",
       "    <tr>\n",
       "      <th>894</th>\n",
       "      <td>895</td>\n",
       "      <td>0</td>\n",
       "    </tr>\n",
       "    <tr>\n",
       "      <th>895</th>\n",
       "      <td>896</td>\n",
       "      <td>1</td>\n",
       "    </tr>\n",
       "    <tr>\n",
       "      <th>896</th>\n",
       "      <td>897</td>\n",
       "      <td>0</td>\n",
       "    </tr>\n",
       "    <tr>\n",
       "      <th>897</th>\n",
       "      <td>898</td>\n",
       "      <td>1</td>\n",
       "    </tr>\n",
       "    <tr>\n",
       "      <th>898</th>\n",
       "      <td>899</td>\n",
       "      <td>0</td>\n",
       "    </tr>\n",
       "    <tr>\n",
       "      <th>899</th>\n",
       "      <td>900</td>\n",
       "      <td>1</td>\n",
       "    </tr>\n",
       "    <tr>\n",
       "      <th>900</th>\n",
       "      <td>901</td>\n",
       "      <td>0</td>\n",
       "    </tr>\n",
       "  </tbody>\n",
       "</table>\n",
       "</div>"
      ],
      "text/plain": [
       "     PassengerId  Survived\n",
       "891          892         0\n",
       "892          893         1\n",
       "893          894         0\n",
       "894          895         0\n",
       "895          896         1\n",
       "896          897         0\n",
       "897          898         1\n",
       "898          899         0\n",
       "899          900         1\n",
       "900          901         0"
      ]
     },
     "metadata": {},
     "output_type": "display_data"
    }
   ],
   "source": [
    "submission_df.to_csv('submission.csv',index=False)\n",
    "display(submission_df.head(10))"
   ]
  }
 ],
 "metadata": {
  "kernelspec": {
   "display_name": "Python 3",
   "language": "python",
   "name": "python3"
  },
  "language_info": {
   "codemirror_mode": {
    "name": "ipython",
    "version": 3
   },
   "file_extension": ".py",
   "mimetype": "text/x-python",
   "name": "python",
   "nbconvert_exporter": "python",
   "pygments_lexer": "ipython3",
   "version": "3.7.12"
  },
  "papermill": {
   "default_parameters": {},
   "duration": 62.528147,
   "end_time": "2022-12-06T17:34:14.522439",
   "environment_variables": {},
   "exception": null,
   "input_path": "__notebook__.ipynb",
   "output_path": "__notebook__.ipynb",
   "parameters": {},
   "start_time": "2022-12-06T17:33:11.994292",
   "version": "2.3.4"
  }
 },
 "nbformat": 4,
 "nbformat_minor": 5
}
