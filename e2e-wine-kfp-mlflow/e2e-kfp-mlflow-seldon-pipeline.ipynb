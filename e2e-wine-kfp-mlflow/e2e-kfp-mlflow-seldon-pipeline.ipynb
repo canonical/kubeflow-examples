{
 "cells": [
  {
   "cell_type": "markdown",
   "id": "e89bf654",
   "metadata": {},
   "source": [
    "# E2E scenario for Wine dataset on KFP\n",
    "\n",
    "Steps:\n",
    "- download\n",
    "- clean/preprocess\n",
    "- train/hyperparam tuning with results in mlflow+minio\n",
    "- seldon serving\n",
    "- example inference\n",
    "\n",
    "Artifacts:\n",
    "- raw data, preprocessed\n",
    "- model per experiment\n",
    "- experiment metadata and results"
   ]
  },
  {
   "cell_type": "code",
   "execution_count": 1,
   "id": "6e34b594",
   "metadata": {
    "tags": []
   },
   "outputs": [],
   "source": [
    "!pip install kfp==1.8.22 mlflow==2.1.1 boto3 awscli pyarrow scikit-learn==1.2.2 \"numpy<1.20\" -q"
   ]
  },
  {
   "cell_type": "code",
   "execution_count": 2,
   "id": "a0847708",
   "metadata": {},
   "outputs": [],
   "source": [
    "import kfp\n",
    "from kfp import dsl"
   ]
  },
  {
   "cell_type": "markdown",
   "id": "146c8f11",
   "metadata": {},
   "source": [
    "## Local Development\n",
    "\n",
    "For most cases not running below lines or changing their values is needed!"
   ]
  },
  {
   "cell_type": "code",
   "execution_count": 3,
   "id": "7e09bce8",
   "metadata": {},
   "outputs": [
    {
     "name": "stdout",
     "output_type": "stream",
     "text": [
      "2023-07-03 12:06:17 mlflow\n"
     ]
    }
   ],
   "source": [
    "!aws --endpoint-url $MLFLOW_S3_ENDPOINT_URL s3 ls"
   ]
  },
  {
   "cell_type": "markdown",
   "id": "85e6967b",
   "metadata": {},
   "source": [
    "## Download Data"
   ]
  },
  {
   "cell_type": "code",
   "execution_count": 4,
   "id": "973a0ef3",
   "metadata": {},
   "outputs": [
    {
     "name": "stdout",
     "output_type": "stream",
     "text": [
      "--2023-07-06 08:50:11--  https://raw.githubusercontent.com/canonical/kubeflow-examples/main/e2e-wine-kfp-mlflow/winequality-red.csv\n",
      "Resolving raw.githubusercontent.com (raw.githubusercontent.com)... 185.199.108.133, 185.199.109.133, 185.199.111.133, ...\n",
      "Connecting to raw.githubusercontent.com (raw.githubusercontent.com)|185.199.108.133|:443... connected.\n",
      "HTTP request sent, awaiting response... 200 OK\n",
      "Length: 84199 (82K) [text/plain]\n",
      "Saving to: ‘winequality-red.csv.1’\n",
      "\n",
      "winequality-red.csv 100%[===================>]  82.23K  --.-KB/s    in 0.001s  \n",
      "\n",
      "2023-07-06 08:50:11 (64.2 MB/s) - ‘winequality-red.csv.1’ saved [84199/84199]\n",
      "\n"
     ]
    }
   ],
   "source": [
    "#In airgapped environment upload data manually\n",
    "!wget https://raw.githubusercontent.com/canonical/kubeflow-examples/main/e2e-wine-kfp-mlflow/winequality-red.csv"
   ]
  },
  {
   "cell_type": "code",
   "execution_count": 5,
   "id": "ebc1a73b",
   "metadata": {},
   "outputs": [],
   "source": [
    "web_downloader_op = kfp.components.load_component_from_url(\n",
    "    \"https://raw.githubusercontent.com/kubeflow/pipelines/master/components/contrib/web/Download/component.yaml\"\n",
    ")"
   ]
  },
  {
   "cell_type": "markdown",
   "id": "eee78a75",
   "metadata": {},
   "source": [
    "## Preprocess Data"
   ]
  },
  {
   "cell_type": "code",
   "execution_count": 6,
   "id": "f1053d49",
   "metadata": {},
   "outputs": [],
   "source": [
    "def preprocess(\n",
    "    file_path: kfp.components.InputPath(\"CSV\"),\n",
    "    output_file: kfp.components.OutputPath(\"parquet\")\n",
    "):\n",
    "    import pandas as pd\n",
    "    df = pd.read_csv(file_path, header=0, sep=\";\")\n",
    "    df.columns = [c.lower().replace(\" \", \"_\") for c in df.columns]\n",
    "    df.to_parquet(output_file)"
   ]
  },
  {
   "cell_type": "code",
   "execution_count": 7,
   "id": "9ae06565",
   "metadata": {},
   "outputs": [],
   "source": [
    "#local development\n",
    "preprocess(\"winequality-red.csv\", \"preprocessed.parquet\")"
   ]
  },
  {
   "cell_type": "code",
   "execution_count": 8,
   "id": "9d06a68e",
   "metadata": {},
   "outputs": [],
   "source": [
    "#workflow component\n",
    "preprocess_op = kfp.components.create_component_from_func(\n",
    "    func=preprocess,\n",
    "    output_component_file=\"preprocess-component.yaml\", # This is optional. It saves the component spec for future use.\n",
    "    base_image=\"python:3.9.15\",\n",
    "    packages_to_install=[\"pandas\", \"pyarrow\"],\n",
    ")"
   ]
  },
  {
   "cell_type": "markdown",
   "id": "9e2b5fed",
   "metadata": {},
   "source": [
    "## Train Model"
   ]
  },
  {
   "cell_type": "code",
   "execution_count": 9,
   "id": "6c43576b",
   "metadata": {},
   "outputs": [],
   "source": [
    "def training(file_path: kfp.components.InputPath(\"parquet\")) -> str:\n",
    "    import mlflow\n",
    "    import pandas as pd\n",
    "    from sklearn.linear_model import ElasticNet\n",
    "    from sklearn.metrics import classification_report\n",
    "    from sklearn.model_selection import train_test_split\n",
    "    \n",
    "    df = pd.read_parquet(file_path)\n",
    "    \n",
    "    target_column=\"quality\"\n",
    "    train_x, test_x, train_y, test_y = train_test_split(\n",
    "        df.drop(columns=[target_column]),\n",
    "        df[target_column], test_size=.25,\n",
    "        random_state=1337, stratify=df[target_column]\n",
    "    )\n",
    "\n",
    "    mlflow.sklearn.autolog()\n",
    "    with mlflow.start_run(run_name=\"elastic_net_models\") as run:\n",
    "        alpha =  0.5\n",
    "        l1_ratio =  0.5\n",
    "        lr = ElasticNet(alpha=alpha, l1_ratio=l1_ratio, random_state=42)\n",
    "        lr.fit(train_x, train_y)\n",
    "        model_dir = \"model\"\n",
    "        env = {\n",
    "            \"name\": \"mlflow-env\",\n",
    "            \"channels\": [\"defaults\"],\n",
    "            \"dependencies\": [\n",
    "                \"python=3.8.10\",\n",
    "                \"pip\"],\n",
    "            \n",
    "            \"pip\":[\n",
    "                \"mlflow==2.1.1\",\n",
    "                \"scikit-learn==0.23.2\"\n",
    "            ]\n",
    "        }\n",
    "        mlflow.sklearn.log_model(lr, model_dir, registered_model_name=\"wine-elasticnet\", conda_env=env)\n",
    "        return f\"{run.info.artifact_uri}/{model_dir}\""
   ]
  },
  {
   "cell_type": "code",
   "execution_count": 10,
   "id": "709a10b5",
   "metadata": {},
   "outputs": [
    {
     "name": "stderr",
     "output_type": "stream",
     "text": [
      "2023/07/06 08:50:14 WARNING mlflow.utils.autologging_utils: You are using an unsupported version of sklearn. If you encounter errors during autologging, try upgrading / downgrading sklearn to a supported version, or try upgrading MLflow.\n",
      "2023/07/06 08:50:23 WARNING mlflow.utils.environment: Encountered an unexpected error while inferring pip requirements (model URI: /tmp/tmp2doixtma/model/model.pkl, flavor: sklearn), fall back to return ['scikit-learn==1.2.2', 'cloudpickle==2.2.1']. Set logging level to DEBUG to see the full traceback.\n",
      "2023/07/06 08:50:23 WARNING mlflow.utils.autologging_utils: MLflow autologging encountered a warning: \"/opt/conda/lib/python3.8/site-packages/_distutils_hack/__init__.py:33: UserWarning: Setuptools is replacing distutils.\"\n",
      "Registered model 'wine-elasticnet' already exists. Creating a new version of this model...\n",
      "2023/07/06 08:50:24 INFO mlflow.tracking._model_registry.client: Waiting up to 300 seconds for model version to finish creation.                     Model name: wine-elasticnet, version 13\n",
      "Created version '13' of model 'wine-elasticnet'.\n"
     ]
    },
    {
     "data": {
      "text/plain": [
       "'s3://mlflow/0/1e627fdb29e045d4bcfea4d0413d007a/artifacts/model'"
      ]
     },
     "execution_count": 10,
     "metadata": {},
     "output_type": "execute_result"
    }
   ],
   "source": [
    "training(\"preprocessed.parquet\")"
   ]
  },
  {
   "cell_type": "code",
   "execution_count": 11,
   "id": "fb9e3bce",
   "metadata": {},
   "outputs": [],
   "source": [
    "#workflow component\n",
    "training_op = kfp.components.create_component_from_func(\n",
    "    func=training,\n",
    "    output_component_file=\"train-component.yaml\", # This is optional. It saves the component spec for future use.\n",
    "    base_image=\"python:3.8.10\",\n",
    "    packages_to_install=[\"pandas\", \"pyarrow\", \"scikit-learn==1.2.2\", \"mlflow==2.1.1\", \"boto3\", \"numpy<1.20\"],\n",
    ")"
   ]
  },
  {
   "cell_type": "markdown",
   "id": "c10c6991",
   "metadata": {
    "tags": []
   },
   "source": [
    "## Deploy Model\n",
    "\n",
    "Known issues:\n",
    "- https://githubhot.com/repo/SeldonIO/seldon-core/issues/4017 "
   ]
  },
  {
   "cell_type": "code",
   "execution_count": 12,
   "id": "d266c586",
   "metadata": {},
   "outputs": [],
   "source": [
    "def deploy(model_uri: str = \"default_model_uri\"):\n",
    "    import subprocess\n",
    "    \n",
    "    with open(\"/tmp/manifest.yaml\", \"w\") as f:\n",
    "        manifest = \"\"\"\n",
    "apiVersion: machinelearning.seldon.io/v1\n",
    "kind: SeldonDeployment\n",
    "metadata:\n",
    "  name: mlflow\n",
    "spec:\n",
    "  name: wines\n",
    "  predictors:\n",
    "  - componentSpecs:\n",
    "    - spec:\n",
    "        containers:\n",
    "        - name: classifier\n",
    "          image: seldonio/mlflowserver:1.16.0\n",
    "          imagePullPolicy: Always\n",
    "          livenessProbe:\n",
    "            initialDelaySeconds: 80\n",
    "            failureThreshold: 200\n",
    "            periodSeconds: 5\n",
    "            successThreshold: 1\n",
    "            httpGet:\n",
    "              path: /health/ping\n",
    "              port: http\n",
    "              scheme: HTTP\n",
    "          readinessProbe:\n",
    "            initialDelaySeconds: 80\n",
    "            failureThreshold: 200\n",
    "            periodSeconds: 5\n",
    "            successThreshold: 1\n",
    "            httpGet:\n",
    "              path: /health/ping\n",
    "              port: http\n",
    "              scheme: HTTP\n",
    "    graph:\n",
    "      children: []\n",
    "      implementation: MLFLOW_SERVER\n",
    "      modelUri: \"\"\"+model_uri+\"\"\"\n",
    "      envSecretRefName: seldon-init-container-secret\n",
    "      name: classifier\n",
    "    name: wine-super-model\n",
    "    replicas: 1\n",
    "        \"\"\"\n",
    "        print(manifest)\n",
    "        f.write(manifest)\n",
    "    \n",
    "    result = subprocess.call([\"kubectl\", \"apply\", \"-f\", \"/tmp/manifest.yaml\", \"-n\", \"admin\"])\n",
    "    assert result == 0"
   ]
  },
  {
   "cell_type": "code",
   "execution_count": 13,
   "id": "43fd4a17",
   "metadata": {},
   "outputs": [],
   "source": [
    "deploy_op = kfp.components.create_component_from_func(\n",
    "    func=deploy,\n",
    "    output_component_file=\"deploy-component.yaml\", # This is optional. It saves the component spec for future use.\n",
    "    base_image=\"bponieckiklotz/seldon-deploy:0.1\",\n",
    "    packages_to_install=[],\n",
    ")"
   ]
  },
  {
   "cell_type": "markdown",
   "id": "ce03a720",
   "metadata": {
    "tags": []
   },
   "source": [
    "## Create Pipeline"
   ]
  },
  {
   "cell_type": "code",
   "execution_count": 14,
   "id": "8dec0d0d",
   "metadata": {},
   "outputs": [],
   "source": [
    "from kubernetes.client.models import V1EnvVar\n",
    "from kfp.onprem import use_k8s_secret\n",
    "\n",
    "@dsl.pipeline(\n",
    "    name=\"e2e_wine_pipeline\",\n",
    "    description=\"WINE pipeline\",\n",
    ")\n",
    "def wine_pipeline(url):\n",
    "    web_downloader_task = web_downloader_op(url=url)\n",
    "    preprocess_task = preprocess_op(file=web_downloader_task.outputs[\"data\"])\n",
    "    \n",
    "    train_task = (\n",
    "        training_op(file=preprocess_task.outputs[\"output\"])\n",
    "        .add_env_variable(V1EnvVar(name=\"MLFLOW_TRACKING_URI\", value=\"http://mlflow-server.kubeflow.svc.cluster.local:5000\"))\n",
    "        .add_env_variable(V1EnvVar(name=\"MLFLOW_S3_ENDPOINT_URL\", value=\"http://minio.kubeflow.svc.cluster.local:9000\"))\n",
    "        .add_env_variable(V1EnvVar(name=\"PROTOCOL_BUFFERS_PYTHON_IMPLEMENTATION\", value=\"python\")) \n",
    "        #https://kubeflow-pipelines.readthedocs.io/en/stable/source/kfp.extensions.html#kfp.onprem.use_k8s_secret\n",
    "        .apply(\n",
    "            use_k8s_secret(\n",
    "                secret_name=\"mlpipeline-minio-artifact\",\n",
    "                k8s_secret_key_to_env={\n",
    "                    \"accesskey\": \"AWS_ACCESS_KEY_ID\",\n",
    "                    \"secretkey\": \"AWS_SECRET_ACCESS_KEY\",\n",
    "                },\n",
    "            )\n",
    "        )\n",
    "    )\n",
    "    deploy_task = deploy_op(model_uri=train_task.output)"
   ]
  },
  {
   "cell_type": "code",
   "execution_count": 15,
   "id": "681a4b5e",
   "metadata": {},
   "outputs": [],
   "source": [
    "client = kfp.Client()"
   ]
  },
  {
   "cell_type": "code",
   "execution_count": 16,
   "id": "03bb3c27",
   "metadata": {},
   "outputs": [
    {
     "data": {
      "text/html": [
       "<a href=\"/pipeline/#/experiments/details/8b08b05d-4363-4d90-8768-c13b4ce3bbe1\" target=\"_blank\" >Experiment details</a>."
      ],
      "text/plain": [
       "<IPython.core.display.HTML object>"
      ]
     },
     "metadata": {},
     "output_type": "display_data"
    },
    {
     "data": {
      "text/html": [
       "<a href=\"/pipeline/#/runs/details/659cd89c-5e18-4b0e-87ae-bf0d642cdf63\" target=\"_blank\" >Run details</a>."
      ],
      "text/plain": [
       "<IPython.core.display.HTML object>"
      ]
     },
     "metadata": {},
     "output_type": "display_data"
    },
    {
     "data": {
      "text/plain": [
       "RunPipelineResult(run_id=659cd89c-5e18-4b0e-87ae-bf0d642cdf63)"
      ]
     },
     "execution_count": 16,
     "metadata": {},
     "output_type": "execute_result"
    }
   ],
   "source": [
    "client.create_run_from_pipeline_func(\n",
    "    wine_pipeline,\n",
    "    arguments={\n",
    "        \"url\": \"https://raw.githubusercontent.com/canonical/kubeflow-examples/main/e2e-wine-kfp-mlflow/winequality-red.csv\",\n",
    "    },\n",
    ")"
   ]
  },
  {
   "cell_type": "code",
   "execution_count": 17,
   "id": "7605db80",
   "metadata": {},
   "outputs": [],
   "source": [
    "kfp.compiler.Compiler().compile(wine_pipeline, \"wine-pipeline.yaml\")"
   ]
  },
  {
   "cell_type": "code",
   "execution_count": 18,
   "id": "d2e52bba",
   "metadata": {},
   "outputs": [],
   "source": [
    "!pip freeze > nb-requirements.txt"
   ]
  },
  {
   "cell_type": "code",
   "execution_count": 19,
   "id": "67675b3d-6c7a-4595-9e8f-d44639b35a85",
   "metadata": {},
   "outputs": [
    {
     "data": {
      "text/plain": [
       "environ{'SHELL': '/bin/bash',\n",
       "        'KUBERNETES_SERVICE_PORT_HTTPS': '443',\n",
       "        'UMOYA_PORT_80_TCP': 'tcp://10.152.183.59:80',\n",
       "        'ML_PIPELINE_VISUALIZATIONSERVER_PORT_8888_TCP_PROTO': 'tcp',\n",
       "        'KUBERNETES_SERVICE_PORT': '443',\n",
       "        'UMHLANGA_SERVICE_HOST': '10.152.183.60',\n",
       "        'UMOYA_PORT_80_TCP_PORT': '80',\n",
       "        'HOSTNAME': 'umhlanga-0',\n",
       "        'LANGUAGE': 'en_US.UTF-8',\n",
       "        'UMHLANGA_SERVICE_PORT': '80',\n",
       "        'ML_PIPELINE_VISUALIZATIONSERVER_SERVICE_PORT': '8888',\n",
       "        'KF_PIPELINES_SA_TOKEN_PATH': '/var/run/secrets/kubeflow/pipelines/token',\n",
       "        'UMHLANGA_PORT_80_TCP_PROTO': 'tcp',\n",
       "        'NB_UID': '1000',\n",
       "        'ML_PIPELINE_UI_ARTIFACT_PORT_80_TCP': 'tcp://10.152.183.52:80',\n",
       "        'PWD': '/home/jovyan',\n",
       "        'NB_PREFIX': '/notebook/test/umhlanga',\n",
       "        'MLFLOW_S3_ENDPOINT_URL': 'http://mlflow-minio.kubeflow:9000',\n",
       "        'UMHLANGA_PORT_80_TCP_ADDR': '10.152.183.60',\n",
       "        'UMHLANGA_SERVICE_PORT_HTTP_UMHLANGA': '80',\n",
       "        'HOME': '/home/jovyan',\n",
       "        'LANG': 'en_US.UTF-8',\n",
       "        'MLFLOW_TRACKING_URI': 'http://mlflow-server.kubeflow.svc.cluster.local:5000',\n",
       "        'KUBERNETES_PORT_443_TCP': 'tcp://10.152.183.1:443',\n",
       "        'ML_PIPELINE_UI_ARTIFACT_PORT_80_TCP_ADDR': '10.152.183.52',\n",
       "        'AWS_SECRET_ACCESS_KEY': 'N9M7TCMFQ0ECJA0NMCK1D0RI7KC10M',\n",
       "        'ML_PIPELINE_VISUALIZATIONSERVER_PORT_8888_TCP_PORT': '8888',\n",
       "        'ML_PIPELINE_VISUALIZATIONSERVER_PORT_8888_TCP': 'tcp://10.152.183.147:8888',\n",
       "        'ML_PIPELINE_VISUALIZATIONSERVER_SERVICE_PORT_HTTP': '8888',\n",
       "        'UMOYA_SERVICE_HOST': '10.152.183.59',\n",
       "        'UMOYA_PORT': 'tcp://10.152.183.59:80',\n",
       "        'UMOYA_PORT_80_TCP_ADDR': '10.152.183.59',\n",
       "        'UMHLANGA_PORT_80_TCP_PORT': '80',\n",
       "        'SHLVL': '0',\n",
       "        'MINIO_ENDPOINT_URL': 'http://mlflow-minio.kubeflow:9000',\n",
       "        'CONDA_DIR': '/opt/conda',\n",
       "        'AWS_ACCESS_KEY_ID': 'minio',\n",
       "        'KUBERNETES_PORT_443_TCP_PROTO': 'tcp',\n",
       "        'ML_PIPELINE_UI_ARTIFACT_PORT_80_TCP_PROTO': 'tcp',\n",
       "        'UMHLANGA_PORT': 'tcp://10.152.183.60:80',\n",
       "        'ML_PIPELINE_VISUALIZATIONSERVER_PORT_8888_TCP_ADDR': '10.152.183.147',\n",
       "        'KUBERNETES_PORT_443_TCP_ADDR': '10.152.183.1',\n",
       "        'ML_PIPELINE_VISUALIZATIONSERVER_PORT': 'tcp://10.152.183.147:8888',\n",
       "        'ML_PIPELINE_UI_ARTIFACT_SERVICE_HOST': '10.152.183.52',\n",
       "        'ML_PIPELINE_UI_ARTIFACT_PORT_80_TCP_PORT': '80',\n",
       "        'ML_PIPELINE_UI_ARTIFACT_SERVICE_PORT_HTTP': '80',\n",
       "        'UMOYA_SERVICE_PORT_HTTP_UMOYA': '80',\n",
       "        'ML_PIPELINE_VISUALIZATIONSERVER_SERVICE_HOST': '10.152.183.147',\n",
       "        'ML_PIPELINE_UI_ARTIFACT_PORT': 'tcp://10.152.183.52:80',\n",
       "        'NB_USER': 'jovyan',\n",
       "        'KUBERNETES_SERVICE_HOST': '10.152.183.1',\n",
       "        'LC_ALL': 'en_US.UTF-8',\n",
       "        'KUBERNETES_PORT': 'tcp://10.152.183.1:443',\n",
       "        'KUBERNETES_PORT_443_TCP_PORT': '443',\n",
       "        'CWD': '/home/jovyan',\n",
       "        'PATH': '/opt/conda/bin:/usr/local/sbin:/usr/local/bin:/usr/sbin:/usr/bin:/sbin:/bin',\n",
       "        'UMOYA_SERVICE_PORT': '80',\n",
       "        'UMHLANGA_PORT_80_TCP': 'tcp://10.152.183.60:80',\n",
       "        'ML_PIPELINE_UI_ARTIFACT_SERVICE_PORT': '80',\n",
       "        'UMOYA_PORT_80_TCP_PROTO': 'tcp',\n",
       "        'OLDPWD': '/run/s6/services/jupyterlab',\n",
       "        'GIT_PYTHON_REFRESH': 'quiet',\n",
       "        'PYDEVD_USE_FRAME_EVAL': 'NO',\n",
       "        'JPY_SESSION_NAME': 'kubeflow-examples/e2e-wine-kfp-mlflow/f38ad98d-bde1-4502-8dc1-a4ec313183f4',\n",
       "        'JPY_PARENT_PID': '189',\n",
       "        'TERM': 'xterm-color',\n",
       "        'CLICOLOR': '1',\n",
       "        'PAGER': 'cat',\n",
       "        'GIT_PAGER': 'cat',\n",
       "        'MPLBACKEND': 'module://matplotlib_inline.backend_inline',\n",
       "        'KMP_DUPLICATE_LIB_OK': 'True',\n",
       "        'KMP_INIT_AT_FORK': 'FALSE'}"
      ]
     },
     "execution_count": 19,
     "metadata": {},
     "output_type": "execute_result"
    }
   ],
   "source": [
    "import os\n",
    "os.environ"
   ]
  },
  {
   "cell_type": "code",
   "execution_count": null,
   "id": "bdaadc92-ae10-4999-93e8-7e0c3f621ff4",
   "metadata": {},
   "outputs": [],
   "source": []
  }
 ],
 "metadata": {
  "kernelspec": {
   "display_name": "Python 3 (ipykernel)",
   "language": "python",
   "name": "python3"
  },
  "kubeflow_notebook": {
   "autosnapshot": false,
   "docker_image": "afrikha/uat2:latest",
   "experiment": {
    "id": "",
    "name": ""
   },
   "experiment_name": "",
   "katib_metadata": {
    "algorithm": {
     "algorithmName": "grid"
    },
    "maxFailedTrialCount": 3,
    "maxTrialCount": 12,
    "objective": {
     "objectiveMetricName": "",
     "type": "minimize"
    },
    "parallelTrialCount": 3,
    "parameters": []
   },
   "katib_run": false,
   "pipeline_description": "",
   "pipeline_name": "",
   "snapshot_volumes": false,
   "steps_defaults": [
    "label:access-minio:true",
    "label:access-ml-pipeline:true",
    "label:access-mlflow:true"
   ],
   "volume_access_mode": "rwm",
   "volumes": []
  },
  "language_info": {
   "codemirror_mode": {
    "name": "ipython",
    "version": 3
   },
   "file_extension": ".py",
   "mimetype": "text/x-python",
   "name": "python",
   "nbconvert_exporter": "python",
   "pygments_lexer": "ipython3",
   "version": "3.8.10"
  }
 },
 "nbformat": 4,
 "nbformat_minor": 5
}
