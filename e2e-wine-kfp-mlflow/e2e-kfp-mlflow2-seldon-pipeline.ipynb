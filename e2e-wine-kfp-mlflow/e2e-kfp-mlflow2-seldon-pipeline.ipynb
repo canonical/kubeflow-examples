{
 "cells": [
  {
   "cell_type": "markdown",
   "id": "e89bf654",
   "metadata": {},
   "source": [
    "# E2E scenario for Wine dataset as KFP\n",
    "\n",
    "Steps:\n",
    "- download\n",
    "- clean/preprocess\n",
    "- train/hyperparam tunning with results in mlflow+minio\n",
    "- seldon serving\n",
    "- example inference\n",
    "\n",
    "Artefacts:\n",
    "- raw data, preprocessed\n",
    "- model per experiment\n",
    "- experiment metadata and results"
   ]
  },
  {
   "cell_type": "code",
   "execution_count": 1,
   "id": "6e34b594",
   "metadata": {
    "tags": []
   },
   "outputs": [
    {
     "name": "stdout",
     "output_type": "stream",
     "text": [
      "Requirement already satisfied: mlflow in /opt/conda/lib/python3.8/site-packages (1.13.1)\n",
      "Requirement already satisfied: boto3 in /opt/conda/lib/python3.8/site-packages (1.28.82)\n",
      "Requirement already satisfied: awscli in /opt/conda/lib/python3.8/site-packages (1.29.82)\n",
      "Requirement already satisfied: pyarrow in /opt/conda/lib/python3.8/site-packages (14.0.1)\n",
      "Requirement already satisfied: scikit-learn==1.2.2 in /opt/conda/lib/python3.8/site-packages (1.2.2)\n",
      "Requirement already satisfied: numpy<1.20 in /opt/conda/lib/python3.8/site-packages (1.19.5)\n",
      "Requirement already satisfied: scipy>=1.3.2 in /opt/conda/lib/python3.8/site-packages (from scikit-learn==1.2.2) (1.7.0)\n",
      "Requirement already satisfied: joblib>=1.1.1 in /opt/conda/lib/python3.8/site-packages (from scikit-learn==1.2.2) (1.3.2)\n",
      "Requirement already satisfied: threadpoolctl>=2.0.0 in /opt/conda/lib/python3.8/site-packages (from scikit-learn==1.2.2) (3.2.0)\n",
      "Requirement already satisfied: alembic<=1.4.1 in /opt/conda/lib/python3.8/site-packages (from mlflow) (1.4.1)\n",
      "Requirement already satisfied: azure-storage-blob>=12.0.0 in /opt/conda/lib/python3.8/site-packages (from mlflow) (12.19.0)\n",
      "Requirement already satisfied: click>=7.0 in /opt/conda/lib/python3.8/site-packages (from mlflow) (8.1.7)\n",
      "Requirement already satisfied: cloudpickle in /opt/conda/lib/python3.8/site-packages (from mlflow) (2.2.1)\n",
      "Requirement already satisfied: databricks-cli>=0.8.7 in /opt/conda/lib/python3.8/site-packages (from mlflow) (0.18.0)\n",
      "Requirement already satisfied: requests>=2.17.3 in /opt/conda/lib/python3.8/site-packages (from mlflow) (2.31.0)\n",
      "Requirement already satisfied: six>=1.10.0 in /opt/conda/lib/python3.8/site-packages (from mlflow) (1.16.0)\n",
      "Requirement already satisfied: Flask in /opt/conda/lib/python3.8/site-packages (from mlflow) (3.0.0)\n",
      "Requirement already satisfied: pandas in /opt/conda/lib/python3.8/site-packages (from mlflow) (1.2.4)\n",
      "Requirement already satisfied: python-dateutil in /opt/conda/lib/python3.8/site-packages (from mlflow) (2.8.2)\n",
      "Requirement already satisfied: protobuf>=3.6.0 in /opt/conda/lib/python3.8/site-packages (from mlflow) (3.17.3)\n",
      "Requirement already satisfied: gitpython>=2.1.0 in /opt/conda/lib/python3.8/site-packages (from mlflow) (3.1.37)\n",
      "Requirement already satisfied: pyyaml in /opt/conda/lib/python3.8/site-packages (from mlflow) (5.4.1)\n",
      "Requirement already satisfied: querystring-parser in /opt/conda/lib/python3.8/site-packages (from mlflow) (1.2.4)\n",
      "Requirement already satisfied: docker>=4.0.0 in /opt/conda/lib/python3.8/site-packages (from mlflow) (6.1.3)\n",
      "Requirement already satisfied: entrypoints in /opt/conda/lib/python3.8/site-packages (from mlflow) (0.4)\n",
      "Requirement already satisfied: sqlparse>=0.3.1 in /opt/conda/lib/python3.8/site-packages (from mlflow) (0.4.4)\n",
      "Requirement already satisfied: sqlalchemy in /opt/conda/lib/python3.8/site-packages (from mlflow) (1.4.18)\n",
      "Requirement already satisfied: prometheus-flask-exporter in /opt/conda/lib/python3.8/site-packages (from mlflow) (0.23.0)\n",
      "Requirement already satisfied: gunicorn in /opt/conda/lib/python3.8/site-packages (from mlflow) (21.2.0)\n",
      "Requirement already satisfied: botocore<1.32.0,>=1.31.82 in /opt/conda/lib/python3.8/site-packages (from boto3) (1.31.82)\n",
      "Requirement already satisfied: jmespath<2.0.0,>=0.7.1 in /opt/conda/lib/python3.8/site-packages (from boto3) (1.0.1)\n",
      "Requirement already satisfied: s3transfer<0.8.0,>=0.7.0 in /opt/conda/lib/python3.8/site-packages (from boto3) (0.7.0)\n",
      "Requirement already satisfied: docutils<0.17,>=0.10 in /opt/conda/lib/python3.8/site-packages (from awscli) (0.16)\n",
      "Requirement already satisfied: colorama<0.4.5,>=0.2.5 in /opt/conda/lib/python3.8/site-packages (from awscli) (0.4.4)\n",
      "Requirement already satisfied: rsa<4.8,>=3.1.2 in /opt/conda/lib/python3.8/site-packages (from awscli) (4.7.2)\n",
      "Requirement already satisfied: urllib3<1.27,>=1.25.4 in /opt/conda/lib/python3.8/site-packages (from botocore<1.32.0,>=1.31.82->boto3) (1.26.18)\n",
      "Requirement already satisfied: Mako in /opt/conda/lib/python3.8/site-packages (from alembic<=1.4.1->mlflow) (1.3.0)\n",
      "Requirement already satisfied: python-editor>=0.3 in /opt/conda/lib/python3.8/site-packages (from alembic<=1.4.1->mlflow) (1.0.4)\n",
      "Requirement already satisfied: azure-core<2.0.0,>=1.28.0 in /opt/conda/lib/python3.8/site-packages (from azure-storage-blob>=12.0.0->mlflow) (1.29.5)\n",
      "Requirement already satisfied: cryptography>=2.1.4 in /opt/conda/lib/python3.8/site-packages (from azure-storage-blob>=12.0.0->mlflow) (38.0.4)\n",
      "Requirement already satisfied: typing-extensions>=4.3.0 in /opt/conda/lib/python3.8/site-packages (from azure-storage-blob>=12.0.0->mlflow) (4.8.0)\n",
      "Requirement already satisfied: isodate>=0.6.1 in /opt/conda/lib/python3.8/site-packages (from azure-storage-blob>=12.0.0->mlflow) (0.6.1)\n",
      "Requirement already satisfied: pyjwt>=1.7.0 in /opt/conda/lib/python3.8/site-packages (from databricks-cli>=0.8.7->mlflow) (2.8.0)\n",
      "Requirement already satisfied: oauthlib>=3.1.0 in /opt/conda/lib/python3.8/site-packages (from databricks-cli>=0.8.7->mlflow) (3.2.2)\n",
      "Requirement already satisfied: tabulate>=0.7.7 in /opt/conda/lib/python3.8/site-packages (from databricks-cli>=0.8.7->mlflow) (0.9.0)\n",
      "Requirement already satisfied: packaging>=14.0 in /opt/conda/lib/python3.8/site-packages (from docker>=4.0.0->mlflow) (23.2)\n",
      "Requirement already satisfied: websocket-client>=0.32.0 in /opt/conda/lib/python3.8/site-packages (from docker>=4.0.0->mlflow) (1.6.3)\n",
      "Requirement already satisfied: gitdb<5,>=4.0.1 in /opt/conda/lib/python3.8/site-packages (from gitpython>=2.1.0->mlflow) (4.0.10)\n",
      "Requirement already satisfied: charset-normalizer<4,>=2 in /opt/conda/lib/python3.8/site-packages (from requests>=2.17.3->mlflow) (3.3.0)\n",
      "Requirement already satisfied: idna<4,>=2.5 in /opt/conda/lib/python3.8/site-packages (from requests>=2.17.3->mlflow) (3.4)\n",
      "Requirement already satisfied: certifi>=2017.4.17 in /opt/conda/lib/python3.8/site-packages (from requests>=2.17.3->mlflow) (2023.7.22)\n",
      "Requirement already satisfied: pyasn1>=0.1.3 in /opt/conda/lib/python3.8/site-packages (from rsa<4.8,>=3.1.2->awscli) (0.5.0)\n",
      "Requirement already satisfied: greenlet!=0.4.17 in /opt/conda/lib/python3.8/site-packages (from sqlalchemy->mlflow) (3.0.0)\n",
      "Requirement already satisfied: Werkzeug>=3.0.0 in /opt/conda/lib/python3.8/site-packages (from Flask->mlflow) (3.0.1)\n",
      "Requirement already satisfied: Jinja2>=3.1.2 in /opt/conda/lib/python3.8/site-packages (from Flask->mlflow) (3.1.2)\n",
      "Requirement already satisfied: itsdangerous>=2.1.2 in /opt/conda/lib/python3.8/site-packages (from Flask->mlflow) (2.1.2)\n",
      "Requirement already satisfied: blinker>=1.6.2 in /opt/conda/lib/python3.8/site-packages (from Flask->mlflow) (1.7.0)\n",
      "Requirement already satisfied: importlib-metadata>=3.6.0 in /opt/conda/lib/python3.8/site-packages (from Flask->mlflow) (6.8.0)\n",
      "Requirement already satisfied: pytz>=2017.3 in /opt/conda/lib/python3.8/site-packages (from pandas->mlflow) (2023.3.post1)\n",
      "Requirement already satisfied: prometheus-client in /opt/conda/lib/python3.8/site-packages (from prometheus-flask-exporter->mlflow) (0.17.1)\n",
      "Requirement already satisfied: cffi>=1.12 in /opt/conda/lib/python3.8/site-packages (from cryptography>=2.1.4->azure-storage-blob>=12.0.0->mlflow) (1.14.6)\n",
      "Requirement already satisfied: smmap<6,>=3.0.1 in /opt/conda/lib/python3.8/site-packages (from gitdb<5,>=4.0.1->gitpython>=2.1.0->mlflow) (5.0.1)\n",
      "Requirement already satisfied: zipp>=0.5 in /opt/conda/lib/python3.8/site-packages (from importlib-metadata>=3.6.0->Flask->mlflow) (3.17.0)\n",
      "Requirement already satisfied: MarkupSafe>=2.0 in /opt/conda/lib/python3.8/site-packages (from Jinja2>=3.1.2->Flask->mlflow) (2.1.3)\n",
      "Requirement already satisfied: pycparser in /opt/conda/lib/python3.8/site-packages (from cffi>=1.12->cryptography>=2.1.4->azure-storage-blob>=12.0.0->mlflow) (2.21)\n"
     ]
    }
   ],
   "source": [
    "!pip install mlflow==2.1.1 boto3 awscli pyarrow scikit-learn==1.2.2 \"numpy<1.20\""
   ]
  },
  {
   "cell_type": "code",
   "execution_count": 8,
   "id": "a1d64e47",
   "metadata": {},
   "outputs": [],
   "source": [
    "!pip install \"kfp<2.0\" --upgrade -q"
   ]
  },
  {
   "cell_type": "code",
   "execution_count": 13,
   "id": "15dc9ed8-8816-48a2-875b-abf3bffbabd1",
   "metadata": {},
   "outputs": [
    {
     "name": "stdout",
     "output_type": "stream",
     "text": [
      "Collecting mlflow==2.1.1\n",
      "  Downloading mlflow-2.1.1-py3-none-any.whl (16.7 MB)\n",
      "\u001b[2K     \u001b[90m━━━━━━━━━━━━━━━━━━━━━━━━━━━━━━━━━━━━━━━━\u001b[0m \u001b[32m16.7/16.7 MB\u001b[0m \u001b[31m38.9 MB/s\u001b[0m eta \u001b[36m0:00:00\u001b[0m00:01\u001b[0m00:01\u001b[0m\n",
      "\u001b[?25hCollecting Flask<3 (from mlflow==2.1.1)\n",
      "  Obtaining dependency information for Flask<3 from https://files.pythonhosted.org/packages/fd/56/26f0be8adc2b4257df20c1c4260ddd0aa396cf8e75d90ab2f7ff99bc34f9/flask-2.3.3-py3-none-any.whl.metadata\n",
      "  Downloading flask-2.3.3-py3-none-any.whl.metadata (3.6 kB)\n",
      "Requirement already satisfied: alembic<2 in /opt/conda/lib/python3.8/site-packages (from mlflow==2.1.1) (1.4.1)\n",
      "Requirement already satisfied: click<9,>=7.0 in /opt/conda/lib/python3.8/site-packages (from mlflow==2.1.1) (8.1.7)\n",
      "Requirement already satisfied: cloudpickle<3 in /opt/conda/lib/python3.8/site-packages (from mlflow==2.1.1) (2.2.1)\n",
      "Requirement already satisfied: databricks-cli<1,>=0.8.7 in /opt/conda/lib/python3.8/site-packages (from mlflow==2.1.1) (0.18.0)\n",
      "Requirement already satisfied: docker<7,>=4.0.0 in /opt/conda/lib/python3.8/site-packages (from mlflow==2.1.1) (6.1.3)\n",
      "Requirement already satisfied: entrypoints<1 in /opt/conda/lib/python3.8/site-packages (from mlflow==2.1.1) (0.4)\n",
      "Requirement already satisfied: gitpython<4,>=2.1.0 in /opt/conda/lib/python3.8/site-packages (from mlflow==2.1.1) (3.1.37)\n",
      "Collecting importlib-metadata!=4.7.0,<6,>=3.7.0 (from mlflow==2.1.1)\n",
      "  Downloading importlib_metadata-5.2.0-py3-none-any.whl (21 kB)\n",
      "Requirement already satisfied: markdown<4,>=3.3 in /opt/conda/lib/python3.8/site-packages (from mlflow==2.1.1) (3.5.1)\n",
      "Requirement already satisfied: matplotlib<4 in /opt/conda/lib/python3.8/site-packages (from mlflow==2.1.1) (3.4.2)\n",
      "Requirement already satisfied: numpy<2 in /opt/conda/lib/python3.8/site-packages (from mlflow==2.1.1) (1.19.5)\n",
      "Collecting packaging<23 (from mlflow==2.1.1)\n",
      "  Downloading packaging-22.0-py3-none-any.whl (42 kB)\n",
      "\u001b[2K     \u001b[90m━━━━━━━━━━━━━━━━━━━━━━━━━━━━━━━━━━━━━━━━\u001b[0m \u001b[32m42.6/42.6 kB\u001b[0m \u001b[31m5.0 MB/s\u001b[0m eta \u001b[36m0:00:00\u001b[0m\n",
      "\u001b[?25hRequirement already satisfied: pandas<2 in /opt/conda/lib/python3.8/site-packages (from mlflow==2.1.1) (1.2.4)\n",
      "Requirement already satisfied: protobuf<5,>=3.12.0 in /opt/conda/lib/python3.8/site-packages (from mlflow==2.1.1) (3.17.3)\n",
      "Collecting pyarrow<11,>=4.0.0 (from mlflow==2.1.1)\n",
      "  Downloading pyarrow-10.0.1-cp38-cp38-manylinux_2_17_x86_64.manylinux2014_x86_64.whl (36.0 MB)\n",
      "\u001b[2K     \u001b[90m━━━━━━━━━━━━━━━━━━━━━━━━━━━━━━━━━━━━━━━━\u001b[0m \u001b[32m36.0/36.0 MB\u001b[0m \u001b[31m25.7 MB/s\u001b[0m eta \u001b[36m0:00:00\u001b[0m00:01\u001b[0m00:01\u001b[0m\n",
      "\u001b[?25hCollecting pytz<2023 (from mlflow==2.1.1)\n",
      "  Downloading pytz-2022.7.1-py2.py3-none-any.whl (499 kB)\n",
      "\u001b[2K     \u001b[90m━━━━━━━━━━━━━━━━━━━━━━━━━━━━━━━━━━━━━━\u001b[0m \u001b[32m499.4/499.4 kB\u001b[0m \u001b[31m33.2 MB/s\u001b[0m eta \u001b[36m0:00:00\u001b[0m\n",
      "\u001b[?25hRequirement already satisfied: pyyaml<7,>=5.1 in /opt/conda/lib/python3.8/site-packages (from mlflow==2.1.1) (5.4.1)\n",
      "Requirement already satisfied: querystring-parser<2 in /opt/conda/lib/python3.8/site-packages (from mlflow==2.1.1) (1.2.4)\n",
      "Requirement already satisfied: requests<3,>=2.17.3 in /opt/conda/lib/python3.8/site-packages (from mlflow==2.1.1) (2.31.0)\n",
      "Requirement already satisfied: scikit-learn<2 in /opt/conda/lib/python3.8/site-packages (from mlflow==2.1.1) (1.2.2)\n",
      "Requirement already satisfied: scipy<2 in /opt/conda/lib/python3.8/site-packages (from mlflow==2.1.1) (1.7.0)\n",
      "Collecting shap<1,>=0.40 (from mlflow==2.1.1)\n",
      "  Obtaining dependency information for shap<1,>=0.40 from https://files.pythonhosted.org/packages/3d/87/b469dd6833d315e679022c624e54724ee031a080071b56cb508804fe729c/shap-0.43.0-cp38-cp38-manylinux_2_12_x86_64.manylinux2010_x86_64.manylinux_2_17_x86_64.manylinux2014_x86_64.whl.metadata\n",
      "  Downloading shap-0.43.0-cp38-cp38-manylinux_2_12_x86_64.manylinux2010_x86_64.manylinux_2_17_x86_64.manylinux2014_x86_64.whl.metadata (24 kB)\n",
      "Requirement already satisfied: sqlalchemy<2,>=1.4.0 in /opt/conda/lib/python3.8/site-packages (from mlflow==2.1.1) (1.4.18)\n",
      "Requirement already satisfied: sqlparse<1,>=0.4.0 in /opt/conda/lib/python3.8/site-packages (from mlflow==2.1.1) (0.4.4)\n",
      "Requirement already satisfied: Jinja2<4,>=2.11 in /opt/conda/lib/python3.8/site-packages (from mlflow==2.1.1) (3.1.2)\n",
      "Collecting gunicorn<21 (from mlflow==2.1.1)\n",
      "  Downloading gunicorn-20.1.0-py3-none-any.whl (79 kB)\n",
      "\u001b[2K     \u001b[90m━━━━━━━━━━━━━━━━━━━━━━━━━━━━━━━━━━━━━━━━\u001b[0m \u001b[32m79.5/79.5 kB\u001b[0m \u001b[31m11.3 MB/s\u001b[0m eta \u001b[36m0:00:00\u001b[0m\n",
      "\u001b[?25hRequirement already satisfied: Mako in /opt/conda/lib/python3.8/site-packages (from alembic<2->mlflow==2.1.1) (1.3.0)\n",
      "Requirement already satisfied: python-editor>=0.3 in /opt/conda/lib/python3.8/site-packages (from alembic<2->mlflow==2.1.1) (1.0.4)\n",
      "Requirement already satisfied: python-dateutil in /opt/conda/lib/python3.8/site-packages (from alembic<2->mlflow==2.1.1) (2.8.2)\n",
      "Requirement already satisfied: pyjwt>=1.7.0 in /opt/conda/lib/python3.8/site-packages (from databricks-cli<1,>=0.8.7->mlflow==2.1.1) (2.8.0)\n",
      "Requirement already satisfied: oauthlib>=3.1.0 in /opt/conda/lib/python3.8/site-packages (from databricks-cli<1,>=0.8.7->mlflow==2.1.1) (3.2.2)\n",
      "Requirement already satisfied: tabulate>=0.7.7 in /opt/conda/lib/python3.8/site-packages (from databricks-cli<1,>=0.8.7->mlflow==2.1.1) (0.9.0)\n",
      "Requirement already satisfied: six>=1.10.0 in /opt/conda/lib/python3.8/site-packages (from databricks-cli<1,>=0.8.7->mlflow==2.1.1) (1.16.0)\n",
      "Requirement already satisfied: urllib3<3,>=1.26.7 in /opt/conda/lib/python3.8/site-packages (from databricks-cli<1,>=0.8.7->mlflow==2.1.1) (1.26.18)\n",
      "Requirement already satisfied: websocket-client>=0.32.0 in /opt/conda/lib/python3.8/site-packages (from docker<7,>=4.0.0->mlflow==2.1.1) (1.6.3)\n",
      "Requirement already satisfied: Werkzeug>=2.3.7 in /opt/conda/lib/python3.8/site-packages (from Flask<3->mlflow==2.1.1) (3.0.1)\n",
      "Requirement already satisfied: itsdangerous>=2.1.2 in /opt/conda/lib/python3.8/site-packages (from Flask<3->mlflow==2.1.1) (2.1.2)\n",
      "Requirement already satisfied: blinker>=1.6.2 in /opt/conda/lib/python3.8/site-packages (from Flask<3->mlflow==2.1.1) (1.7.0)\n",
      "Requirement already satisfied: gitdb<5,>=4.0.1 in /opt/conda/lib/python3.8/site-packages (from gitpython<4,>=2.1.0->mlflow==2.1.1) (4.0.10)\n",
      "Requirement already satisfied: setuptools>=3.0 in /opt/conda/lib/python3.8/site-packages (from gunicorn<21->mlflow==2.1.1) (68.2.2)\n",
      "Requirement already satisfied: zipp>=0.5 in /opt/conda/lib/python3.8/site-packages (from importlib-metadata!=4.7.0,<6,>=3.7.0->mlflow==2.1.1) (3.17.0)\n",
      "Requirement already satisfied: MarkupSafe>=2.0 in /opt/conda/lib/python3.8/site-packages (from Jinja2<4,>=2.11->mlflow==2.1.1) (2.1.3)\n",
      "Requirement already satisfied: cycler>=0.10 in /opt/conda/lib/python3.8/site-packages (from matplotlib<4->mlflow==2.1.1) (0.12.0)\n",
      "Requirement already satisfied: kiwisolver>=1.0.1 in /opt/conda/lib/python3.8/site-packages (from matplotlib<4->mlflow==2.1.1) (1.4.5)\n",
      "Requirement already satisfied: pillow>=6.2.0 in /opt/conda/lib/python3.8/site-packages (from matplotlib<4->mlflow==2.1.1) (10.0.1)\n",
      "Requirement already satisfied: pyparsing>=2.2.1 in /opt/conda/lib/python3.8/site-packages (from matplotlib<4->mlflow==2.1.1) (3.1.1)\n",
      "Requirement already satisfied: charset-normalizer<4,>=2 in /opt/conda/lib/python3.8/site-packages (from requests<3,>=2.17.3->mlflow==2.1.1) (3.3.0)\n",
      "Requirement already satisfied: idna<4,>=2.5 in /opt/conda/lib/python3.8/site-packages (from requests<3,>=2.17.3->mlflow==2.1.1) (3.4)\n",
      "Requirement already satisfied: certifi>=2017.4.17 in /opt/conda/lib/python3.8/site-packages (from requests<3,>=2.17.3->mlflow==2.1.1) (2023.7.22)\n",
      "Requirement already satisfied: joblib>=1.1.1 in /opt/conda/lib/python3.8/site-packages (from scikit-learn<2->mlflow==2.1.1) (1.3.2)\n",
      "Requirement already satisfied: threadpoolctl>=2.0.0 in /opt/conda/lib/python3.8/site-packages (from scikit-learn<2->mlflow==2.1.1) (3.2.0)\n",
      "Requirement already satisfied: tqdm>=4.27.0 in /opt/conda/lib/python3.8/site-packages (from shap<1,>=0.40->mlflow==2.1.1) (4.66.1)\n",
      "Collecting slicer==0.0.7 (from shap<1,>=0.40->mlflow==2.1.1)\n",
      "  Downloading slicer-0.0.7-py3-none-any.whl (14 kB)\n",
      "Requirement already satisfied: numba in /opt/conda/lib/python3.8/site-packages (from shap<1,>=0.40->mlflow==2.1.1) (0.53.1)\n",
      "Requirement already satisfied: greenlet!=0.4.17 in /opt/conda/lib/python3.8/site-packages (from sqlalchemy<2,>=1.4.0->mlflow==2.1.1) (3.0.0)\n",
      "Requirement already satisfied: smmap<6,>=3.0.1 in /opt/conda/lib/python3.8/site-packages (from gitdb<5,>=4.0.1->gitpython<4,>=2.1.0->mlflow==2.1.1) (5.0.1)\n",
      "Requirement already satisfied: llvmlite<0.37,>=0.36.0rc1 in /opt/conda/lib/python3.8/site-packages (from numba->shap<1,>=0.40->mlflow==2.1.1) (0.36.0)\n",
      "Downloading flask-2.3.3-py3-none-any.whl (96 kB)\n",
      "\u001b[2K   \u001b[90m━━━━━━━━━━━━━━━━━━━━━━━━━━━━━━━━━━━━━━━━\u001b[0m \u001b[32m96.1/96.1 kB\u001b[0m \u001b[31m14.1 MB/s\u001b[0m eta \u001b[36m0:00:00\u001b[0m\n",
      "\u001b[?25hDownloading shap-0.43.0-cp38-cp38-manylinux_2_12_x86_64.manylinux2010_x86_64.manylinux_2_17_x86_64.manylinux2014_x86_64.whl (535 kB)\n",
      "\u001b[2K   \u001b[90m━━━━━━━━━━━━━━━━━━━━━━━━━━━━━━━━━━━━━━━━\u001b[0m \u001b[32m535.7/535.7 kB\u001b[0m \u001b[31m29.9 MB/s\u001b[0m eta \u001b[36m0:00:00\u001b[0m\n",
      "\u001b[?25hInstalling collected packages: pytz, slicer, pyarrow, packaging, importlib-metadata, gunicorn, Flask, shap, mlflow\n",
      "  Attempting uninstall: pytz\n",
      "    Found existing installation: pytz 2023.3.post1\n",
      "    Uninstalling pytz-2023.3.post1:\n",
      "      Successfully uninstalled pytz-2023.3.post1\n",
      "  Attempting uninstall: pyarrow\n",
      "    Found existing installation: pyarrow 13.0.0\n",
      "    Uninstalling pyarrow-13.0.0:\n",
      "      Successfully uninstalled pyarrow-13.0.0\n",
      "  Attempting uninstall: packaging\n",
      "    Found existing installation: packaging 23.2\n",
      "    Uninstalling packaging-23.2:\n",
      "      Successfully uninstalled packaging-23.2\n",
      "  Attempting uninstall: importlib-metadata\n",
      "    Found existing installation: importlib-metadata 6.8.0\n",
      "    Uninstalling importlib-metadata-6.8.0:\n",
      "      Successfully uninstalled importlib-metadata-6.8.0\n",
      "  Attempting uninstall: gunicorn\n",
      "    Found existing installation: gunicorn 21.2.0\n",
      "    Uninstalling gunicorn-21.2.0:\n",
      "      Successfully uninstalled gunicorn-21.2.0\n",
      "  Attempting uninstall: Flask\n",
      "    Found existing installation: Flask 3.0.0\n",
      "    Uninstalling Flask-3.0.0:\n",
      "      Successfully uninstalled Flask-3.0.0\n",
      "  Attempting uninstall: mlflow\n",
      "    Found existing installation: mlflow 2.8.0\n",
      "    Uninstalling mlflow-2.8.0:\n",
      "      Successfully uninstalled mlflow-2.8.0\n",
      "\u001b[31mERROR: pip's dependency resolver does not currently take into account all the packages that are installed. This behaviour is the source of the following dependency conflicts.\n",
      "jupyterlab-server 2.25.0 requires jsonschema>=4.18.0, but you have jsonschema 3.2.0 which is incompatible.\u001b[0m\u001b[31m\n",
      "\u001b[0mSuccessfully installed Flask-2.3.3 gunicorn-20.1.0 importlib-metadata-5.2.0 mlflow-2.1.1 packaging-22.0 pyarrow-10.0.1 pytz-2022.7.1 shap-0.43.0 slicer-0.0.7\n"
     ]
    }
   ],
   "source": [
    "!pip install \"mlflow==2.1.1\" --upgrade"
   ]
  },
  {
   "cell_type": "code",
   "execution_count": 9,
   "id": "a0847708",
   "metadata": {},
   "outputs": [],
   "source": [
    "import kfp\n",
    "from kfp import dsl"
   ]
  },
  {
   "cell_type": "markdown",
   "id": "146c8f11",
   "metadata": {},
   "source": [
    "# Local development\n",
    "\n",
    "For most cases not running below lines or changing their values is needed!"
   ]
  },
  {
   "cell_type": "code",
   "execution_count": 4,
   "id": "7e09bce8",
   "metadata": {},
   "outputs": [
    {
     "name": "stdout",
     "output_type": "stream",
     "text": [
      "2023-11-09 09:42:43 mlflow\n",
      "2023-11-09 09:42:32 mlpipeline\n"
     ]
    }
   ],
   "source": [
    "!aws --endpoint-url $MLFLOW_S3_ENDPOINT_URL s3 ls"
   ]
  },
  {
   "cell_type": "markdown",
   "id": "85e6967b",
   "metadata": {},
   "source": [
    "# Download data"
   ]
  },
  {
   "cell_type": "code",
   "execution_count": 15,
   "id": "973a0ef3",
   "metadata": {},
   "outputs": [
    {
     "name": "stdout",
     "output_type": "stream",
     "text": [
      "--2023-11-09 10:37:29--  https://raw.githubusercontent.com/canonical/kubeflow-examples/main/e2e-wine-kfp-mlflow/winequality-red.csv\n",
      "Resolving raw.githubusercontent.com (raw.githubusercontent.com)... 185.199.109.133, 185.199.108.133, 185.199.111.133, ...\n",
      "Connecting to raw.githubusercontent.com (raw.githubusercontent.com)|185.199.109.133|:443... connected.\n",
      "HTTP request sent, awaiting response... 200 OK\n",
      "Length: 84199 (82K) [text/plain]\n",
      "Saving to: ‘winequality-red.csv.1’\n",
      "\n",
      "winequality-red.csv 100%[===================>]  82.23K  --.-KB/s    in 0.02s   \n",
      "\n",
      "2023-11-09 10:37:29 (4.61 MB/s) - ‘winequality-red.csv.1’ saved [84199/84199]\n",
      "\n"
     ]
    }
   ],
   "source": [
    "#In airgapped environment upload data manually\n",
    "!wget https://raw.githubusercontent.com/canonical/kubeflow-examples/main/e2e-wine-kfp-mlflow/winequality-red.csv"
   ]
  },
  {
   "cell_type": "code",
   "execution_count": 23,
   "id": "ebc1a73b",
   "metadata": {},
   "outputs": [],
   "source": [
    "web_downloader_op = kfp.components.load_component_from_url(\n",
    "            'https://raw.githubusercontent.com/kubeflow/pipelines/master/components/contrib/web/Download/component.yaml')"
   ]
  },
  {
   "cell_type": "markdown",
   "id": "eee78a75",
   "metadata": {},
   "source": [
    "# Preprocess data"
   ]
  },
  {
   "cell_type": "code",
   "execution_count": 24,
   "id": "f1053d49",
   "metadata": {},
   "outputs": [],
   "source": [
    "def preprocess(file_path: kfp.components.InputPath('CSV'),\n",
    "              output_file: kfp.components.OutputPath('parquet')):\n",
    "    import pandas as pd\n",
    "    df = pd.read_csv(file_path, header=0, sep=\";\")\n",
    "    df.columns = [c.lower().replace(' ', '_') for c in df.columns]\n",
    "    df.to_parquet(output_file)"
   ]
  },
  {
   "cell_type": "code",
   "execution_count": 16,
   "id": "9ae06565",
   "metadata": {},
   "outputs": [],
   "source": [
    "#local development\n",
    "preprocess('winequality-red.csv', 'preprocessed.parquet')"
   ]
  },
  {
   "cell_type": "code",
   "execution_count": 25,
   "id": "9d06a68e",
   "metadata": {},
   "outputs": [],
   "source": [
    "#workflow component\n",
    "preprocess_op = kfp.components.create_component_from_func(\n",
    "        func=preprocess,\n",
    "        output_component_file='preprocess-component.yaml', # This is optional. It saves the component spec for future use.\n",
    "        base_image='python:3.9.15',\n",
    "        packages_to_install=['pandas', 'pyarrow'])"
   ]
  },
  {
   "cell_type": "markdown",
   "id": "9e2b5fed",
   "metadata": {},
   "source": [
    "# Train model"
   ]
  },
  {
   "cell_type": "code",
   "execution_count": 26,
   "id": "6c43576b",
   "metadata": {},
   "outputs": [],
   "source": [
    "def trainning(file_path: kfp.components.InputPath('parquet'))->str:\n",
    "    import pandas as pd\n",
    "    from sklearn.model_selection import train_test_split\n",
    "    from sklearn.metrics import classification_report\n",
    "    import mlflow\n",
    "    from sklearn.linear_model import ElasticNet\n",
    "    \n",
    "    df = pd.read_parquet(file_path)\n",
    "    \n",
    "    target_column='quality'\n",
    "    train_x, test_x, train_y, test_y = train_test_split(df.drop(columns=[target_column]),\n",
    "                                                    df[target_column], test_size=.25,\n",
    "                                                    random_state=1337, stratify=df[target_column])\n",
    "\n",
    "    mlflow.sklearn.autolog()\n",
    "    with mlflow.start_run(run_name='elastic_net_models') as run:\n",
    "        alpha =  0.5\n",
    "        l1_ratio =  0.5\n",
    "        lr = ElasticNet(alpha=alpha, l1_ratio=l1_ratio, random_state=42)\n",
    "        lr.fit(train_x, train_y)\n",
    "        model_dir = \"model\"\n",
    "        env = {\n",
    "            'name': 'mlflow-env',\n",
    "            'channels': ['defaults'],\n",
    "            'dependencies': [\n",
    "                'python=3.8.10',\n",
    "                'pip'],\n",
    "            \n",
    "            'pip':[\n",
    "                'mlflow==2.1.1',\n",
    "                'scikit-learn==0.23.2'\n",
    "            ]\n",
    "        }\n",
    "        mlflow.sklearn.log_model(lr, model_dir, registered_model_name=\"wine-elasticnet\", conda_env=env)\n",
    "        return f\"{run.info.artifact_uri}/{model_dir}\""
   ]
  },
  {
   "cell_type": "code",
   "execution_count": 16,
   "id": "8c9a2ebb-4c6f-4b00-a17d-369212a8e7f9",
   "metadata": {},
   "outputs": [
    {
     "name": "stdout",
     "output_type": "stream",
     "text": [
      "mlflow==2.1.1\n"
     ]
    }
   ],
   "source": [
    "!pip freeze | grep mlflow"
   ]
  },
  {
   "cell_type": "code",
   "execution_count": 15,
   "id": "709a10b5",
   "metadata": {},
   "outputs": [
    {
     "name": "stderr",
     "output_type": "stream",
     "text": [
      "2023/11/09 10:44:28 WARNING mlflow.utils.autologging_utils: Encountered unexpected error during sklearn autologging: The following failures occurred while performing one or more logging operations: [MlflowException('Failed to perform one or more operations on the run with ID fbef245cea284c1dbedf145b8e1e2853. Failed operations: [MlflowException(\"API request to endpoint /api/2.0/mlflow/runs/log-inputs failed with error code 404 != 200. Response body: \\'<!doctype html>\\\\n<html lang=en>\\\\n<title>404 Not Found</title>\\\\n<h1>Not Found</h1>\\\\n<p>The requested URL was not found on the server. If you entered the URL manually please check your spelling and try again.</p>\\\\n\\'\")]')]\n",
      "Registered model 'wine-elasticnet' already exists. Creating a new version of this model...\n",
      "2023/11/09 10:44:28 INFO mlflow.store.model_registry.abstract_store: Waiting up to 300 seconds for model version to finish creation. Model name: wine-elasticnet, version 2\n",
      "Created version '2' of model 'wine-elasticnet'.\n"
     ]
    },
    {
     "data": {
      "text/plain": [
       "'s3://mlflow/0/fbef245cea284c1dbedf145b8e1e2853/artifacts/model'"
      ]
     },
     "execution_count": 15,
     "metadata": {},
     "output_type": "execute_result"
    }
   ],
   "source": [
    "trainning('preprocessed.parquet')"
   ]
  },
  {
   "cell_type": "code",
   "execution_count": 27,
   "id": "fb9e3bce",
   "metadata": {},
   "outputs": [],
   "source": [
    "#workflow component\n",
    "training_op = kfp.components.create_component_from_func(\n",
    "        func=trainning,\n",
    "        output_component_file='train-component.yaml', # This is optional. It saves the component spec for future use.\n",
    "        base_image='python:3.8.10',\n",
    "        packages_to_install=['pandas', 'pyarrow', 'scikit-learn==1.2.2', 'mlflow==2.1.1', 'boto3', \"numpy<1.20\"])"
   ]
  },
  {
   "cell_type": "markdown",
   "id": "c10c6991",
   "metadata": {
    "tags": []
   },
   "source": [
    "# Deploy model\n",
    "\n",
    "Known issues:\n",
    "- https://githubhot.com/repo/SeldonIO/seldon-core/issues/4017 "
   ]
  },
  {
   "cell_type": "code",
   "execution_count": 28,
   "id": "d266c586",
   "metadata": {},
   "outputs": [],
   "source": [
    "def deploy(model_uri:str = \"default_model_uri\"):\n",
    "    import subprocess\n",
    "    \n",
    "    with open(\"/tmp/manifest.yaml\", \"w\") as f:\n",
    "        manifest = \"\"\"\n",
    "apiVersion: machinelearning.seldon.io/v1\n",
    "kind: SeldonDeployment\n",
    "metadata:\n",
    "  name: mlflow\n",
    "spec:\n",
    "  name: wines\n",
    "  predictors:\n",
    "  - componentSpecs:\n",
    "    - spec:\n",
    "        containers:\n",
    "        - name: classifier\n",
    "          image: seldonio/mlflowserver:1.16.0\n",
    "          imagePullPolicy: Always\n",
    "          livenessProbe:\n",
    "            initialDelaySeconds: 80\n",
    "            failureThreshold: 200\n",
    "            periodSeconds: 5\n",
    "            successThreshold: 1\n",
    "            httpGet:\n",
    "              path: /health/ping\n",
    "              port: http\n",
    "              scheme: HTTP\n",
    "          readinessProbe:\n",
    "            initialDelaySeconds: 80\n",
    "            failureThreshold: 200\n",
    "            periodSeconds: 5\n",
    "            successThreshold: 1\n",
    "            httpGet:\n",
    "              path: /health/ping\n",
    "              port: http\n",
    "              scheme: HTTP\n",
    "    graph:\n",
    "      children: []\n",
    "      implementation: MLFLOW_SERVER\n",
    "      modelUri: \"\"\"+model_uri+\"\"\"\n",
    "      envSecretRefName: mlflow-server-seldon-rclone-secret\n",
    "      name: classifier\n",
    "    name: wine-super-model\n",
    "    replicas: 1\n",
    "        \"\"\"\n",
    "        print(manifest)\n",
    "        f.write(manifest)\n",
    "    \n",
    "    result = subprocess.call(['kubectl', 'apply', '-f', '/tmp/manifest.yaml', '-n', 'admin'])\n",
    "    assert result == 0\n",
    "    "
   ]
  },
  {
   "cell_type": "code",
   "execution_count": 29,
   "id": "43fd4a17",
   "metadata": {},
   "outputs": [],
   "source": [
    "deploy_op = kfp.components.create_component_from_func(\n",
    "        func=deploy,\n",
    "        output_component_file='deploy-component.yaml', # This is optional. It saves the component spec for future use.\n",
    "        base_image='bponieckiklotz/seldon-deploy:0.1',\n",
    "        packages_to_install=[])"
   ]
  },
  {
   "cell_type": "markdown",
   "id": "ce03a720",
   "metadata": {
    "tags": []
   },
   "source": [
    "# Create pipeline"
   ]
  },
  {
   "cell_type": "code",
   "execution_count": 30,
   "id": "8dec0d0d",
   "metadata": {},
   "outputs": [],
   "source": [
    "from kubernetes.client.models import V1EnvVar\n",
    "from kfp.onprem import use_k8s_secret\n",
    "\n",
    "@dsl.pipeline(\n",
    "    name=\"e2e_wine_pipeline\",\n",
    "    description=\"WINE pipeline\",\n",
    ")\n",
    "def wine_pipeline(url):\n",
    "    web_downloader_task = web_downloader_op(url=url)\n",
    "    preprocess_task = preprocess_op(file=web_downloader_task.outputs['data'])\n",
    "    \n",
    "    train_task = (training_op(file=preprocess_task.outputs['output'])\n",
    "                 .add_env_variable(V1EnvVar(name='MLFLOW_TRACKING_URI', value='http://mlflow-server.kubeflow.svc.cluster.local:5000'))\n",
    "                 .add_env_variable(V1EnvVar(name='MLFLOW_S3_ENDPOINT_URL', value='http://minio.kubeflow.svc.cluster.local:9000'))\n",
    "                 .add_env_variable(V1EnvVar(name='PROTOCOL_BUFFERS_PYTHON_IMPLEMENTATION', value='python')) \n",
    "                 #https://kubeflow-pipelines.readthedocs.io/en/stable/source/kfp.extensions.html#kfp.onprem.use_k8s_secret\n",
    "                  .apply(use_k8s_secret(secret_name='mlpipeline-minio-artifact', k8s_secret_key_to_env={\n",
    "                     'accesskey': 'AWS_ACCESS_KEY_ID',\n",
    "                     'secretkey': 'AWS_SECRET_ACCESS_KEY',\n",
    "                 })))\n",
    "    deploy_task = deploy_op(model_uri=train_task.output)\n",
    "    "
   ]
  },
  {
   "cell_type": "code",
   "execution_count": 31,
   "id": "681a4b5e",
   "metadata": {},
   "outputs": [],
   "source": [
    "client = kfp.Client()"
   ]
  },
  {
   "cell_type": "code",
   "execution_count": 32,
   "id": "03bb3c27",
   "metadata": {},
   "outputs": [
    {
     "data": {
      "text/html": [
       "<a href=\"/pipeline/#/experiments/details/fb9d6e78-db82-4a28-bb94-ad7be11d2571\" target=\"_blank\" >Experiment details</a>."
      ],
      "text/plain": [
       "<IPython.core.display.HTML object>"
      ]
     },
     "metadata": {},
     "output_type": "display_data"
    },
    {
     "data": {
      "text/html": [
       "<a href=\"/pipeline/#/runs/details/1a2868af-00d8-49f3-ad00-23587b021380\" target=\"_blank\" >Run details</a>."
      ],
      "text/plain": [
       "<IPython.core.display.HTML object>"
      ]
     },
     "metadata": {},
     "output_type": "display_data"
    },
    {
     "data": {
      "text/plain": [
       "RunPipelineResult(run_id=1a2868af-00d8-49f3-ad00-23587b021380)"
      ]
     },
     "execution_count": 32,
     "metadata": {},
     "output_type": "execute_result"
    }
   ],
   "source": [
    "client.create_run_from_pipeline_func(\n",
    "    wine_pipeline,\n",
    "    arguments={\n",
    "        \"url\": \"https://raw.githubusercontent.com/canonical/kubeflow-examples/main/e2e-wine-kfp-mlflow/winequality-red.csv\",\n",
    "    })"
   ]
  },
  {
   "cell_type": "code",
   "execution_count": null,
   "id": "7605db80",
   "metadata": {},
   "outputs": [],
   "source": [
    "kfp.compiler.Compiler().compile(wine_pipeline, 'wine-pipeline.yaml')"
   ]
  },
  {
   "cell_type": "code",
   "execution_count": null,
   "id": "d2e52bba",
   "metadata": {},
   "outputs": [],
   "source": [
    "!pip freeze > nb-requirements.txt"
   ]
  },
  {
   "cell_type": "code",
   "execution_count": null,
   "id": "67675b3d-6c7a-4595-9e8f-d44639b35a85",
   "metadata": {},
   "outputs": [],
   "source": []
  }
 ],
 "metadata": {
  "kernelspec": {
   "display_name": "Python 3 (ipykernel)",
   "language": "python",
   "name": "python3"
  },
  "kubeflow_notebook": {
   "autosnapshot": false,
   "docker_image": "afrikha/uat2:latest",
   "experiment": {
    "id": "",
    "name": ""
   },
   "experiment_name": "",
   "katib_metadata": {
    "algorithm": {
     "algorithmName": "grid"
    },
    "maxFailedTrialCount": 3,
    "maxTrialCount": 12,
    "objective": {
     "objectiveMetricName": "",
     "type": "minimize"
    },
    "parallelTrialCount": 3,
    "parameters": []
   },
   "katib_run": false,
   "pipeline_description": "",
   "pipeline_name": "",
   "snapshot_volumes": false,
   "steps_defaults": [
    "label:access-minio:true",
    "label:access-ml-pipeline:true",
    "label:access-mlflow:true"
   ],
   "volume_access_mode": "rwm",
   "volumes": []
  },
  "language_info": {
   "codemirror_mode": {
    "name": "ipython",
    "version": 3
   },
   "file_extension": ".py",
   "mimetype": "text/x-python",
   "name": "python",
   "nbconvert_exporter": "python",
   "pygments_lexer": "ipython3",
   "version": "3.8.10"
  }
 },
 "nbformat": 4,
 "nbformat_minor": 5
}
