{
 "cells": [
  {
   "cell_type": "markdown",
   "id": "e89bf654",
   "metadata": {},
   "source": [
    "# Notebook from Data Scientist with E2E scenario for Wine dataset\n",
    "\n",
    "Expected Steps:\n",
    "- download\n",
    "- clean/preprocess\n",
    "- train/hyperparam tunning with results in mlflow+minio\n",
    "- seldon serving\n",
    "- example inference\n",
    "\n",
    "Artefacts:\n",
    "- raw data, preprocessed\n",
    "- model per experiment\n",
    "- experiment metadata and results"
   ]
  },
  {
   "cell_type": "code",
   "execution_count": null,
   "id": "6e34b594",
   "metadata": {
    "tags": []
   },
   "outputs": [],
   "source": [
    "!pip install mlflow==1.30 boto3 awscli pyarrow scikit-learn"
   ]
  },
  {
   "cell_type": "markdown",
   "id": "85e6967b",
   "metadata": {},
   "source": [
    "# Download data"
   ]
  },
  {
   "cell_type": "code",
   "execution_count": null,
   "id": "973a0ef3",
   "metadata": {},
   "outputs": [],
   "source": [
    "!wget https://raw.githubusercontent.com/Barteus/kubeflow-examples/main/e2e-wine-kfp-mlflow/winequality-red.csv"
   ]
  },
  {
   "cell_type": "markdown",
   "id": "eee78a75",
   "metadata": {},
   "source": [
    "# Preprocess data"
   ]
  },
  {
   "cell_type": "code",
   "execution_count": null,
   "id": "f1053d49",
   "metadata": {},
   "outputs": [],
   "source": [
    "file_path = 'winequality-red.csv'\n",
    "\n",
    "import pandas as pd\n",
    "df = pd.read_csv(file_path, header=0, sep=\";\")\n",
    "df.columns = [c.lower().replace(' ', '_') for c in df.columns]"
   ]
  },
  {
   "cell_type": "markdown",
   "id": "9e2b5fed",
   "metadata": {},
   "source": [
    "# Train model"
   ]
  },
  {
   "cell_type": "code",
   "execution_count": null,
   "id": "6c43576b",
   "metadata": {},
   "outputs": [],
   "source": [
    "import pandas as pd\n",
    "from sklearn.model_selection import train_test_split\n",
    "import mlflow\n",
    "from sklearn.linear_model import ElasticNet\n",
    "\n",
    "# Hint!\n",
    "# df = pd.read_parquet(file_path)\n",
    "\n",
    "target_column='quality'\n",
    "train_x, test_x, train_y, test_y = train_test_split(df.drop(columns=[target_column]),\n",
    "                                                df[target_column], test_size=.25,\n",
    "                                                random_state=1337, stratify=df[target_column])\n",
    "mlflow.sklearn.autolog()\n",
    "with mlflow.start_run(run_name='elastic_net_models'):\n",
    "    alpha =  0.5\n",
    "    l1_ratio =  0.5\n",
    "    lr = ElasticNet(alpha=alpha, l1_ratio=l1_ratio, random_state=42)\n",
    "    lr.fit(train_x, train_y)\n",
    "    result = mlflow.sklearn.log_model(lr, \"model\", registered_model_name=\"wine-elasticnet\")\n",
    "    print(f\"{mlflow.get_artifact_uri()}/{result.artifact_path}\")"
   ]
  },
  {
   "cell_type": "code",
   "execution_count": null,
   "id": "d2e52bba",
   "metadata": {},
   "outputs": [],
   "source": [
    "!pip freeze > nb-requirements.txt"
   ]
  },
  {
   "cell_type": "code",
   "execution_count": null,
   "id": "b85c60e0",
   "metadata": {},
   "outputs": [],
   "source": []
  }
 ],
 "metadata": {
  "kernelspec": {
   "display_name": "Python 3 (ipykernel)",
   "language": "python",
   "name": "python3"
  },
  "kubeflow_notebook": {
   "autosnapshot": false,
   "docker_image": "afrikha/uat2:latest",
   "experiment": {
    "id": "",
    "name": ""
   },
   "experiment_name": "",
   "katib_metadata": {
    "algorithm": {
     "algorithmName": "grid"
    },
    "maxFailedTrialCount": 3,
    "maxTrialCount": 12,
    "objective": {
     "objectiveMetricName": "",
     "type": "minimize"
    },
    "parallelTrialCount": 3,
    "parameters": []
   },
   "katib_run": false,
   "pipeline_description": "",
   "pipeline_name": "",
   "snapshot_volumes": false,
   "steps_defaults": [
    "label:access-minio:true",
    "label:access-ml-pipeline:true",
    "label:access-mlflow:true"
   ],
   "volume_access_mode": "rwm",
   "volumes": []
  },
  "language_info": {
   "codemirror_mode": {
    "name": "ipython",
    "version": 3
   },
   "file_extension": ".py",
   "mimetype": "text/x-python",
   "name": "python",
   "nbconvert_exporter": "python",
   "pygments_lexer": "ipython3",
   "version": "3.8.10"
  }
 },
 "nbformat": 4,
 "nbformat_minor": 5
}
