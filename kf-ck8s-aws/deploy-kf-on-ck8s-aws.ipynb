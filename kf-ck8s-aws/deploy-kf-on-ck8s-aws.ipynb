{
 "cells": [
  {
   "attachments": {},
   "cell_type": "markdown",
   "metadata": {
    "tags": [
     "text"
    ]
   },
   "source": [
    "# Deploy Charmed Kubeflow on Charmed Kubernetes cluster on AWS\n",
    "\n",
    "This guide provides instructions on how to deploy Charmed Kubeflow on Charmed Kubernetes cluster on AWS.\n",
    "\n",
    "## Contents\n",
    "\n",
    "* [Prerequisites](#prerequisites)\n",
    "* [Instructions](#instructions)\n",
    "  1. [Setup AWS cloud](#setup-aws-cloud)\n",
    "  2. [Deploy Charmed Kubernetes cluster on AWS](#deploy-charmed-kubernetes-cluster-on-aws)\n",
    "  3. [Deploy Charmed Kubeflow on created Charmed Kubernetes cluster on AWS](#deploy-charmed-kubeflow-on-created-charmed-kubernetes-cluster-on-aws)\n",
    "\n",
    "## Prerequisites\n",
    "\n",
    "- The following tools are required for this guide: `jq`, `kubectl`, `juju`, `aws`\n",
    "- AWS credentials\n",
    "\n",
    "## Instructions\n",
    "\n",
    "### Setup AWS cloud\n",
    "\n",
    "Follow [this guide](https://juju.is/docs/olm/amazon-aws) to setup AWS cloud and Juju controller.\n",
    "\n",
    "### Deploy Charmed Kubernetes cluster on AWS\n",
    "\n",
    "Checkout Charmed Kubernetes bundle release 1.24 and update CPU, disk, and memory constraints to satisfy Kubeflow requirements:"
   ]
  },
  {
   "cell_type": "code",
   "execution_count": null,
   "metadata": {
    "tags": [
     "code"
    ]
   },
   "outputs": [],
   "source": [
    "git clone https://github.com/charmed-kubernetes/bundle.git\n",
    "sed -i '/^ *charm: kubernetes-worker/,/^ *[^:]*:/s/constraints: cores=2 mem=8G root-disk=16G/constraints: cores=8 mem=32G root-disk=100G/' ./bundle/releases/1.24/bundle.yaml"
   ]
  },
  {
   "attachments": {},
   "cell_type": "markdown",
   "metadata": {
    "tags": [
     "text"
    ]
   },
   "source": [
    "`bundle.yaml` should contain updated constraints for `kubernetes-worker`:\n",
    "\n",
    "```shell\n",
    "---\n",
    "  kubernetes-worker:\n",
    "    annotations:\n",
    "      gui-x: '90'\n",
    "      gui-y: '850'\n",
    "    channel: 1.24/stable\n",
    "    charm: kubernetes-worker\n",
    "    constraints: cores=8 mem=32G root-disk=100G\n",
    "    expose: true\n",
    "    num_units: 3\n",
    "    options:\n",
    "      channel: 1.24/stable\n",
    "---\n",
    "```\n",
    "\n",
    "Deploy updated Charmed Kubernetes bundle on AWS with storage overlay and wait for cluster to complete deployment:"
   ]
  },
  {
   "cell_type": "code",
   "execution_count": null,
   "metadata": {
    "tags": [
     "code"
    ]
   },
   "outputs": [],
   "source": [
    "juju deploy ./bundle/releases/1.24/bundle.yaml --overlay ./bundle/overlays/aws-storage-overlay.yaml --trust\n",
    "juju scp kubernetes-control-plane/0:config ~/.kube/config\n",
    "juju add-k8s charmed-k8s-aws --controller $(juju switch | cut -d: -f1) --storage=cdk-ebs\n",
    "juju-wait -m default -t 3600"
   ]
  },
  {
   "attachments": {},
   "cell_type": "markdown",
   "metadata": {
    "tags": [
     "text"
    ]
   },
   "source": [
    "### Deploy Charmed Kubeflow on created Charmed Kubernetes cluster on AWS\n",
    "\n",
    "Add `kubeflow` model to the controller and deploy desired version of Charmed Kubeflow, eg. version 1.7, and wait for it to complete deployment:"
   ]
  },
  {
   "cell_type": "code",
   "execution_count": null,
   "metadata": {
    "tags": [
     "code"
    ]
   },
   "outputs": [],
   "source": [
    "juju add-model kubeflow charmed-k8s-aws\n",
    "juju deploy kubeflow --channel 1.7/stable --trust\n",
    "juju-wait -m kubeflow -t 2700"
   ]
  },
  {
   "attachments": {},
   "cell_type": "markdown",
   "metadata": {
    "tags": [
     "text"
    ]
   },
   "source": [
    "Change gateway service type to `Nodeport`:"
   ]
  },
  {
   "cell_type": "code",
   "execution_count": null,
   "metadata": {
    "tags": [
     "code"
    ]
   },
   "outputs": [],
   "source": [
    "kubectl -n kubeflow patch svc istio-ingressgateway-workload -p '{\"spec\":{\"type\":\"NodePort\"}}'"
   ]
  },
  {
   "attachments": {},
   "cell_type": "markdown",
   "metadata": {
    "tags": [
     "text"
    ]
   },
   "source": [
    "The updated `istio-ingressgateway-workload` service should have type updated to `NodePort`:\n",
    "\n",
    "```shell\n",
    "---\n",
    "apiVersion: v1\n",
    "kind: Service\n",
    "metadata:\n",
    ". . .\n",
    "  name: istio-ingressgateway-workload\n",
    "  namespace: kubeflow\n",
    "spec:\n",
    "  clusterIP: 10.152.183.219\n",
    "  clusterIPs:\n",
    "  - 10.152.183.219\n",
    "  externalTrafficPolicy: Cluster\n",
    "  internalTrafficPolicy: Cluster\n",
    "  ipFamilies:\n",
    "  - IPv4\n",
    "  ipFamilyPolicy: SingleStack\n",
    "  ports:\n",
    "  - name: http2\n",
    "    nodePort: 31670\n",
    "    port: 80\n",
    "    protocol: TCP\n",
    "    targetPort: 8080\n",
    "  - name: https\n",
    "    nodePort: 32359\n",
    "    port: 443\n",
    "    protocol: TCP\n",
    "    targetPort: 8443\n",
    "  selector:\n",
    "    istio: ingressgateway\n",
    "  sessionAffinity: None\n",
    "  type: NodePort\n",
    "status:\n",
    "  loadBalancer: {}\n",
    "---\n",
    "```\n",
    "\n",
    "Set the `dex-auth` and `oidc-gatekeeper` public URLs with IP address of the node and the port value equal to `NodePort` of `istio-ingressgateway-workload` service:"
   ]
  },
  {
   "cell_type": "code",
   "execution_count": null,
   "metadata": {
    "tags": [
     "code"
    ]
   },
   "outputs": [],
   "source": [
    "NODE_IP=$(kubectl -n kubeflow get nodes -o wide | sed -n '2 p' | awk '{print $7}')\n",
    "NODE_PORT=$(kubectl -n kubeflow get svc istio-ingressgateway-workload -o=json | jq '(.spec.ports) | .[] | select(.name==\"http2\") | (.nodePort)')\n",
    "juju config dex-auth public-url=\"http://${NODE_IP}:${NODE_PORT}\"\n",
    "juju config oidc-gatekeeper public-url=\"http://${NODE_IP}:${NODE_PORT}\"\n",
    "curl -f -LI \"http://${NODE_IP}:${NODE_PORT}\""
   ]
  }
 ],
 "metadata": {
  "kernelspec": {
   "display_name": "Python 3",
   "language": "python",
   "name": "python3"
  },
  "language_info": {
   "name": "python",
   "version": "3.10.6"
  },
  "orig_nbformat": 4,
  "vscode": {
   "interpreter": {
    "hash": "e7370f93d1d0cde622a1f8e1c04877d8463912d04d973331ad4851f04de6915a"
   }
  }
 },
 "nbformat": 4,
 "nbformat_minor": 2
}
